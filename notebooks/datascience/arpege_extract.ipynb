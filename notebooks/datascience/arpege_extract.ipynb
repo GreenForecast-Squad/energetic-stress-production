{
 "cells": [
  {
   "cell_type": "markdown",
   "metadata": {},
   "source": [
    "# Analyse the ARPEGE previsions\n",
    "\n",
    "This notebook extract the useful information from the Arpege previsions.\n",
    "In particular it computes on the France Metopolitan territory:\n",
    "- the average wind speed\n",
    "- the total solar energy"
   ]
  },
  {
   "cell_type": "code",
   "execution_count": null,
   "metadata": {},
   "outputs": [],
   "source": [
    "from pathlib import Path\n",
    "import pygrib as pg\n",
    "import numpy as np\n",
    "import matplotlib.pyplot as plt\n",
    "import pandas as pd\n",
    "import geopandas as gpd\n",
    "from tqdm.auto import tqdm\n",
    "from joblib import Parallel, delayed, Memory\n",
    "\n",
    "memory = Memory(\"cache\", verbose=0)"
   ]
  },
  {
   "cell_type": "code",
   "execution_count": null,
   "metadata": {},
   "outputs": [],
   "source": [
    "start_date = \"2022-02-01\"\n",
    "end_date = \"2024-04-08\"\n",
    "list_date = pd.date_range(start=start_date, end=end_date, freq=\"D\")\n",
    "list_date = list_date.strftime(\"%Y-%m-%d\")\n",
    "cases = [\n",
    "    \"00H12H\",\n",
    "    \"13H24H\",\n",
    "]  # \"25H36H\", \"37H48H\", \"49H60H\", \"61H72H\", \"73H84H\", \"85H96H\", \"97H102H\"]\n",
    "filename_to_save_template = (\n",
    "    \"/shared/home/antoine-2etavant/data/arpege/{date}_SP1_{case}.grib2\"\n",
    ")\n",
    "filename = filename_to_save_template.format(date=list_date[-1], case=cases[1])"
   ]
  },
  {
   "cell_type": "markdown",
   "metadata": {},
   "source": [
    "# Visulation of the data"
   ]
  },
  {
   "cell_type": "code",
   "execution_count": null,
   "metadata": {},
   "outputs": [],
   "source": [
    "def print_all_messages(filename):\n",
    "    i = 1\n",
    "    with open(filename, \"r\") as f:\n",
    "        grbs = pg.open(f.name)\n",
    "        names = np.unique([grb.nameECMF for grb in grbs])\n",
    "    print(\"\\n\".join(names))\n",
    "\n",
    "\n",
    "print_all_messages(filename)"
   ]
  },
  {
   "cell_type": "code",
   "execution_count": null,
   "metadata": {},
   "outputs": [],
   "source": [
    "with pg.open(filename) as grbs:\n",
    "    grb = grbs[49]\n",
    "    values = grb.values\n",
    "    lats, lons = grb.latlons()\n",
    "    print(grb.name)"
   ]
  },
  {
   "cell_type": "code",
   "execution_count": null,
   "metadata": {},
   "outputs": [],
   "source": [
    "metropole_geojson_file = \"./metropole.geojson\"\n",
    "metropole = gpd.read_file(metropole_geojson_file)"
   ]
  },
  {
   "cell_type": "code",
   "execution_count": null,
   "metadata": {},
   "outputs": [],
   "source": [
    "from shapely.geometry import Point, Polygon\n",
    "import geojson\n",
    "\n",
    "# create mask if point inside metropole\n",
    "mask = np.zeros_like(lats, dtype=bool)\n",
    "\n",
    "metropole = geojson.load(open(metropole_geojson_file))\n",
    "poly = Polygon(metropole[\"geometry\"][\"coordinates\"][0][0])\n",
    "poly"
   ]
  },
  {
   "cell_type": "code",
   "execution_count": null,
   "metadata": {},
   "outputs": [],
   "source": [
    "import cartopy.crs as ccrs\n",
    "from cartopy import feature"
   ]
  },
  {
   "cell_type": "code",
   "execution_count": null,
   "metadata": {},
   "outputs": [],
   "source": [
    "# plot the values overlaped with the metropole\n",
    "fig, ax = plt.subplots(subplot_kw={\"projection\": ccrs.PlateCarree()}, figsize=(10, 10))\n",
    "im = ax.imshow(\n",
    "    values, extent=(lons.min(), lons.max(), lats.min(), lats.max()), cmap=\"turbo\"\n",
    ")\n",
    "cbar = fig.colorbar(im, ax=ax, shrink=0.5)\n",
    "\n",
    "ax.add_feature(feature.BORDERS.with_scale(\"10m\"), color=\"black\", linewidth=1)\n",
    "ax.add_feature(feature.COASTLINE.with_scale(\"10m\"), color=\"black\", linewidth=1)\n",
    "\n",
    "ax.set_title(\"Prévision de la vitesse moyenne du vent ARPEGE \\n le 2024-04-08 à 13H\")\n",
    "cbar.set_label(\"Vitesse du vent (m/s)\")"
   ]
  },
  {
   "cell_type": "code",
   "execution_count": null,
   "metadata": {},
   "outputs": [],
   "source": [
    "with pg.open(filename) as grbs:\n",
    "    grb = grbs[168]\n",
    "    values_flux = grb.values\n",
    "    lats, lons = grb.latlons()\n",
    "    print(grb.name)\n",
    "\n",
    "# plot the values overlaped with the metropole\n",
    "fig, ax = plt.subplots(subplot_kw={\"projection\": ccrs.PlateCarree()}, figsize=(10, 10))\n",
    "im = ax.imshow(\n",
    "    values_flux, extent=(lons.min(), lons.max(), lats.min(), lats.max()), cmap=\"turbo\"\n",
    ")\n",
    "cbar = fig.colorbar(im, ax=ax, shrink=0.5)\n",
    "\n",
    "ax.add_feature(feature.BORDERS.with_scale(\"10m\"), color=\"black\", linewidth=1)\n",
    "ax.add_feature(feature.COASTLINE.with_scale(\"10m\"), color=\"black\", linewidth=1)\n",
    "\n",
    "ax.set_title(\"Prévision du flux solaire ARPEGE \\n le 2024-04-08 de 0H à 24H\")\n",
    "cbar.set_label(\"Flux solaire (J/m²)\")"
   ]
  },
  {
   "cell_type": "markdown",
   "metadata": {},
   "source": [
    "## Territory mask\n",
    "\n",
    "Let's create a mask of the pixels included in the France territory."
   ]
  },
  {
   "cell_type": "code",
   "execution_count": null,
   "metadata": {},
   "outputs": [],
   "source": [
    "bouns = poly.envelope.bounds\n",
    "\n",
    "for i in tqdm(range(lats.shape[0])):\n",
    "    if lats[i, 0] < bouns[1] or lats[i, -1] > bouns[3]:\n",
    "        continue\n",
    "    for j in range(lats.shape[1]):\n",
    "        if lons[i, j] < bouns[0] or lons[i, j] > bouns[2]:\n",
    "            continue\n",
    "        if poly.contains(Point(lons[i, j], lats[i, j])):\n",
    "            mask[i, j] = True"
   ]
  },
  {
   "cell_type": "code",
   "execution_count": null,
   "metadata": {},
   "outputs": [],
   "source": [
    "fig, ax = plt.subplots(subplot_kw={\"projection\": ccrs.PlateCarree()}, figsize=(10, 10))\n",
    "im = ax.imshow(\n",
    "    mask, extent=(lons.min(), lons.max(), lats.min(), lats.max()), cmap=\"turbo\"\n",
    ")\n",
    "ax.set_title(\"Mask de la métropole\")\n",
    "\n",
    "# add the x ticks and y ticks\n",
    "ax.set_xticks([round(t) for t in np.linspace(lons.min(), lons.max(), 10)])\n",
    "ax.set_yticks([round(t) for t in np.linspace(lats.min(), lats.max(), 10)])"
   ]
  },
  {
   "cell_type": "markdown",
   "metadata": {},
   "source": [
    "# Getting the daily sum flux"
   ]
  },
  {
   "cell_type": "code",
   "execution_count": null,
   "metadata": {},
   "outputs": [],
   "source": [
    "IDX_SOLAR_SHORT_ACCUM_DAILY = 168\n",
    "\n",
    "\n",
    "@memory.cache\n",
    "def get_france_average_of_index(gribfilename, index, mask=mask, verbose=False):\n",
    "    grbs = pg.open(gribfilename)\n",
    "    if verbose:\n",
    "        print(grbs.message(index))\n",
    "    grb = grbs[index]\n",
    "\n",
    "    data = grb.values\n",
    "    # latlongs = grb.latlons()\n",
    "    grbs.close()\n",
    "    # lats, lons = latlongs\n",
    "    value = data.mean(where=mask)\n",
    "    return value\n",
    "\n",
    "\n",
    "def get_daily_solar_short_accum(date):\n",
    "    gribfilename = filename_to_save_template.format(date=date, case=cases[1])\n",
    "    return get_france_average_of_index(gribfilename, IDX_SOLAR_SHORT_ACCUM_DAILY)\n",
    "\n",
    "\n",
    "get_daily_solar_short_accum(list_date[1])"
   ]
  },
  {
   "cell_type": "code",
   "execution_count": null,
   "metadata": {},
   "outputs": [],
   "source": [
    "IDXs_WIND_SPEED_CASE1 = list(range(49, 61))[:-1]  # removing the 24h prevision\n",
    "IDXs_WIND_SPEED_CASE0 = list(range(53, 66))\n",
    "\n",
    "len(IDXs_WIND_SPEED_CASE1) + len(IDXs_WIND_SPEED_CASE0)\n",
    "\n",
    "\n",
    "def get_instant_wind_speed(date):\n",
    "    list_wind_speed = []\n",
    "    for case, list_idx in zip(cases, [IDXs_WIND_SPEED_CASE0, IDXs_WIND_SPEED_CASE1]):\n",
    "        gribfilename = filename_to_save_template.format(date=date, case=case)\n",
    "        for idx in list_idx:\n",
    "            list_wind_speed.append(get_france_average_of_index(gribfilename, idx))\n",
    "    return list_wind_speed\n",
    "\n",
    "\n",
    "def get_daily_wind_speed(date):\n",
    "    return np.mean(get_instant_wind_speed(date))\n",
    "\n",
    "\n",
    "wind_speed = get_daily_wind_speed(list_date[1])\n",
    "wind_speed"
   ]
  },
  {
   "cell_type": "code",
   "execution_count": null,
   "metadata": {},
   "outputs": [],
   "source": [
    "def get_data_for_date(date):\n",
    "    try:\n",
    "        solar = get_daily_solar_short_accum(date)\n",
    "    except Exception as e:\n",
    "        print(f\"Error for solar {date}: {e}\")\n",
    "        solar = np.nan\n",
    "    try:\n",
    "        wind = get_daily_wind_speed(date)\n",
    "    except Exception as e:\n",
    "        print(f\"Error for wind {date}: {e}\")\n",
    "        wind = np.nan\n",
    "    return solar, wind"
   ]
  },
  {
   "cell_type": "code",
   "execution_count": null,
   "metadata": {},
   "outputs": [],
   "source": [
    "# use Parallel to speed up the computation\n",
    "results = Parallel(n_jobs=4)(\n",
    "    delayed(get_data_for_date)(date) for date in tqdm(list_date)\n",
    ")\n",
    "data = pd.DataFrame(\n",
    "    [{\"sun\": r[0], \"wind\": r[1]} for r in results], index=list_date[: len(results)]\n",
    ")\n",
    "data.index = pd.to_datetime(data.index)\n",
    "data.index.name = \"date\"\n",
    "data.to_csv(\"solar_wind_data.csv\")"
   ]
  },
  {
   "cell_type": "code",
   "execution_count": null,
   "metadata": {},
   "outputs": [],
   "source": [
    "data = pd.read_csv(\"solar_wind_data.csv\", index_col=\"date\", parse_dates=True)\n",
    "fig, ax = plt.subplots()\n",
    "ax = data[\"sun\"].plot(ax=ax)\n",
    "ax2 = ax.twinx()\n",
    "data[\"wind\"].plot(ax=ax2, color=\"#ff7f0e\")\n",
    "\n",
    "ax.set_xlabel(\"Date\")\n",
    "ax.set_ylabel(\"Solar flux (J/m²)\", color=colors[0])\n",
    "ax2.set_ylabel(\"Wind speed (m/s)\", color=colors[1])\n",
    "ax.set_title(\n",
    "    \"Energie solaire et vitesse moyenne du vent en France métropolitaine \\n de 2022-02-01 à 2024-04-08\"\n",
    ")\n",
    "\n",
    "ax.legend([\"Solar flux\"], loc=\"upper left\")\n",
    "ax2.legend([\"Wind speed\"], loc=\"upper right\")\n",
    "fig.autofmt_xdate()\n",
    "plt.savefig(\"daily_weather.png\")"
   ]
  },
  {
   "cell_type": "markdown",
   "metadata": {},
   "source": [
    "# Archive\n",
    "This following figure is not used but I keep it as it is quite nice."
   ]
  },
  {
   "cell_type": "code",
   "execution_count": null,
   "metadata": {},
   "outputs": [],
   "source": [
    "grbs = pg.open(filename)\n",
    "grb = grbs[19]\n",
    "data_wind = grb.values\n",
    "lats, lons = grb.latlons()\n",
    "grbs.close()\n",
    "\n",
    "fig, ax = plt.subplots(figsize=(15, 10), subplot_kw={\"projection\": ccrs.PlateCarree()})\n",
    "im = ax.imshow(\n",
    "    data_wind,\n",
    "    origin=\"upper\",\n",
    "    extent=(lons.min(), 360, lats.min(), lats.max()),\n",
    "    transform=ccrs.PlateCarree(),\n",
    "    cmap=\"plasma\",\n",
    ")"
   ]
  }
 ],
 "metadata": {
  "kernelspec": {
   "display_name": "latest",
   "language": "python",
   "name": "python3"
  },
  "language_info": {
   "codemirror_mode": {
    "name": "ipython",
    "version": 3
   },
   "file_extension": ".py",
   "mimetype": "text/x-python",
   "name": "python",
   "nbconvert_exporter": "python",
   "pygments_lexer": "ipython3",
   "version": "3.11.0"
  }
 },
 "nbformat": 4,
 "nbformat_minor": 2
}
