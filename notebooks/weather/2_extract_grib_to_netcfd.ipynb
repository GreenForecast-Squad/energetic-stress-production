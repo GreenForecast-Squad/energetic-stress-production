{
 "cells": [
  {
   "cell_type": "markdown",
   "metadata": {},
   "source": [
    "# Objectif: extraire les données utiles des fichier GRIB en gardant les informations de géolocalisation\n",
    "\n"
   ]
  },
  {
   "cell_type": "code",
   "execution_count": 1,
   "metadata": {},
   "outputs": [
    {
     "name": "stdout",
     "output_type": "stream",
     "text": [
      "Looking in indexes: https://pypi.org/simple, https://gitlab.ecoco2.com/api/v4/groups/recherche/-/packages/pypi/simple\n",
      "Requirement already satisfied: tqdm in /home/ubuntu/.local/share/hatch/env/virtual/energy-forecast/S-pRwtAe/energy-forecast/lib/python3.10/site-packages (4.66.4)\n",
      "Requirement already satisfied: dask[diagnostics] in /home/ubuntu/.local/share/hatch/env/virtual/energy-forecast/S-pRwtAe/energy-forecast/lib/python3.10/site-packages (2024.6.2)\n",
      "Requirement already satisfied: click>=8.1 in /home/ubuntu/.local/share/hatch/env/virtual/energy-forecast/S-pRwtAe/energy-forecast/lib/python3.10/site-packages (from dask[diagnostics]) (8.1.7)\n",
      "Requirement already satisfied: cloudpickle>=1.5.0 in /home/ubuntu/.local/share/hatch/env/virtual/energy-forecast/S-pRwtAe/energy-forecast/lib/python3.10/site-packages (from dask[diagnostics]) (3.0.0)\n",
      "Requirement already satisfied: fsspec>=2021.09.0 in /home/ubuntu/.local/share/hatch/env/virtual/energy-forecast/S-pRwtAe/energy-forecast/lib/python3.10/site-packages (from dask[diagnostics]) (2024.6.1)\n",
      "Requirement already satisfied: packaging>=20.0 in /home/ubuntu/.local/share/hatch/env/virtual/energy-forecast/S-pRwtAe/energy-forecast/lib/python3.10/site-packages (from dask[diagnostics]) (24.1)\n",
      "Requirement already satisfied: partd>=1.2.0 in /home/ubuntu/.local/share/hatch/env/virtual/energy-forecast/S-pRwtAe/energy-forecast/lib/python3.10/site-packages (from dask[diagnostics]) (1.4.2)\n",
      "Requirement already satisfied: pyyaml>=5.3.1 in /home/ubuntu/.local/share/hatch/env/virtual/energy-forecast/S-pRwtAe/energy-forecast/lib/python3.10/site-packages (from dask[diagnostics]) (6.0.1)\n",
      "Requirement already satisfied: toolz>=0.10.0 in /home/ubuntu/.local/share/hatch/env/virtual/energy-forecast/S-pRwtAe/energy-forecast/lib/python3.10/site-packages (from dask[diagnostics]) (0.12.1)\n",
      "Requirement already satisfied: importlib-metadata>=4.13.0 in /home/ubuntu/.local/share/hatch/env/virtual/energy-forecast/S-pRwtAe/energy-forecast/lib/python3.10/site-packages (from dask[diagnostics]) (8.0.0)\n",
      "Requirement already satisfied: bokeh>=2.4.2 in /home/ubuntu/.local/share/hatch/env/virtual/energy-forecast/S-pRwtAe/energy-forecast/lib/python3.10/site-packages (from dask[diagnostics]) (3.4.2)\n",
      "Requirement already satisfied: jinja2>=2.10.3 in /home/ubuntu/.local/share/hatch/env/virtual/energy-forecast/S-pRwtAe/energy-forecast/lib/python3.10/site-packages (from dask[diagnostics]) (3.1.4)\n",
      "Requirement already satisfied: contourpy>=1.2 in /home/ubuntu/.local/share/hatch/env/virtual/energy-forecast/S-pRwtAe/energy-forecast/lib/python3.10/site-packages (from bokeh>=2.4.2->dask[diagnostics]) (1.2.1)\n",
      "Requirement already satisfied: numpy>=1.16 in /home/ubuntu/.local/share/hatch/env/virtual/energy-forecast/S-pRwtAe/energy-forecast/lib/python3.10/site-packages (from bokeh>=2.4.2->dask[diagnostics]) (1.26.4)\n",
      "Requirement already satisfied: pandas>=1.2 in /home/ubuntu/.local/share/hatch/env/virtual/energy-forecast/S-pRwtAe/energy-forecast/lib/python3.10/site-packages (from bokeh>=2.4.2->dask[diagnostics]) (2.2.2)\n",
      "Requirement already satisfied: pillow>=7.1.0 in /home/ubuntu/.local/share/hatch/env/virtual/energy-forecast/S-pRwtAe/energy-forecast/lib/python3.10/site-packages (from bokeh>=2.4.2->dask[diagnostics]) (10.3.0)\n",
      "Requirement already satisfied: tornado>=6.2 in /home/ubuntu/.local/share/hatch/env/virtual/energy-forecast/S-pRwtAe/energy-forecast/lib/python3.10/site-packages (from bokeh>=2.4.2->dask[diagnostics]) (6.4.1)\n",
      "Requirement already satisfied: xyzservices>=2021.09.1 in /home/ubuntu/.local/share/hatch/env/virtual/energy-forecast/S-pRwtAe/energy-forecast/lib/python3.10/site-packages (from bokeh>=2.4.2->dask[diagnostics]) (2024.6.0)\n",
      "Requirement already satisfied: zipp>=0.5 in /home/ubuntu/.local/share/hatch/env/virtual/energy-forecast/S-pRwtAe/energy-forecast/lib/python3.10/site-packages (from importlib-metadata>=4.13.0->dask[diagnostics]) (3.19.2)\n",
      "Requirement already satisfied: MarkupSafe>=2.0 in /home/ubuntu/.local/share/hatch/env/virtual/energy-forecast/S-pRwtAe/energy-forecast/lib/python3.10/site-packages (from jinja2>=2.10.3->dask[diagnostics]) (2.1.5)\n",
      "Requirement already satisfied: locket in /home/ubuntu/.local/share/hatch/env/virtual/energy-forecast/S-pRwtAe/energy-forecast/lib/python3.10/site-packages (from partd>=1.2.0->dask[diagnostics]) (1.0.0)\n",
      "Requirement already satisfied: python-dateutil>=2.8.2 in /home/ubuntu/.local/share/hatch/env/virtual/energy-forecast/S-pRwtAe/energy-forecast/lib/python3.10/site-packages (from pandas>=1.2->bokeh>=2.4.2->dask[diagnostics]) (2.9.0.post0)\n",
      "Requirement already satisfied: pytz>=2020.1 in /home/ubuntu/.local/share/hatch/env/virtual/energy-forecast/S-pRwtAe/energy-forecast/lib/python3.10/site-packages (from pandas>=1.2->bokeh>=2.4.2->dask[diagnostics]) (2024.1)\n",
      "Requirement already satisfied: tzdata>=2022.7 in /home/ubuntu/.local/share/hatch/env/virtual/energy-forecast/S-pRwtAe/energy-forecast/lib/python3.10/site-packages (from pandas>=1.2->bokeh>=2.4.2->dask[diagnostics]) (2024.1)\n",
      "Requirement already satisfied: six>=1.5 in /home/ubuntu/.local/share/hatch/env/virtual/energy-forecast/S-pRwtAe/energy-forecast/lib/python3.10/site-packages (from python-dateutil>=2.8.2->pandas>=1.2->bokeh>=2.4.2->dask[diagnostics]) (1.16.0)\n",
      "\n",
      "\u001b[1m[\u001b[0m\u001b[34;49mnotice\u001b[0m\u001b[1;39;49m]\u001b[0m\u001b[39;49m A new release of pip is available: \u001b[0m\u001b[31;49m24.0\u001b[0m\u001b[39;49m -> \u001b[0m\u001b[32;49m24.1.1\u001b[0m\n",
      "\u001b[1m[\u001b[0m\u001b[34;49mnotice\u001b[0m\u001b[1;39;49m]\u001b[0m\u001b[39;49m To update, run: \u001b[0m\u001b[32;49mpip install --upgrade pip\u001b[0m\n",
      "Note: you may need to restart the kernel to use updated packages.\n"
     ]
    }
   ],
   "source": [
    "%pip install \"dask[diagnostics]\" tqdm"
   ]
  },
  {
   "cell_type": "code",
   "execution_count": 2,
   "metadata": {},
   "outputs": [
    {
     "name": "stderr",
     "output_type": "stream",
     "text": [
      "/home/ubuntu/.local/share/hatch/env/virtual/energy-forecast/S-pRwtAe/energy-forecast/lib/python3.10/site-packages/tqdm/auto.py:21: TqdmWarning: IProgress not found. Please update jupyter and ipywidgets. See https://ipywidgets.readthedocs.io/en/stable/user_install.html\n",
      "  from .autonotebook import tqdm as notebook_tqdm\n"
     ]
    }
   ],
   "source": [
    "import pandas as pd\n",
    "import xarray as xr\n",
    "from pathlib import Path\n",
    "from tqdm.auto import tqdm"
   ]
  },
  {
   "cell_type": "code",
   "execution_count": 3,
   "metadata": {},
   "outputs": [],
   "source": [
    "start_date = \"2022-02-01\"\n",
    "end_date = \"2024-04-08\"\n",
    "list_date = pd.date_range(start=start_date, end=end_date, freq=\"D\")\n",
    "list_date = list_date.strftime(\"%Y-%m-%d\")\n",
    "cases_forecast = {\n",
    "    \"J+0\": [\"00H12H\", \"13H24H\"],\n",
    "    \"J+1\": [\"25H36H\", \"37H48H\"],\n",
    "    \"J+2\": [\"49H60H\", \"61H72H\"],\n",
    "    \"J+3\": [\"73H84H\", \"85H96H\"],\n",
    "}\n",
    "\n",
    "all_cases = [\n",
    "    \"00H12H\",\n",
    "    \"13H24H\",\n",
    "    \"25H36H\",\n",
    "    \"37H48H\",\n",
    "    \"49H60H\",\n",
    "    \"61H72H\",\n",
    "    \"73H84H\",\n",
    "    \"85H96H\",\n",
    "]\n",
    "\n",
    "filename_save_template = (\n",
    "    \"/shared/home/antoine-2etavant/data/arpege/{date}_{SPVALUE}_{case}.grib2\"\n",
    ")\n",
    "\n",
    "new_filename_save_template = (\n",
    "    \"/shared/home/antoine-2etavant/data/weather/{variable}/{date}.nc\"\n",
    ")"
   ]
  },
  {
   "cell_type": "code",
   "execution_count": 4,
   "metadata": {},
   "outputs": [],
   "source": [
    "KEYS_FILTER_SSPD = {\n",
    "    \"typeOfLevel\": \"surface\",\n",
    "    \"cfVarName\": \"ssrd\",\n",
    "}\n",
    "KEYS_FILTER_WIND = {\n",
    "    \"typeOfLevel\": \"heightAboveGround\",\n",
    "    \"level\": 10,\n",
    "    \"cfVarName\": \"si10\",\n",
    "}\n",
    "KEYS_FILTER_T2M = {\n",
    "    \"typeOfLevel\": \"heightAboveGround\",\n",
    "    \"level\": 2,\n",
    "    \"cfVarName\": \"t2m\",\n",
    "}\n",
    "KEYS_FILTER_SSPD_TOTAL = {\n",
    "    \"typeOfLevel\": \"surface\",\n",
    "    \"cfVarName\": \"ssr\",\n",
    "}"
   ]
  },
  {
   "cell_type": "code",
   "execution_count": 5,
   "metadata": {},
   "outputs": [
    {
     "data": {
      "text/plain": [
       "{'min_lon': -4.79542,\n",
       " 'max_lon': 9.55996,\n",
       " 'min_lat': 41.36484,\n",
       " 'max_lat': 51.089}"
      ]
     },
     "execution_count": 5,
     "metadata": {},
     "output_type": "execute_result"
    }
   ],
   "source": [
    "import yaml\n",
    "\n",
    "filename_france_bounds = \"../../data/geo/france_bounds.yml\"\n",
    "\n",
    "with open(filename_france_bounds, \"r\") as stream:\n",
    "    france_bounds = yaml.safe_load(stream)\n",
    "france_bounds"
   ]
  },
  {
   "cell_type": "code",
   "execution_count": 6,
   "metadata": {},
   "outputs": [],
   "source": [
    "def select_region(ds, min_lon, max_lon, min_lat, max_lat):\n",
    "    \"\"\"Check if 'step' is in the dataset's coordinates\n",
    "    and return the dataset with the selected region.\n",
    "    \"\"\"\n",
    "    if \"step\" not in ds.coords:\n",
    "        print(\"step not in coords\")\n",
    "        print(ds.encoding[\"source\"])\n",
    "        return None\n",
    "    if \"longitude\" not in ds.coords:\n",
    "        print(\"longitude not in coords\")\n",
    "        return None\n",
    "    if \"latitude\" not in ds.coords:\n",
    "        print(\"latitude not in coords\")\n",
    "        return None\n",
    "    return ds.sel(longitude=slice(min_lon, max_lon), latitude=slice(max_lat, min_lat))\n",
    "\n",
    "\n",
    "def select_france(ds):\n",
    "    return select_region(ds, **france_bounds)"
   ]
  },
  {
   "cell_type": "code",
   "execution_count": 7,
   "metadata": {},
   "outputs": [],
   "source": [
    "date = list_date[0]\n",
    "\n",
    "\n",
    "def process_one_date_generic(\n",
    "    date: str,\n",
    "    variable_name: str,\n",
    "    force_recompute: bool = False,\n",
    "    open_file_callback=None,\n",
    "    spvalue=\"SP1\",\n",
    "):\n",
    "    new_filename = Path(\n",
    "        new_filename_save_template.format(date=date, variable=variable_name)\n",
    "    )\n",
    "    if new_filename.exists() and not force_recompute:\n",
    "        print(f\"File {new_filename} already exists\")\n",
    "        return\n",
    "    list_filenames = [\n",
    "        filename_save_template.format(date=date, case=case, SPVALUE=spvalue)\n",
    "        for case in all_cases\n",
    "    ]\n",
    "    list_of_filenames_from_case_exists = [\n",
    "        filename for filename in list_filenames if Path(filename).exists()\n",
    "    ]\n",
    "    if len(list_of_filenames_from_case_exists) == 0:\n",
    "        print(f\"No file found for date {date}\")\n",
    "        return\n",
    "    da = open_file_callback(list_of_filenames_from_case_exists)\n",
    "    new_filename.parent.mkdir(parents=True, exist_ok=True)\n",
    "    try:\n",
    "        da.to_netcdf(new_filename)\n",
    "    except Exception as e:\n",
    "        print(f\"Error while saving {new_filename}: {e}\")\n",
    "    return\n",
    "\n",
    "\n",
    "def open_windspeed(list_of_filenames_from_case_exists):\n",
    "    da_wind_10m = xr.concat(\n",
    "        [\n",
    "            xr.open_mfdataset(\n",
    "                filenames,\n",
    "                engine=\"cfgrib\",\n",
    "                # parallel=False,\n",
    "                backend_kwargs={\"filter_by_keys\": KEYS_FILTER_WIND},\n",
    "                concat_dim=\"time\",\n",
    "                preprocess=select_france,\n",
    "                combine=\"nested\",\n",
    "                # chunks={\"time\": 10},\n",
    "            ).si10.drop_vars(\"heightAboveGround\")\n",
    "            for filenames in list_of_filenames_from_case_exists\n",
    "        ],\n",
    "        dim=\"step\",\n",
    "    )\n",
    "    da_wind_10m.name = \"wind_speed\"\n",
    "    return da_wind_10m\n",
    "\n",
    "\n",
    "def process_one_date_wind(date, force_recompute=False):\n",
    "    process_one_date_generic(\n",
    "        date,\n",
    "        \"wind_speed\",\n",
    "        spvalue=\"SP1\",\n",
    "        force_recompute=force_recompute,\n",
    "        open_file_callback=open_windspeed,\n",
    "    )\n",
    "\n",
    "\n",
    "def open_sunflux(list_of_filenames_from_case_exists):\n",
    "    da_sunflux = xr.concat(\n",
    "        [\n",
    "            xr.open_mfdataset(\n",
    "                filenames,\n",
    "                engine=\"cfgrib\",\n",
    "                # parallel=False,\n",
    "                backend_kwargs={\"filter_by_keys\": KEYS_FILTER_SSPD},\n",
    "                concat_dim=\"time\",\n",
    "                preprocess=select_france,\n",
    "                combine=\"nested\",\n",
    "                # chunks={\"time\": 10},\n",
    "            ).ssrd.drop_vars(\"surface\")\n",
    "            for filenames in list_of_filenames_from_case_exists\n",
    "        ],\n",
    "        dim=\"step\",\n",
    "    )\n",
    "    da_sunflux.name = \"sun_flux\"\n",
    "    return da_sunflux\n",
    "\n",
    "\n",
    "def open_temperature(list_of_filenames_from_case_exists):\n",
    "    da_temperature = xr.concat(\n",
    "        [\n",
    "            xr.open_mfdataset(\n",
    "                filenames,\n",
    "                engine=\"cfgrib\",\n",
    "                # parallel=False,\n",
    "                backend_kwargs={\"filter_by_keys\": KEYS_FILTER_T2M},\n",
    "                concat_dim=\"time\",\n",
    "                preprocess=select_france,\n",
    "                combine=\"nested\",\n",
    "                # chunks={\"time\": 10},\n",
    "            ).t2m.drop_vars(\"heightAboveGround\")\n",
    "            for filenames in list_of_filenames_from_case_exists\n",
    "        ],\n",
    "        dim=\"step\",\n",
    "    )\n",
    "    da_temperature.name = \"temperature\"\n",
    "    return da_temperature\n",
    "\n",
    "\n",
    "def process_one_date_sunflux(date, force_recompute=False):\n",
    "    process_one_date_generic(\n",
    "        date,\n",
    "        \"sun_flux\",\n",
    "        spvalue=\"SP1\",\n",
    "        force_recompute=force_recompute,\n",
    "        open_file_callback=open_sunflux,\n",
    "    )\n",
    "\n",
    "\n",
    "def process_one_date_temperature(date, force_recompute=False):\n",
    "    process_one_date_generic(\n",
    "        date,\n",
    "        \"temperature\",\n",
    "        spvalue=\"SP1\",\n",
    "        force_recompute=force_recompute,\n",
    "        open_file_callback=open_temperature,\n",
    "    )"
   ]
  },
  {
   "cell_type": "code",
   "execution_count": 8,
   "metadata": {},
   "outputs": [],
   "source": [
    "def open_sunflux_total(list_of_filenames_from_case_exists):\n",
    "    da_sunflux = xr.concat(\n",
    "        [\n",
    "            xr.open_mfdataset(\n",
    "                filename,\n",
    "                engine=\"cfgrib\",\n",
    "                # parallel=False,\n",
    "                backend_kwargs={\"filter_by_keys\": KEYS_FILTER_SSPD_TOTAL},\n",
    "                concat_dim=\"time\",\n",
    "                preprocess=select_france,\n",
    "                combine=\"nested\",\n",
    "                # chunks={\"time\": 10},\n",
    "            ).ssr.drop_vars(\"surface\")\n",
    "            for filename in list_of_filenames_from_case_exists\n",
    "        ],\n",
    "        dim=\"step\",\n",
    "    )\n",
    "    da_sunflux.name = \"sun_flux_total\"\n",
    "    return da_sunflux\n",
    "\n",
    "\n",
    "def process_one_date_sunfluxtotal(date, force_recompute=False):\n",
    "    process_one_date_generic(\n",
    "        date,\n",
    "        \"sun_flux_total\",\n",
    "        spvalue=\"SP2\",\n",
    "        force_recompute=force_recompute,\n",
    "        open_file_callback=open_sunflux_total,\n",
    "    )"
   ]
  },
  {
   "cell_type": "code",
   "execution_count": 9,
   "metadata": {},
   "outputs": [],
   "source": [
    "process_one_date_sunflux(date, force_recompute=True)\n",
    "process_one_date_temperature(date, force_recompute=True)\n",
    "process_one_date_wind(date, force_recompute=True)\n",
    "process_one_date_sunfluxtotal(date, force_recompute=True)"
   ]
  },
  {
   "cell_type": "code",
   "execution_count": 10,
   "metadata": {},
   "outputs": [
    {
     "name": "stdout",
     "output_type": "stream",
     "text": [
      "File /shared/home/antoine-2etavant/data/weather/sun_flux/2022-02-01.nc already exists\n",
      "File /shared/home/antoine-2etavant/data/weather/temperature/2022-02-01.nc already exists\n",
      "File /shared/home/antoine-2etavant/data/weather/wind_speed/2022-02-01.nc already exists\n",
      "File /shared/home/antoine-2etavant/data/weather/sun_flux_total/2022-02-01.nc already exists\n"
     ]
    }
   ],
   "source": [
    "process_one_date_sunflux(date, force_recompute=False)\n",
    "process_one_date_temperature(date, force_recompute=False)\n",
    "process_one_date_wind(date, force_recompute=False)\n",
    "process_one_date_sunfluxtotal(date, force_recompute=False)"
   ]
  },
  {
   "cell_type": "code",
   "execution_count": 11,
   "metadata": {},
   "outputs": [],
   "source": [
    "def process_one_date(date):\n",
    "    process_one_date_sunflux(date)\n",
    "    process_one_date_temperature(date)\n",
    "    process_one_date_wind(date)\n",
    "    process_one_date_sunfluxtotal(date)\n",
    "\n",
    "\n",
    "def process_all_dates(list_date) -> None:\n",
    "    for date in tqdm(list_date, maxinterval=1, mininterval=0.1):\n",
    "        process_one_date(date)"
   ]
  },
  {
   "cell_type": "code",
   "execution_count": 12,
   "metadata": {},
   "outputs": [
    {
     "name": "stderr",
     "output_type": "stream",
     "text": [
      "  4%|▎         | 28/798 [00:00<00:02, 267.65it/s]"
     ]
    },
    {
     "name": "stdout",
     "output_type": "stream",
     "text": [
      "File /shared/home/antoine-2etavant/data/weather/sun_flux/2022-02-01.nc already exists\n",
      "File /shared/home/antoine-2etavant/data/weather/temperature/2022-02-01.nc already exists\n",
      "File /shared/home/antoine-2etavant/data/weather/wind_speed/2022-02-01.nc already exists\n",
      "File /shared/home/antoine-2etavant/data/weather/sun_flux_total/2022-02-01.nc already exists\n",
      "File /shared/home/antoine-2etavant/data/weather/sun_flux/2022-02-02.nc already exists\n",
      "File /shared/home/antoine-2etavant/data/weather/temperature/2022-02-02.nc already exists\n",
      "File /shared/home/antoine-2etavant/data/weather/wind_speed/2022-02-02.nc already exists\n",
      "File /shared/home/antoine-2etavant/data/weather/sun_flux_total/2022-02-02.nc already exists\n",
      "File /shared/home/antoine-2etavant/data/weather/sun_flux/2022-02-03.nc already exists\n",
      "File /shared/home/antoine-2etavant/data/weather/temperature/2022-02-03.nc already exists\n",
      "File /shared/home/antoine-2etavant/data/weather/wind_speed/2022-02-03.nc already exists\n",
      "File /shared/home/antoine-2etavant/data/weather/sun_flux_total/2022-02-03.nc already exists\n",
      "File /shared/home/antoine-2etavant/data/weather/sun_flux/2022-02-04.nc already exists\n",
      "File /shared/home/antoine-2etavant/data/weather/temperature/2022-02-04.nc already exists\n",
      "File /shared/home/antoine-2etavant/data/weather/wind_speed/2022-02-04.nc already exists\n",
      "File /shared/home/antoine-2etavant/data/weather/sun_flux_total/2022-02-04.nc already exists\n",
      "File /shared/home/antoine-2etavant/data/weather/sun_flux/2022-02-05.nc already exists\n",
      "File /shared/home/antoine-2etavant/data/weather/temperature/2022-02-05.nc already exists\n",
      "File /shared/home/antoine-2etavant/data/weather/wind_speed/2022-02-05.nc already exists\n",
      "File /shared/home/antoine-2etavant/data/weather/sun_flux_total/2022-02-05.nc already exists\n",
      "File /shared/home/antoine-2etavant/data/weather/sun_flux/2022-02-06.nc already exists\n",
      "File /shared/home/antoine-2etavant/data/weather/temperature/2022-02-06.nc already exists\n",
      "File /shared/home/antoine-2etavant/data/weather/wind_speed/2022-02-06.nc already exists\n",
      "File /shared/home/antoine-2etavant/data/weather/sun_flux_total/2022-02-06.nc already exists\n",
      "File /shared/home/antoine-2etavant/data/weather/sun_flux/2022-02-07.nc already exists\n",
      "File /shared/home/antoine-2etavant/data/weather/temperature/2022-02-07.nc already exists\n",
      "File /shared/home/antoine-2etavant/data/weather/wind_speed/2022-02-07.nc already exists\n",
      "File /shared/home/antoine-2etavant/data/weather/sun_flux_total/2022-02-07.nc already exists\n",
      "File /shared/home/antoine-2etavant/data/weather/sun_flux/2022-02-08.nc already exists\n",
      "File /shared/home/antoine-2etavant/data/weather/temperature/2022-02-08.nc already exists\n",
      "File /shared/home/antoine-2etavant/data/weather/wind_speed/2022-02-08.nc already exists\n",
      "File /shared/home/antoine-2etavant/data/weather/sun_flux_total/2022-02-08.nc already exists\n",
      "File /shared/home/antoine-2etavant/data/weather/sun_flux/2022-02-09.nc already exists\n",
      "File /shared/home/antoine-2etavant/data/weather/temperature/2022-02-09.nc already exists\n",
      "File /shared/home/antoine-2etavant/data/weather/wind_speed/2022-02-09.nc already exists\n",
      "File /shared/home/antoine-2etavant/data/weather/sun_flux_total/2022-02-09.nc already exists\n",
      "File /shared/home/antoine-2etavant/data/weather/sun_flux/2022-02-10.nc already exists\n",
      "File /shared/home/antoine-2etavant/data/weather/temperature/2022-02-10.nc already exists\n",
      "File /shared/home/antoine-2etavant/data/weather/wind_speed/2022-02-10.nc already exists\n",
      "File /shared/home/antoine-2etavant/data/weather/sun_flux_total/2022-02-10.nc already exists\n",
      "File /shared/home/antoine-2etavant/data/weather/sun_flux/2022-02-11.nc already exists\n",
      "File /shared/home/antoine-2etavant/data/weather/temperature/2022-02-11.nc already exists\n",
      "File /shared/home/antoine-2etavant/data/weather/wind_speed/2022-02-11.nc already exists\n",
      "File /shared/home/antoine-2etavant/data/weather/sun_flux_total/2022-02-11.nc already exists\n",
      "File /shared/home/antoine-2etavant/data/weather/sun_flux/2022-02-12.nc already exists\n",
      "File /shared/home/antoine-2etavant/data/weather/temperature/2022-02-12.nc already exists\n",
      "File /shared/home/antoine-2etavant/data/weather/wind_speed/2022-02-12.nc already exists\n",
      "File /shared/home/antoine-2etavant/data/weather/sun_flux_total/2022-02-12.nc already exists\n",
      "File /shared/home/antoine-2etavant/data/weather/sun_flux/2022-02-13.nc already exists\n",
      "File /shared/home/antoine-2etavant/data/weather/temperature/2022-02-13.nc already exists\n",
      "File /shared/home/antoine-2etavant/data/weather/wind_speed/2022-02-13.nc already exists\n",
      "File /shared/home/antoine-2etavant/data/weather/sun_flux_total/2022-02-13.nc already exists\n",
      "File /shared/home/antoine-2etavant/data/weather/sun_flux/2022-02-14.nc already exists\n",
      "File /shared/home/antoine-2etavant/data/weather/temperature/2022-02-14.nc already exists\n",
      "File /shared/home/antoine-2etavant/data/weather/wind_speed/2022-02-14.nc already exists\n",
      "File /shared/home/antoine-2etavant/data/weather/sun_flux_total/2022-02-14.nc already exists\n",
      "File /shared/home/antoine-2etavant/data/weather/sun_flux/2022-02-15.nc already exists\n",
      "File /shared/home/antoine-2etavant/data/weather/temperature/2022-02-15.nc already exists\n",
      "File /shared/home/antoine-2etavant/data/weather/wind_speed/2022-02-15.nc already exists\n",
      "File /shared/home/antoine-2etavant/data/weather/sun_flux_total/2022-02-15.nc already exists\n",
      "File /shared/home/antoine-2etavant/data/weather/sun_flux/2022-02-16.nc already exists\n",
      "File /shared/home/antoine-2etavant/data/weather/temperature/2022-02-16.nc already exists\n",
      "File /shared/home/antoine-2etavant/data/weather/wind_speed/2022-02-16.nc already exists\n",
      "File /shared/home/antoine-2etavant/data/weather/sun_flux_total/2022-02-16.nc already exists\n",
      "File /shared/home/antoine-2etavant/data/weather/sun_flux/2022-02-17.nc already exists\n",
      "File /shared/home/antoine-2etavant/data/weather/temperature/2022-02-17.nc already exists\n",
      "File /shared/home/antoine-2etavant/data/weather/wind_speed/2022-02-17.nc already exists\n",
      "File /shared/home/antoine-2etavant/data/weather/sun_flux_total/2022-02-17.nc already exists\n",
      "File /shared/home/antoine-2etavant/data/weather/sun_flux/2022-02-18.nc already exists\n",
      "File /shared/home/antoine-2etavant/data/weather/temperature/2022-02-18.nc already exists\n",
      "File /shared/home/antoine-2etavant/data/weather/wind_speed/2022-02-18.nc already exists\n",
      "File /shared/home/antoine-2etavant/data/weather/sun_flux_total/2022-02-18.nc already exists\n",
      "File /shared/home/antoine-2etavant/data/weather/sun_flux/2022-02-19.nc already exists\n",
      "File /shared/home/antoine-2etavant/data/weather/temperature/2022-02-19.nc already exists\n",
      "File /shared/home/antoine-2etavant/data/weather/wind_speed/2022-02-19.nc already exists\n",
      "File /shared/home/antoine-2etavant/data/weather/sun_flux_total/2022-02-19.nc already exists\n",
      "File /shared/home/antoine-2etavant/data/weather/sun_flux/2022-02-20.nc already exists\n",
      "File /shared/home/antoine-2etavant/data/weather/temperature/2022-02-20.nc already exists\n",
      "File /shared/home/antoine-2etavant/data/weather/wind_speed/2022-02-20.nc already exists\n",
      "File /shared/home/antoine-2etavant/data/weather/sun_flux_total/2022-02-20.nc already exists\n",
      "File /shared/home/antoine-2etavant/data/weather/sun_flux/2022-02-21.nc already exists\n",
      "File /shared/home/antoine-2etavant/data/weather/temperature/2022-02-21.nc already exists\n",
      "File /shared/home/antoine-2etavant/data/weather/wind_speed/2022-02-21.nc already exists\n",
      "File /shared/home/antoine-2etavant/data/weather/sun_flux_total/2022-02-21.nc already exists\n",
      "File /shared/home/antoine-2etavant/data/weather/sun_flux/2022-02-22.nc already exists\n",
      "File /shared/home/antoine-2etavant/data/weather/temperature/2022-02-22.nc already exists\n",
      "File /shared/home/antoine-2etavant/data/weather/wind_speed/2022-02-22.nc already exists\n",
      "File /shared/home/antoine-2etavant/data/weather/sun_flux_total/2022-02-22.nc already exists\n",
      "File /shared/home/antoine-2etavant/data/weather/sun_flux/2022-02-23.nc already exists\n",
      "File /shared/home/antoine-2etavant/data/weather/temperature/2022-02-23.nc already exists\n",
      "File /shared/home/antoine-2etavant/data/weather/wind_speed/2022-02-23.nc already exists\n",
      "File /shared/home/antoine-2etavant/data/weather/sun_flux_total/2022-02-23.nc already exists\n",
      "File /shared/home/antoine-2etavant/data/weather/sun_flux/2022-02-24.nc already exists\n",
      "File /shared/home/antoine-2etavant/data/weather/temperature/2022-02-24.nc already exists\n",
      "File /shared/home/antoine-2etavant/data/weather/wind_speed/2022-02-24.nc already exists\n",
      "File /shared/home/antoine-2etavant/data/weather/sun_flux_total/2022-02-24.nc already exists\n",
      "File /shared/home/antoine-2etavant/data/weather/sun_flux/2022-02-25.nc already exists\n",
      "File /shared/home/antoine-2etavant/data/weather/temperature/2022-02-25.nc already exists\n",
      "File /shared/home/antoine-2etavant/data/weather/wind_speed/2022-02-25.nc already exists\n",
      "File /shared/home/antoine-2etavant/data/weather/sun_flux_total/2022-02-25.nc already exists\n",
      "File /shared/home/antoine-2etavant/data/weather/sun_flux/2022-02-26.nc already exists\n",
      "File /shared/home/antoine-2etavant/data/weather/temperature/2022-02-26.nc already exists\n",
      "File /shared/home/antoine-2etavant/data/weather/wind_speed/2022-02-26.nc already exists\n",
      "File /shared/home/antoine-2etavant/data/weather/sun_flux_total/2022-02-26.nc already exists\n",
      "File /shared/home/antoine-2etavant/data/weather/sun_flux/2022-02-27.nc already exists\n",
      "File /shared/home/antoine-2etavant/data/weather/temperature/2022-02-27.nc already exists\n",
      "File /shared/home/antoine-2etavant/data/weather/wind_speed/2022-02-27.nc already exists\n",
      "File /shared/home/antoine-2etavant/data/weather/sun_flux_total/2022-02-27.nc already exists\n",
      "File /shared/home/antoine-2etavant/data/weather/sun_flux/2022-02-28.nc already exists\n",
      "File /shared/home/antoine-2etavant/data/weather/temperature/2022-02-28.nc already exists\n",
      "File /shared/home/antoine-2etavant/data/weather/wind_speed/2022-02-28.nc already exists\n",
      "File /shared/home/antoine-2etavant/data/weather/sun_flux_total/2022-02-28.nc already exists\n",
      "File /shared/home/antoine-2etavant/data/weather/sun_flux/2022-03-01.nc already exists\n",
      "File /shared/home/antoine-2etavant/data/weather/temperature/2022-03-01.nc already exists\n",
      "File /shared/home/antoine-2etavant/data/weather/wind_speed/2022-03-01.nc already exists\n",
      "File /shared/home/antoine-2etavant/data/weather/sun_flux_total/2022-03-01.nc already exists\n",
      "File /shared/home/antoine-2etavant/data/weather/sun_flux/2022-03-02.nc already exists\n",
      "File /shared/home/antoine-2etavant/data/weather/temperature/2022-03-02.nc already exists\n",
      "File /shared/home/antoine-2etavant/data/weather/wind_speed/2022-03-02.nc already exists\n",
      "File /shared/home/antoine-2etavant/data/weather/sun_flux_total/2022-03-02.nc already exists\n",
      "File /shared/home/antoine-2etavant/data/weather/sun_flux/2022-03-03.nc already exists\n",
      "File /shared/home/antoine-2etavant/data/weather/temperature/2022-03-03.nc already exists\n",
      "File /shared/home/antoine-2etavant/data/weather/wind_speed/2022-03-03.nc already exists\n",
      "File /shared/home/antoine-2etavant/data/weather/sun_flux_total/2022-03-03.nc already exists\n",
      "File /shared/home/antoine-2etavant/data/weather/sun_flux/2022-03-04.nc already exists\n",
      "File /shared/home/antoine-2etavant/data/weather/temperature/2022-03-04.nc already exists\n",
      "File /shared/home/antoine-2etavant/data/weather/wind_speed/2022-03-04.nc already exists\n",
      "File /shared/home/antoine-2etavant/data/weather/sun_flux_total/2022-03-04.nc already exists\n",
      "File /shared/home/antoine-2etavant/data/weather/sun_flux/2022-03-05.nc already exists\n",
      "File /shared/home/antoine-2etavant/data/weather/temperature/2022-03-05.nc already exists\n",
      "File /shared/home/antoine-2etavant/data/weather/wind_speed/2022-03-05.nc already exists\n",
      "File /shared/home/antoine-2etavant/data/weather/sun_flux_total/2022-03-05.nc already exists\n",
      "File /shared/home/antoine-2etavant/data/weather/sun_flux/2022-03-06.nc already exists\n",
      "File /shared/home/antoine-2etavant/data/weather/temperature/2022-03-06.nc already exists\n",
      "File /shared/home/antoine-2etavant/data/weather/wind_speed/2022-03-06.nc already exists\n",
      "File /shared/home/antoine-2etavant/data/weather/sun_flux_total/2022-03-06.nc already exists\n",
      "File /shared/home/antoine-2etavant/data/weather/sun_flux/2022-03-07.nc already exists\n",
      "File /shared/home/antoine-2etavant/data/weather/temperature/2022-03-07.nc already exists\n",
      "File /shared/home/antoine-2etavant/data/weather/wind_speed/2022-03-07.nc already exists\n",
      "File /shared/home/antoine-2etavant/data/weather/sun_flux_total/2022-03-07.nc already exists\n",
      "File /shared/home/antoine-2etavant/data/weather/sun_flux/2022-03-08.nc already exists\n",
      "File /shared/home/antoine-2etavant/data/weather/temperature/2022-03-08.nc already exists\n",
      "File /shared/home/antoine-2etavant/data/weather/wind_speed/2022-03-08.nc already exists\n",
      "File /shared/home/antoine-2etavant/data/weather/sun_flux_total/2022-03-08.nc already exists\n",
      "File /shared/home/antoine-2etavant/data/weather/sun_flux/2022-03-09.nc already exists\n",
      "File /shared/home/antoine-2etavant/data/weather/temperature/2022-03-09.nc already exists\n",
      "File /shared/home/antoine-2etavant/data/weather/wind_speed/2022-03-09.nc already exists\n",
      "File /shared/home/antoine-2etavant/data/weather/sun_flux_total/2022-03-09.nc already exists\n",
      "File /shared/home/antoine-2etavant/data/weather/sun_flux/2022-03-10.nc already exists\n",
      "File /shared/home/antoine-2etavant/data/weather/temperature/2022-03-10.nc already exists\n",
      "File /shared/home/antoine-2etavant/data/weather/wind_speed/2022-03-10.nc already exists\n",
      "File /shared/home/antoine-2etavant/data/weather/sun_flux_total/2022-03-10.nc already exists\n",
      "File /shared/home/antoine-2etavant/data/weather/sun_flux/2022-03-11.nc already exists\n",
      "File /shared/home/antoine-2etavant/data/weather/temperature/2022-03-11.nc already exists\n",
      "File /shared/home/antoine-2etavant/data/weather/wind_speed/2022-03-11.nc already exists\n",
      "File /shared/home/antoine-2etavant/data/weather/sun_flux_total/2022-03-11.nc already exists\n",
      "File /shared/home/antoine-2etavant/data/weather/sun_flux/2022-03-12.nc already exists\n",
      "File /shared/home/antoine-2etavant/data/weather/temperature/2022-03-12.nc already exists\n",
      "File /shared/home/antoine-2etavant/data/weather/wind_speed/2022-03-12.nc already exists\n",
      "File /shared/home/antoine-2etavant/data/weather/sun_flux_total/2022-03-12.nc already exists\n",
      "File /shared/home/antoine-2etavant/data/weather/sun_flux/2022-03-13.nc already exists\n",
      "File /shared/home/antoine-2etavant/data/weather/temperature/2022-03-13.nc already exists\n",
      "File /shared/home/antoine-2etavant/data/weather/wind_speed/2022-03-13.nc already exists\n",
      "File /shared/home/antoine-2etavant/data/weather/sun_flux_total/2022-03-13.nc already exists\n",
      "File /shared/home/antoine-2etavant/data/weather/sun_flux/2022-03-14.nc already exists\n",
      "File /shared/home/antoine-2etavant/data/weather/temperature/2022-03-14.nc already exists\n",
      "File /shared/home/antoine-2etavant/data/weather/wind_speed/2022-03-14.nc already exists\n",
      "File /shared/home/antoine-2etavant/data/weather/sun_flux_total/2022-03-14.nc already exists\n",
      "File /shared/home/antoine-2etavant/data/weather/sun_flux/2022-03-15.nc already exists\n",
      "File /shared/home/antoine-2etavant/data/weather/temperature/2022-03-15.nc already exists\n",
      "File /shared/home/antoine-2etavant/data/weather/wind_speed/2022-03-15.nc already exists\n",
      "File /shared/home/antoine-2etavant/data/weather/sun_flux_total/2022-03-15.nc already exists\n",
      "File /shared/home/antoine-2etavant/data/weather/sun_flux/2022-03-16.nc already exists\n",
      "File /shared/home/antoine-2etavant/data/weather/temperature/2022-03-16.nc already exists\n",
      "File /shared/home/antoine-2etavant/data/weather/wind_speed/2022-03-16.nc already exists\n",
      "File /shared/home/antoine-2etavant/data/weather/sun_flux_total/2022-03-16.nc already exists\n",
      "File /shared/home/antoine-2etavant/data/weather/sun_flux/2022-03-17.nc already exists\n",
      "File /shared/home/antoine-2etavant/data/weather/temperature/2022-03-17.nc already exists\n",
      "File /shared/home/antoine-2etavant/data/weather/wind_speed/2022-03-17.nc already exists\n",
      "File /shared/home/antoine-2etavant/data/weather/sun_flux_total/2022-03-17.nc already exists\n",
      "File /shared/home/antoine-2etavant/data/weather/sun_flux/2022-03-18.nc already exists\n",
      "File /shared/home/antoine-2etavant/data/weather/temperature/2022-03-18.nc already exists\n",
      "File /shared/home/antoine-2etavant/data/weather/wind_speed/2022-03-18.nc already exists\n",
      "File /shared/home/antoine-2etavant/data/weather/sun_flux_total/2022-03-18.nc already exists\n",
      "File /shared/home/antoine-2etavant/data/weather/sun_flux/2022-03-19.nc already exists\n",
      "File /shared/home/antoine-2etavant/data/weather/temperature/2022-03-19.nc already exists\n",
      "File /shared/home/antoine-2etavant/data/weather/wind_speed/2022-03-19.nc already exists\n",
      "File /shared/home/antoine-2etavant/data/weather/sun_flux_total/2022-03-19.nc already exists\n",
      "File /shared/home/antoine-2etavant/data/weather/sun_flux/2022-03-20.nc already exists\n",
      "File /shared/home/antoine-2etavant/data/weather/temperature/2022-03-20.nc already exists\n",
      "File /shared/home/antoine-2etavant/data/weather/wind_speed/2022-03-20.nc already exists\n",
      "File /shared/home/antoine-2etavant/data/weather/sun_flux_total/2022-03-20.nc already exists\n",
      "File /shared/home/antoine-2etavant/data/weather/sun_flux/2022-03-21.nc already exists\n",
      "File /shared/home/antoine-2etavant/data/weather/temperature/2022-03-21.nc already exists\n",
      "File /shared/home/antoine-2etavant/data/weather/wind_speed/2022-03-21.nc already exists\n",
      "File /shared/home/antoine-2etavant/data/weather/sun_flux_total/2022-03-21.nc already exists\n",
      "File /shared/home/antoine-2etavant/data/weather/sun_flux/2022-03-22.nc already exists\n",
      "File /shared/home/antoine-2etavant/data/weather/temperature/2022-03-22.nc already exists\n",
      "File /shared/home/antoine-2etavant/data/weather/wind_speed/2022-03-22.nc already exists\n",
      "File /shared/home/antoine-2etavant/data/weather/sun_flux_total/2022-03-22.nc already exists\n",
      "File /shared/home/antoine-2etavant/data/weather/sun_flux/2022-03-23.nc already exists\n",
      "File /shared/home/antoine-2etavant/data/weather/temperature/2022-03-23.nc already exists\n",
      "File /shared/home/antoine-2etavant/data/weather/wind_speed/2022-03-23.nc already exists\n",
      "File /shared/home/antoine-2etavant/data/weather/sun_flux_total/2022-03-23.nc already exists\n",
      "File /shared/home/antoine-2etavant/data/weather/sun_flux/2022-03-24.nc already exists\n",
      "File /shared/home/antoine-2etavant/data/weather/temperature/2022-03-24.nc already exists\n",
      "File /shared/home/antoine-2etavant/data/weather/wind_speed/2022-03-24.nc already exists\n",
      "File /shared/home/antoine-2etavant/data/weather/sun_flux_total/2022-03-24.nc already exists\n"
     ]
    },
    {
     "name": "stderr",
     "output_type": "stream",
     "text": [
      "Can't read index file '/shared/home/antoine-2etavant/data/arpege/2022-03-27_SP2_61H72H.grib2.789e2.idx'\n",
      "Traceback (most recent call last):\n",
      "  File \"/home/ubuntu/.local/share/hatch/env/virtual/energy-forecast/S-pRwtAe/energy-forecast/lib/python3.10/site-packages/cfgrib/messages.py\", line 547, in from_indexpath_or_filestream\n",
      "    self = cls.from_indexpath(indexpath)\n",
      "  File \"/home/ubuntu/.local/share/hatch/env/virtual/energy-forecast/S-pRwtAe/energy-forecast/lib/python3.10/site-packages/cfgrib/messages.py\", line 429, in from_indexpath\n",
      "    index = pickle.load(file)\n",
      "EOFError: Ran out of input\n"
     ]
    },
    {
     "name": "stdout",
     "output_type": "stream",
     "text": [
      "File /shared/home/antoine-2etavant/data/weather/sun_flux/2022-03-25.nc already exists\n",
      "File /shared/home/antoine-2etavant/data/weather/temperature/2022-03-25.nc already exists\n",
      "File /shared/home/antoine-2etavant/data/weather/wind_speed/2022-03-25.nc already exists\n",
      "File /shared/home/antoine-2etavant/data/weather/sun_flux_total/2022-03-25.nc already exists\n",
      "File /shared/home/antoine-2etavant/data/weather/sun_flux/2022-03-26.nc already exists\n",
      "File /shared/home/antoine-2etavant/data/weather/temperature/2022-03-26.nc already exists\n",
      "File /shared/home/antoine-2etavant/data/weather/wind_speed/2022-03-26.nc already exists\n",
      "File /shared/home/antoine-2etavant/data/weather/sun_flux_total/2022-03-26.nc already exists\n",
      "File /shared/home/antoine-2etavant/data/weather/sun_flux/2022-03-27.nc already exists\n",
      "File /shared/home/antoine-2etavant/data/weather/temperature/2022-03-27.nc already exists\n",
      "File /shared/home/antoine-2etavant/data/weather/wind_speed/2022-03-27.nc already exists\n"
     ]
    },
    {
     "name": "stderr",
     "output_type": "stream",
     "text": [
      "  7%|▋         | 55/798 [00:14<03:54,  3.16it/s] "
     ]
    },
    {
     "name": "stdout",
     "output_type": "stream",
     "text": [
      "File /shared/home/antoine-2etavant/data/weather/sun_flux/2022-03-28.nc already exists\n",
      "File /shared/home/antoine-2etavant/data/weather/temperature/2022-03-28.nc already exists\n",
      "File /shared/home/antoine-2etavant/data/weather/wind_speed/2022-03-28.nc already exists\n"
     ]
    },
    {
     "name": "stderr",
     "output_type": "stream",
     "text": [
      "  7%|▋         | 56/798 [00:56<19:01,  1.54s/it]"
     ]
    },
    {
     "name": "stdout",
     "output_type": "stream",
     "text": [
      "File /shared/home/antoine-2etavant/data/weather/sun_flux/2022-03-29.nc already exists\n",
      "File /shared/home/antoine-2etavant/data/weather/temperature/2022-03-29.nc already exists\n",
      "File /shared/home/antoine-2etavant/data/weather/wind_speed/2022-03-29.nc already exists\n"
     ]
    },
    {
     "name": "stderr",
     "output_type": "stream",
     "text": [
      "  7%|▋         | 57/798 [01:39<40:02,  3.24s/it]"
     ]
    },
    {
     "name": "stdout",
     "output_type": "stream",
     "text": [
      "File /shared/home/antoine-2etavant/data/weather/sun_flux/2022-03-30.nc already exists\n",
      "File /shared/home/antoine-2etavant/data/weather/temperature/2022-03-30.nc already exists\n",
      "File /shared/home/antoine-2etavant/data/weather/wind_speed/2022-03-30.nc already exists\n"
     ]
    },
    {
     "name": "stderr",
     "output_type": "stream",
     "text": [
      "  7%|▋         | 58/798 [02:20<1:05:33,  5.32s/it]"
     ]
    },
    {
     "name": "stdout",
     "output_type": "stream",
     "text": [
      "File /shared/home/antoine-2etavant/data/weather/sun_flux/2022-03-31.nc already exists\n",
      "File /shared/home/antoine-2etavant/data/weather/temperature/2022-03-31.nc already exists\n",
      "File /shared/home/antoine-2etavant/data/weather/wind_speed/2022-03-31.nc already exists\n"
     ]
    },
    {
     "name": "stderr",
     "output_type": "stream",
     "text": [
      "  7%|▋         | 59/798 [03:01<1:37:55,  7.95s/it]"
     ]
    },
    {
     "name": "stdout",
     "output_type": "stream",
     "text": [
      "File /shared/home/antoine-2etavant/data/weather/sun_flux/2022-04-01.nc already exists\n",
      "File /shared/home/antoine-2etavant/data/weather/temperature/2022-04-01.nc already exists\n",
      "File /shared/home/antoine-2etavant/data/weather/wind_speed/2022-04-01.nc already exists\n"
     ]
    },
    {
     "name": "stderr",
     "output_type": "stream",
     "text": [
      "  8%|▊         | 60/798 [03:42<2:15:34, 11.02s/it]"
     ]
    },
    {
     "name": "stdout",
     "output_type": "stream",
     "text": [
      "File /shared/home/antoine-2etavant/data/weather/sun_flux/2022-04-02.nc already exists\n",
      "File /shared/home/antoine-2etavant/data/weather/temperature/2022-04-02.nc already exists\n",
      "File /shared/home/antoine-2etavant/data/weather/wind_speed/2022-04-02.nc already exists\n"
     ]
    },
    {
     "name": "stderr",
     "output_type": "stream",
     "text": [
      "  8%|▊         | 61/798 [04:22<2:57:34, 14.46s/it]"
     ]
    },
    {
     "name": "stdout",
     "output_type": "stream",
     "text": [
      "File /shared/home/antoine-2etavant/data/weather/sun_flux/2022-04-03.nc already exists\n",
      "File /shared/home/antoine-2etavant/data/weather/temperature/2022-04-03.nc already exists\n",
      "File /shared/home/antoine-2etavant/data/weather/wind_speed/2022-04-03.nc already exists\n"
     ]
    },
    {
     "name": "stderr",
     "output_type": "stream",
     "text": [
      "  8%|▊         | 62/798 [05:02<3:43:25, 18.21s/it]"
     ]
    },
    {
     "name": "stdout",
     "output_type": "stream",
     "text": [
      "File /shared/home/antoine-2etavant/data/weather/sun_flux/2022-04-04.nc already exists\n",
      "File /shared/home/antoine-2etavant/data/weather/temperature/2022-04-04.nc already exists\n",
      "File /shared/home/antoine-2etavant/data/weather/wind_speed/2022-04-04.nc already exists\n"
     ]
    },
    {
     "name": "stderr",
     "output_type": "stream",
     "text": [
      "  8%|▊         | 63/798 [05:43<4:29:33, 22.00s/it]"
     ]
    },
    {
     "name": "stdout",
     "output_type": "stream",
     "text": [
      "File /shared/home/antoine-2etavant/data/weather/sun_flux/2022-04-05.nc already exists\n",
      "File /shared/home/antoine-2etavant/data/weather/temperature/2022-04-05.nc already exists\n",
      "File /shared/home/antoine-2etavant/data/weather/wind_speed/2022-04-05.nc already exists\n"
     ]
    },
    {
     "name": "stderr",
     "output_type": "stream",
     "text": [
      "  8%|▊         | 64/798 [06:23<5:12:50, 25.57s/it]"
     ]
    },
    {
     "name": "stdout",
     "output_type": "stream",
     "text": [
      "File /shared/home/antoine-2etavant/data/weather/sun_flux/2022-04-06.nc already exists\n",
      "File /shared/home/antoine-2etavant/data/weather/temperature/2022-04-06.nc already exists\n",
      "File /shared/home/antoine-2etavant/data/weather/wind_speed/2022-04-06.nc already exists\n"
     ]
    },
    {
     "name": "stderr",
     "output_type": "stream",
     "text": [
      "  8%|▊         | 65/798 [07:03<5:52:46, 28.88s/it]"
     ]
    },
    {
     "name": "stdout",
     "output_type": "stream",
     "text": [
      "File /shared/home/antoine-2etavant/data/weather/sun_flux/2022-04-07.nc already exists\n",
      "File /shared/home/antoine-2etavant/data/weather/temperature/2022-04-07.nc already exists\n",
      "File /shared/home/antoine-2etavant/data/weather/wind_speed/2022-04-07.nc already exists\n"
     ]
    },
    {
     "name": "stderr",
     "output_type": "stream",
     "text": [
      "  8%|▊         | 66/798 [07:43<6:23:15, 31.41s/it]"
     ]
    },
    {
     "name": "stdout",
     "output_type": "stream",
     "text": [
      "File /shared/home/antoine-2etavant/data/weather/sun_flux/2022-04-08.nc already exists\n",
      "File /shared/home/antoine-2etavant/data/weather/temperature/2022-04-08.nc already exists\n",
      "File /shared/home/antoine-2etavant/data/weather/wind_speed/2022-04-08.nc already exists\n"
     ]
    },
    {
     "name": "stderr",
     "output_type": "stream",
     "text": [
      "  8%|▊         | 67/798 [08:24<6:51:28, 33.77s/it]"
     ]
    },
    {
     "name": "stdout",
     "output_type": "stream",
     "text": [
      "File /shared/home/antoine-2etavant/data/weather/sun_flux/2022-04-09.nc already exists\n",
      "File /shared/home/antoine-2etavant/data/weather/temperature/2022-04-09.nc already exists\n",
      "File /shared/home/antoine-2etavant/data/weather/wind_speed/2022-04-09.nc already exists\n"
     ]
    },
    {
     "name": "stderr",
     "output_type": "stream",
     "text": [
      "  9%|▊         | 68/798 [09:04<7:13:05, 35.60s/it]"
     ]
    },
    {
     "name": "stdout",
     "output_type": "stream",
     "text": [
      "File /shared/home/antoine-2etavant/data/weather/sun_flux/2022-04-10.nc already exists\n",
      "File /shared/home/antoine-2etavant/data/weather/temperature/2022-04-10.nc already exists\n",
      "File /shared/home/antoine-2etavant/data/weather/wind_speed/2022-04-10.nc already exists\n"
     ]
    },
    {
     "name": "stderr",
     "output_type": "stream",
     "text": [
      "  9%|▊         | 69/798 [09:45<7:30:03, 37.04s/it]"
     ]
    },
    {
     "name": "stdout",
     "output_type": "stream",
     "text": [
      "File /shared/home/antoine-2etavant/data/weather/sun_flux/2022-04-11.nc already exists\n",
      "File /shared/home/antoine-2etavant/data/weather/temperature/2022-04-11.nc already exists\n",
      "File /shared/home/antoine-2etavant/data/weather/wind_speed/2022-04-11.nc already exists\n"
     ]
    },
    {
     "name": "stderr",
     "output_type": "stream",
     "text": [
      "  9%|▉         | 70/798 [10:25<7:38:50, 37.82s/it]"
     ]
    },
    {
     "name": "stdout",
     "output_type": "stream",
     "text": [
      "File /shared/home/antoine-2etavant/data/weather/sun_flux/2022-04-12.nc already exists\n",
      "File /shared/home/antoine-2etavant/data/weather/temperature/2022-04-12.nc already exists\n",
      "File /shared/home/antoine-2etavant/data/weather/wind_speed/2022-04-12.nc already exists\n"
     ]
    },
    {
     "name": "stderr",
     "output_type": "stream",
     "text": [
      "  9%|▉         | 71/798 [11:06<7:50:27, 38.83s/it]"
     ]
    },
    {
     "name": "stdout",
     "output_type": "stream",
     "text": [
      "File /shared/home/antoine-2etavant/data/weather/sun_flux/2022-04-13.nc already exists\n",
      "File /shared/home/antoine-2etavant/data/weather/temperature/2022-04-13.nc already exists\n",
      "File /shared/home/antoine-2etavant/data/weather/wind_speed/2022-04-13.nc already exists\n"
     ]
    },
    {
     "name": "stderr",
     "output_type": "stream",
     "text": [
      "  9%|▉         | 72/798 [11:47<7:58:50, 39.57s/it]"
     ]
    },
    {
     "name": "stdout",
     "output_type": "stream",
     "text": [
      "File /shared/home/antoine-2etavant/data/weather/sun_flux/2022-04-14.nc already exists\n",
      "File /shared/home/antoine-2etavant/data/weather/temperature/2022-04-14.nc already exists\n",
      "File /shared/home/antoine-2etavant/data/weather/wind_speed/2022-04-14.nc already exists\n"
     ]
    },
    {
     "name": "stderr",
     "output_type": "stream",
     "text": [
      "  9%|▉         | 73/798 [12:27<7:59:14, 39.66s/it]"
     ]
    },
    {
     "name": "stdout",
     "output_type": "stream",
     "text": [
      "File /shared/home/antoine-2etavant/data/weather/sun_flux/2022-04-15.nc already exists\n",
      "File /shared/home/antoine-2etavant/data/weather/temperature/2022-04-15.nc already exists\n",
      "File /shared/home/antoine-2etavant/data/weather/wind_speed/2022-04-15.nc already exists\n"
     ]
    },
    {
     "name": "stderr",
     "output_type": "stream",
     "text": [
      "  9%|▉         | 74/798 [13:10<8:09:59, 40.61s/it]"
     ]
    },
    {
     "name": "stdout",
     "output_type": "stream",
     "text": [
      "File /shared/home/antoine-2etavant/data/weather/sun_flux/2022-04-16.nc already exists\n",
      "File /shared/home/antoine-2etavant/data/weather/temperature/2022-04-16.nc already exists\n",
      "File /shared/home/antoine-2etavant/data/weather/wind_speed/2022-04-16.nc already exists\n"
     ]
    },
    {
     "name": "stderr",
     "output_type": "stream",
     "text": [
      "  9%|▉         | 75/798 [13:54<8:20:26, 41.53s/it]"
     ]
    },
    {
     "name": "stdout",
     "output_type": "stream",
     "text": [
      "File /shared/home/antoine-2etavant/data/weather/sun_flux/2022-04-17.nc already exists\n",
      "File /shared/home/antoine-2etavant/data/weather/temperature/2022-04-17.nc already exists\n",
      "File /shared/home/antoine-2etavant/data/weather/wind_speed/2022-04-17.nc already exists\n"
     ]
    },
    {
     "name": "stderr",
     "output_type": "stream",
     "text": [
      " 10%|▉         | 76/798 [14:36<8:21:01, 41.64s/it]"
     ]
    },
    {
     "name": "stdout",
     "output_type": "stream",
     "text": [
      "File /shared/home/antoine-2etavant/data/weather/sun_flux/2022-04-18.nc already exists\n",
      "File /shared/home/antoine-2etavant/data/weather/temperature/2022-04-18.nc already exists\n",
      "File /shared/home/antoine-2etavant/data/weather/wind_speed/2022-04-18.nc already exists\n"
     ]
    },
    {
     "name": "stderr",
     "output_type": "stream",
     "text": [
      " 10%|▉         | 77/798 [15:18<8:20:39, 41.66s/it]"
     ]
    },
    {
     "name": "stdout",
     "output_type": "stream",
     "text": [
      "File /shared/home/antoine-2etavant/data/weather/sun_flux/2022-04-19.nc already exists\n",
      "File /shared/home/antoine-2etavant/data/weather/temperature/2022-04-19.nc already exists\n",
      "File /shared/home/antoine-2etavant/data/weather/wind_speed/2022-04-19.nc already exists\n"
     ]
    },
    {
     "name": "stderr",
     "output_type": "stream",
     "text": [
      " 10%|▉         | 78/798 [15:59<8:19:36, 41.63s/it]"
     ]
    },
    {
     "name": "stdout",
     "output_type": "stream",
     "text": [
      "File /shared/home/antoine-2etavant/data/weather/sun_flux/2022-04-20.nc already exists\n",
      "File /shared/home/antoine-2etavant/data/weather/temperature/2022-04-20.nc already exists\n",
      "File /shared/home/antoine-2etavant/data/weather/wind_speed/2022-04-20.nc already exists\n"
     ]
    },
    {
     "name": "stderr",
     "output_type": "stream",
     "text": [
      " 10%|▉         | 79/798 [16:43<8:25:35, 42.19s/it]"
     ]
    },
    {
     "name": "stdout",
     "output_type": "stream",
     "text": [
      "File /shared/home/antoine-2etavant/data/weather/sun_flux/2022-04-21.nc already exists\n",
      "File /shared/home/antoine-2etavant/data/weather/temperature/2022-04-21.nc already exists\n",
      "File /shared/home/antoine-2etavant/data/weather/wind_speed/2022-04-21.nc already exists\n"
     ]
    },
    {
     "name": "stderr",
     "output_type": "stream",
     "text": [
      " 10%|█         | 80/798 [17:25<8:24:06, 42.13s/it]"
     ]
    },
    {
     "name": "stdout",
     "output_type": "stream",
     "text": [
      "File /shared/home/antoine-2etavant/data/weather/sun_flux/2022-04-22.nc already exists\n",
      "File /shared/home/antoine-2etavant/data/weather/temperature/2022-04-22.nc already exists\n",
      "File /shared/home/antoine-2etavant/data/weather/wind_speed/2022-04-22.nc already exists\n"
     ]
    },
    {
     "name": "stderr",
     "output_type": "stream",
     "text": [
      " 10%|█         | 81/798 [18:07<8:25:58, 42.34s/it]"
     ]
    },
    {
     "name": "stdout",
     "output_type": "stream",
     "text": [
      "File /shared/home/antoine-2etavant/data/weather/sun_flux/2022-04-23.nc already exists\n",
      "File /shared/home/antoine-2etavant/data/weather/temperature/2022-04-23.nc already exists\n",
      "File /shared/home/antoine-2etavant/data/weather/wind_speed/2022-04-23.nc already exists\n"
     ]
    },
    {
     "name": "stderr",
     "output_type": "stream",
     "text": [
      " 10%|█         | 82/798 [18:49<8:24:11, 42.25s/it]"
     ]
    },
    {
     "name": "stdout",
     "output_type": "stream",
     "text": [
      "File /shared/home/antoine-2etavant/data/weather/sun_flux/2022-04-24.nc already exists\n",
      "File /shared/home/antoine-2etavant/data/weather/temperature/2022-04-24.nc already exists\n",
      "File /shared/home/antoine-2etavant/data/weather/wind_speed/2022-04-24.nc already exists\n"
     ]
    },
    {
     "name": "stderr",
     "output_type": "stream",
     "text": [
      " 10%|█         | 83/798 [19:31<8:22:36, 42.18s/it]"
     ]
    },
    {
     "name": "stdout",
     "output_type": "stream",
     "text": [
      "File /shared/home/antoine-2etavant/data/weather/sun_flux/2022-04-25.nc already exists\n",
      "File /shared/home/antoine-2etavant/data/weather/temperature/2022-04-25.nc already exists\n",
      "File /shared/home/antoine-2etavant/data/weather/wind_speed/2022-04-25.nc already exists\n"
     ]
    },
    {
     "name": "stderr",
     "output_type": "stream",
     "text": [
      " 11%|█         | 84/798 [20:15<8:26:43, 42.58s/it]"
     ]
    },
    {
     "name": "stdout",
     "output_type": "stream",
     "text": [
      "File /shared/home/antoine-2etavant/data/weather/sun_flux/2022-04-26.nc already exists\n",
      "File /shared/home/antoine-2etavant/data/weather/temperature/2022-04-26.nc already exists\n",
      "File /shared/home/antoine-2etavant/data/weather/wind_speed/2022-04-26.nc already exists\n"
     ]
    },
    {
     "name": "stderr",
     "output_type": "stream",
     "text": [
      " 11%|█         | 85/798 [20:59<8:30:38, 42.97s/it]"
     ]
    },
    {
     "name": "stdout",
     "output_type": "stream",
     "text": [
      "File /shared/home/antoine-2etavant/data/weather/sun_flux/2022-04-27.nc already exists\n",
      "File /shared/home/antoine-2etavant/data/weather/temperature/2022-04-27.nc already exists\n",
      "File /shared/home/antoine-2etavant/data/weather/wind_speed/2022-04-27.nc already exists\n"
     ]
    },
    {
     "name": "stderr",
     "output_type": "stream",
     "text": [
      " 11%|█         | 86/798 [21:40<8:24:46, 42.54s/it]"
     ]
    },
    {
     "name": "stdout",
     "output_type": "stream",
     "text": [
      "File /shared/home/antoine-2etavant/data/weather/sun_flux/2022-04-28.nc already exists\n",
      "File /shared/home/antoine-2etavant/data/weather/temperature/2022-04-28.nc already exists\n",
      "File /shared/home/antoine-2etavant/data/weather/wind_speed/2022-04-28.nc already exists\n"
     ]
    },
    {
     "name": "stderr",
     "output_type": "stream",
     "text": [
      " 11%|█         | 87/798 [22:21<8:18:25, 42.06s/it]"
     ]
    },
    {
     "name": "stdout",
     "output_type": "stream",
     "text": [
      "File /shared/home/antoine-2etavant/data/weather/sun_flux/2022-04-29.nc already exists\n",
      "File /shared/home/antoine-2etavant/data/weather/temperature/2022-04-29.nc already exists\n",
      "File /shared/home/antoine-2etavant/data/weather/wind_speed/2022-04-29.nc already exists\n"
     ]
    },
    {
     "name": "stderr",
     "output_type": "stream",
     "text": [
      " 11%|█         | 88/798 [23:02<8:13:33, 41.71s/it]"
     ]
    },
    {
     "name": "stdout",
     "output_type": "stream",
     "text": [
      "File /shared/home/antoine-2etavant/data/weather/sun_flux/2022-04-30.nc already exists\n",
      "File /shared/home/antoine-2etavant/data/weather/temperature/2022-04-30.nc already exists\n",
      "File /shared/home/antoine-2etavant/data/weather/wind_speed/2022-04-30.nc already exists\n"
     ]
    },
    {
     "name": "stderr",
     "output_type": "stream",
     "text": [
      " 11%|█         | 89/798 [23:44<8:13:01, 41.72s/it]"
     ]
    },
    {
     "name": "stdout",
     "output_type": "stream",
     "text": [
      "File /shared/home/antoine-2etavant/data/weather/sun_flux/2022-05-01.nc already exists\n",
      "File /shared/home/antoine-2etavant/data/weather/temperature/2022-05-01.nc already exists\n",
      "File /shared/home/antoine-2etavant/data/weather/wind_speed/2022-05-01.nc already exists\n"
     ]
    },
    {
     "name": "stderr",
     "output_type": "stream",
     "text": [
      " 11%|█▏        | 90/798 [24:25<8:11:16, 41.63s/it]"
     ]
    },
    {
     "name": "stdout",
     "output_type": "stream",
     "text": [
      "File /shared/home/antoine-2etavant/data/weather/sun_flux/2022-05-02.nc already exists\n",
      "File /shared/home/antoine-2etavant/data/weather/temperature/2022-05-02.nc already exists\n",
      "File /shared/home/antoine-2etavant/data/weather/wind_speed/2022-05-02.nc already exists\n"
     ]
    },
    {
     "name": "stderr",
     "output_type": "stream",
     "text": [
      " 11%|█▏        | 91/798 [25:06<8:08:31, 41.46s/it]"
     ]
    },
    {
     "name": "stdout",
     "output_type": "stream",
     "text": [
      "File /shared/home/antoine-2etavant/data/weather/sun_flux/2022-05-03.nc already exists\n",
      "File /shared/home/antoine-2etavant/data/weather/temperature/2022-05-03.nc already exists\n",
      "File /shared/home/antoine-2etavant/data/weather/wind_speed/2022-05-03.nc already exists\n"
     ]
    },
    {
     "name": "stderr",
     "output_type": "stream",
     "text": [
      " 12%|█▏        | 92/798 [25:48<8:06:33, 41.35s/it]"
     ]
    },
    {
     "name": "stdout",
     "output_type": "stream",
     "text": [
      "File /shared/home/antoine-2etavant/data/weather/sun_flux/2022-05-04.nc already exists\n",
      "File /shared/home/antoine-2etavant/data/weather/temperature/2022-05-04.nc already exists\n",
      "File /shared/home/antoine-2etavant/data/weather/wind_speed/2022-05-04.nc already exists\n"
     ]
    },
    {
     "name": "stderr",
     "output_type": "stream",
     "text": [
      " 12%|█▏        | 93/798 [26:29<8:07:16, 41.47s/it]"
     ]
    },
    {
     "name": "stdout",
     "output_type": "stream",
     "text": [
      "File /shared/home/antoine-2etavant/data/weather/sun_flux/2022-05-05.nc already exists\n",
      "File /shared/home/antoine-2etavant/data/weather/temperature/2022-05-05.nc already exists\n",
      "File /shared/home/antoine-2etavant/data/weather/wind_speed/2022-05-05.nc already exists\n"
     ]
    },
    {
     "name": "stderr",
     "output_type": "stream",
     "text": [
      " 12%|█▏        | 94/798 [27:12<8:10:20, 41.79s/it]"
     ]
    },
    {
     "name": "stdout",
     "output_type": "stream",
     "text": [
      "File /shared/home/antoine-2etavant/data/weather/sun_flux/2022-05-06.nc already exists\n",
      "File /shared/home/antoine-2etavant/data/weather/temperature/2022-05-06.nc already exists\n",
      "File /shared/home/antoine-2etavant/data/weather/wind_speed/2022-05-06.nc already exists\n"
     ]
    },
    {
     "name": "stderr",
     "output_type": "stream",
     "text": [
      " 12%|█▏        | 95/798 [27:53<8:08:03, 41.65s/it]"
     ]
    },
    {
     "name": "stdout",
     "output_type": "stream",
     "text": [
      "File /shared/home/antoine-2etavant/data/weather/sun_flux/2022-05-07.nc already exists\n",
      "File /shared/home/antoine-2etavant/data/weather/temperature/2022-05-07.nc already exists\n",
      "File /shared/home/antoine-2etavant/data/weather/wind_speed/2022-05-07.nc already exists\n"
     ]
    },
    {
     "name": "stderr",
     "output_type": "stream",
     "text": [
      " 12%|█▏        | 96/798 [28:35<8:08:57, 41.79s/it]"
     ]
    },
    {
     "name": "stdout",
     "output_type": "stream",
     "text": [
      "File /shared/home/antoine-2etavant/data/weather/sun_flux/2022-05-08.nc already exists\n",
      "File /shared/home/antoine-2etavant/data/weather/temperature/2022-05-08.nc already exists\n",
      "File /shared/home/antoine-2etavant/data/weather/wind_speed/2022-05-08.nc already exists\n"
     ]
    },
    {
     "name": "stderr",
     "output_type": "stream",
     "text": [
      " 12%|█▏        | 97/798 [29:18<8:10:37, 41.99s/it]"
     ]
    },
    {
     "name": "stdout",
     "output_type": "stream",
     "text": [
      "File /shared/home/antoine-2etavant/data/weather/sun_flux/2022-05-09.nc already exists\n",
      "File /shared/home/antoine-2etavant/data/weather/temperature/2022-05-09.nc already exists\n",
      "File /shared/home/antoine-2etavant/data/weather/wind_speed/2022-05-09.nc already exists\n"
     ]
    },
    {
     "name": "stderr",
     "output_type": "stream",
     "text": [
      " 12%|█▏        | 98/798 [29:58<8:04:04, 41.49s/it]"
     ]
    },
    {
     "name": "stdout",
     "output_type": "stream",
     "text": [
      "File /shared/home/antoine-2etavant/data/weather/sun_flux/2022-05-10.nc already exists\n",
      "File /shared/home/antoine-2etavant/data/weather/temperature/2022-05-10.nc already exists\n",
      "File /shared/home/antoine-2etavant/data/weather/wind_speed/2022-05-10.nc already exists\n"
     ]
    },
    {
     "name": "stderr",
     "output_type": "stream",
     "text": [
      " 12%|█▏        | 99/798 [30:39<8:01:19, 41.32s/it]"
     ]
    },
    {
     "name": "stdout",
     "output_type": "stream",
     "text": [
      "File /shared/home/antoine-2etavant/data/weather/sun_flux/2022-05-11.nc already exists\n",
      "File /shared/home/antoine-2etavant/data/weather/temperature/2022-05-11.nc already exists\n",
      "File /shared/home/antoine-2etavant/data/weather/wind_speed/2022-05-11.nc already exists\n"
     ]
    },
    {
     "name": "stderr",
     "output_type": "stream",
     "text": [
      " 13%|█▎        | 100/798 [31:22<8:05:36, 41.74s/it]"
     ]
    },
    {
     "name": "stdout",
     "output_type": "stream",
     "text": [
      "File /shared/home/antoine-2etavant/data/weather/sun_flux/2022-05-12.nc already exists\n",
      "File /shared/home/antoine-2etavant/data/weather/temperature/2022-05-12.nc already exists\n",
      "File /shared/home/antoine-2etavant/data/weather/wind_speed/2022-05-12.nc already exists\n"
     ]
    },
    {
     "name": "stderr",
     "output_type": "stream",
     "text": [
      " 13%|█▎        | 101/798 [32:04<8:05:59, 41.84s/it]"
     ]
    },
    {
     "name": "stdout",
     "output_type": "stream",
     "text": [
      "File /shared/home/antoine-2etavant/data/weather/sun_flux/2022-05-13.nc already exists\n",
      "File /shared/home/antoine-2etavant/data/weather/temperature/2022-05-13.nc already exists\n",
      "File /shared/home/antoine-2etavant/data/weather/wind_speed/2022-05-13.nc already exists\n"
     ]
    },
    {
     "name": "stderr",
     "output_type": "stream",
     "text": [
      " 13%|█▎        | 102/798 [32:44<8:01:05, 41.47s/it]"
     ]
    },
    {
     "name": "stdout",
     "output_type": "stream",
     "text": [
      "File /shared/home/antoine-2etavant/data/weather/sun_flux/2022-05-14.nc already exists\n",
      "File /shared/home/antoine-2etavant/data/weather/temperature/2022-05-14.nc already exists\n",
      "File /shared/home/antoine-2etavant/data/weather/wind_speed/2022-05-14.nc already exists\n"
     ]
    },
    {
     "name": "stderr",
     "output_type": "stream",
     "text": [
      " 13%|█▎        | 103/798 [33:27<8:03:42, 41.76s/it]"
     ]
    },
    {
     "name": "stdout",
     "output_type": "stream",
     "text": [
      "File /shared/home/antoine-2etavant/data/weather/sun_flux/2022-05-15.nc already exists\n",
      "File /shared/home/antoine-2etavant/data/weather/temperature/2022-05-15.nc already exists\n",
      "File /shared/home/antoine-2etavant/data/weather/wind_speed/2022-05-15.nc already exists\n"
     ]
    },
    {
     "name": "stderr",
     "output_type": "stream",
     "text": [
      " 13%|█▎        | 104/798 [34:15<8:24:19, 43.60s/it]"
     ]
    },
    {
     "name": "stdout",
     "output_type": "stream",
     "text": [
      "File /shared/home/antoine-2etavant/data/weather/sun_flux/2022-05-16.nc already exists\n",
      "File /shared/home/antoine-2etavant/data/weather/temperature/2022-05-16.nc already exists\n",
      "File /shared/home/antoine-2etavant/data/weather/wind_speed/2022-05-16.nc already exists\n"
     ]
    },
    {
     "name": "stderr",
     "output_type": "stream",
     "text": [
      " 13%|█▎        | 105/798 [34:55<8:13:33, 42.73s/it]"
     ]
    },
    {
     "name": "stdout",
     "output_type": "stream",
     "text": [
      "File /shared/home/antoine-2etavant/data/weather/sun_flux/2022-05-17.nc already exists\n",
      "File /shared/home/antoine-2etavant/data/weather/temperature/2022-05-17.nc already exists\n",
      "File /shared/home/antoine-2etavant/data/weather/wind_speed/2022-05-17.nc already exists\n"
     ]
    },
    {
     "name": "stderr",
     "output_type": "stream",
     "text": [
      " 13%|█▎        | 106/798 [35:36<8:04:31, 42.01s/it]"
     ]
    },
    {
     "name": "stdout",
     "output_type": "stream",
     "text": [
      "File /shared/home/antoine-2etavant/data/weather/sun_flux/2022-05-18.nc already exists\n",
      "File /shared/home/antoine-2etavant/data/weather/temperature/2022-05-18.nc already exists\n",
      "File /shared/home/antoine-2etavant/data/weather/wind_speed/2022-05-18.nc already exists\n"
     ]
    },
    {
     "name": "stderr",
     "output_type": "stream",
     "text": [
      " 13%|█▎        | 107/798 [36:16<7:57:09, 41.43s/it]"
     ]
    },
    {
     "name": "stdout",
     "output_type": "stream",
     "text": [
      "File /shared/home/antoine-2etavant/data/weather/sun_flux/2022-05-19.nc already exists\n",
      "File /shared/home/antoine-2etavant/data/weather/temperature/2022-05-19.nc already exists\n",
      "File /shared/home/antoine-2etavant/data/weather/wind_speed/2022-05-19.nc already exists\n"
     ]
    },
    {
     "name": "stderr",
     "output_type": "stream",
     "text": [
      " 14%|█▎        | 108/798 [36:56<7:52:15, 41.07s/it]"
     ]
    },
    {
     "name": "stdout",
     "output_type": "stream",
     "text": [
      "File /shared/home/antoine-2etavant/data/weather/sun_flux/2022-05-20.nc already exists\n",
      "File /shared/home/antoine-2etavant/data/weather/temperature/2022-05-20.nc already exists\n",
      "File /shared/home/antoine-2etavant/data/weather/wind_speed/2022-05-20.nc already exists\n"
     ]
    },
    {
     "name": "stderr",
     "output_type": "stream",
     "text": [
      " 14%|█▎        | 109/798 [37:37<7:52:07, 41.11s/it]"
     ]
    },
    {
     "name": "stdout",
     "output_type": "stream",
     "text": [
      "File /shared/home/antoine-2etavant/data/weather/sun_flux/2022-05-21.nc already exists\n",
      "File /shared/home/antoine-2etavant/data/weather/temperature/2022-05-21.nc already exists\n",
      "File /shared/home/antoine-2etavant/data/weather/wind_speed/2022-05-21.nc already exists\n"
     ]
    },
    {
     "name": "stderr",
     "output_type": "stream",
     "text": [
      " 14%|█▍        | 110/798 [38:19<7:52:33, 41.21s/it]"
     ]
    },
    {
     "name": "stdout",
     "output_type": "stream",
     "text": [
      "File /shared/home/antoine-2etavant/data/weather/sun_flux/2022-05-22.nc already exists\n",
      "File /shared/home/antoine-2etavant/data/weather/temperature/2022-05-22.nc already exists\n",
      "File /shared/home/antoine-2etavant/data/weather/wind_speed/2022-05-22.nc already exists\n"
     ]
    },
    {
     "name": "stderr",
     "output_type": "stream",
     "text": [
      " 14%|█▍        | 111/798 [38:59<7:49:21, 40.99s/it]"
     ]
    },
    {
     "name": "stdout",
     "output_type": "stream",
     "text": [
      "File /shared/home/antoine-2etavant/data/weather/sun_flux/2022-05-23.nc already exists\n",
      "File /shared/home/antoine-2etavant/data/weather/temperature/2022-05-23.nc already exists\n",
      "File /shared/home/antoine-2etavant/data/weather/wind_speed/2022-05-23.nc already exists\n"
     ]
    },
    {
     "name": "stderr",
     "output_type": "stream",
     "text": [
      " 14%|█▍        | 112/798 [39:41<7:50:36, 41.16s/it]"
     ]
    },
    {
     "name": "stdout",
     "output_type": "stream",
     "text": [
      "File /shared/home/antoine-2etavant/data/weather/sun_flux/2022-05-24.nc already exists\n",
      "File /shared/home/antoine-2etavant/data/weather/temperature/2022-05-24.nc already exists\n",
      "File /shared/home/antoine-2etavant/data/weather/wind_speed/2022-05-24.nc already exists\n"
     ]
    },
    {
     "name": "stderr",
     "output_type": "stream",
     "text": [
      " 14%|█▍        | 113/798 [40:21<7:47:35, 40.96s/it]"
     ]
    },
    {
     "name": "stdout",
     "output_type": "stream",
     "text": [
      "File /shared/home/antoine-2etavant/data/weather/sun_flux/2022-05-25.nc already exists\n",
      "File /shared/home/antoine-2etavant/data/weather/temperature/2022-05-25.nc already exists\n",
      "File /shared/home/antoine-2etavant/data/weather/wind_speed/2022-05-25.nc already exists\n"
     ]
    },
    {
     "name": "stderr",
     "output_type": "stream",
     "text": [
      " 14%|█▍        | 114/798 [41:04<7:51:31, 41.36s/it]"
     ]
    },
    {
     "name": "stdout",
     "output_type": "stream",
     "text": [
      "File /shared/home/antoine-2etavant/data/weather/sun_flux/2022-05-26.nc already exists\n",
      "File /shared/home/antoine-2etavant/data/weather/temperature/2022-05-26.nc already exists\n",
      "File /shared/home/antoine-2etavant/data/weather/wind_speed/2022-05-26.nc already exists\n"
     ]
    },
    {
     "name": "stderr",
     "output_type": "stream",
     "text": [
      " 14%|█▍        | 115/798 [41:48<8:00:11, 42.18s/it]"
     ]
    },
    {
     "name": "stdout",
     "output_type": "stream",
     "text": [
      "File /shared/home/antoine-2etavant/data/weather/sun_flux/2022-05-27.nc already exists\n",
      "File /shared/home/antoine-2etavant/data/weather/temperature/2022-05-27.nc already exists\n",
      "File /shared/home/antoine-2etavant/data/weather/wind_speed/2022-05-27.nc already exists\n"
     ]
    },
    {
     "name": "stderr",
     "output_type": "stream",
     "text": [
      " 15%|█▍        | 116/798 [42:34<8:12:28, 43.33s/it]"
     ]
    },
    {
     "name": "stdout",
     "output_type": "stream",
     "text": [
      "File /shared/home/antoine-2etavant/data/weather/sun_flux/2022-05-28.nc already exists\n",
      "File /shared/home/antoine-2etavant/data/weather/temperature/2022-05-28.nc already exists\n",
      "File /shared/home/antoine-2etavant/data/weather/wind_speed/2022-05-28.nc already exists\n"
     ]
    },
    {
     "name": "stderr",
     "output_type": "stream",
     "text": [
      " 15%|█▍        | 117/798 [43:20<8:23:19, 44.35s/it]"
     ]
    },
    {
     "name": "stdout",
     "output_type": "stream",
     "text": [
      "File /shared/home/antoine-2etavant/data/weather/sun_flux/2022-05-29.nc already exists\n",
      "File /shared/home/antoine-2etavant/data/weather/temperature/2022-05-29.nc already exists\n",
      "File /shared/home/antoine-2etavant/data/weather/wind_speed/2022-05-29.nc already exists\n"
     ]
    },
    {
     "name": "stderr",
     "output_type": "stream",
     "text": [
      " 15%|█▍        | 118/798 [44:05<8:22:59, 44.38s/it]"
     ]
    },
    {
     "name": "stdout",
     "output_type": "stream",
     "text": [
      "File /shared/home/antoine-2etavant/data/weather/sun_flux/2022-05-30.nc already exists\n",
      "File /shared/home/antoine-2etavant/data/weather/temperature/2022-05-30.nc already exists\n",
      "File /shared/home/antoine-2etavant/data/weather/wind_speed/2022-05-30.nc already exists\n"
     ]
    },
    {
     "name": "stderr",
     "output_type": "stream",
     "text": [
      " 15%|█▍        | 119/798 [44:51<8:28:58, 44.98s/it]"
     ]
    },
    {
     "name": "stdout",
     "output_type": "stream",
     "text": [
      "File /shared/home/antoine-2etavant/data/weather/sun_flux/2022-05-31.nc already exists\n",
      "File /shared/home/antoine-2etavant/data/weather/temperature/2022-05-31.nc already exists\n",
      "File /shared/home/antoine-2etavant/data/weather/wind_speed/2022-05-31.nc already exists\n"
     ]
    },
    {
     "name": "stderr",
     "output_type": "stream",
     "text": [
      " 15%|█▌        | 120/798 [45:34<8:19:17, 44.19s/it]"
     ]
    },
    {
     "name": "stdout",
     "output_type": "stream",
     "text": [
      "File /shared/home/antoine-2etavant/data/weather/sun_flux/2022-06-01.nc already exists\n",
      "File /shared/home/antoine-2etavant/data/weather/temperature/2022-06-01.nc already exists\n",
      "File /shared/home/antoine-2etavant/data/weather/wind_speed/2022-06-01.nc already exists\n"
     ]
    },
    {
     "name": "stderr",
     "output_type": "stream",
     "text": [
      " 15%|█▌        | 121/798 [46:17<8:17:03, 44.05s/it]"
     ]
    },
    {
     "name": "stdout",
     "output_type": "stream",
     "text": [
      "File /shared/home/antoine-2etavant/data/weather/sun_flux/2022-06-02.nc already exists\n",
      "File /shared/home/antoine-2etavant/data/weather/temperature/2022-06-02.nc already exists\n",
      "File /shared/home/antoine-2etavant/data/weather/wind_speed/2022-06-02.nc already exists\n"
     ]
    },
    {
     "name": "stderr",
     "output_type": "stream",
     "text": [
      " 15%|█▌        | 122/798 [47:02<8:20:17, 44.40s/it]"
     ]
    },
    {
     "name": "stdout",
     "output_type": "stream",
     "text": [
      "File /shared/home/antoine-2etavant/data/weather/sun_flux/2022-06-03.nc already exists\n",
      "File /shared/home/antoine-2etavant/data/weather/temperature/2022-06-03.nc already exists\n",
      "File /shared/home/antoine-2etavant/data/weather/wind_speed/2022-06-03.nc already exists\n"
     ]
    },
    {
     "name": "stderr",
     "output_type": "stream",
     "text": [
      " 15%|█▌        | 123/798 [47:45<8:13:58, 43.91s/it]"
     ]
    },
    {
     "name": "stdout",
     "output_type": "stream",
     "text": [
      "File /shared/home/antoine-2etavant/data/weather/sun_flux/2022-06-04.nc already exists\n",
      "File /shared/home/antoine-2etavant/data/weather/temperature/2022-06-04.nc already exists\n",
      "File /shared/home/antoine-2etavant/data/weather/wind_speed/2022-06-04.nc already exists\n"
     ]
    },
    {
     "name": "stderr",
     "output_type": "stream",
     "text": [
      " 16%|█▌        | 124/798 [48:29<8:11:13, 43.73s/it]"
     ]
    },
    {
     "name": "stdout",
     "output_type": "stream",
     "text": [
      "File /shared/home/antoine-2etavant/data/weather/sun_flux/2022-06-05.nc already exists\n",
      "File /shared/home/antoine-2etavant/data/weather/temperature/2022-06-05.nc already exists\n",
      "File /shared/home/antoine-2etavant/data/weather/wind_speed/2022-06-05.nc already exists\n"
     ]
    },
    {
     "name": "stderr",
     "output_type": "stream",
     "text": [
      " 16%|█▌        | 125/798 [49:12<8:09:38, 43.65s/it]"
     ]
    },
    {
     "name": "stdout",
     "output_type": "stream",
     "text": [
      "File /shared/home/antoine-2etavant/data/weather/sun_flux/2022-06-06.nc already exists\n",
      "File /shared/home/antoine-2etavant/data/weather/temperature/2022-06-06.nc already exists\n",
      "File /shared/home/antoine-2etavant/data/weather/wind_speed/2022-06-06.nc already exists\n"
     ]
    },
    {
     "name": "stderr",
     "output_type": "stream",
     "text": [
      " 16%|█▌        | 126/798 [49:55<8:06:29, 43.44s/it]"
     ]
    },
    {
     "name": "stdout",
     "output_type": "stream",
     "text": [
      "File /shared/home/antoine-2etavant/data/weather/sun_flux/2022-06-07.nc already exists\n",
      "File /shared/home/antoine-2etavant/data/weather/temperature/2022-06-07.nc already exists\n",
      "File /shared/home/antoine-2etavant/data/weather/wind_speed/2022-06-07.nc already exists\n"
     ]
    },
    {
     "name": "stderr",
     "output_type": "stream",
     "text": [
      " 16%|█▌        | 127/798 [50:38<8:02:46, 43.17s/it]"
     ]
    },
    {
     "name": "stdout",
     "output_type": "stream",
     "text": [
      "File /shared/home/antoine-2etavant/data/weather/sun_flux/2022-06-08.nc already exists\n",
      "File /shared/home/antoine-2etavant/data/weather/temperature/2022-06-08.nc already exists\n",
      "File /shared/home/antoine-2etavant/data/weather/wind_speed/2022-06-08.nc already exists\n"
     ]
    },
    {
     "name": "stderr",
     "output_type": "stream",
     "text": [
      " 16%|█▌        | 128/798 [51:21<8:02:07, 43.18s/it]"
     ]
    },
    {
     "name": "stdout",
     "output_type": "stream",
     "text": [
      "File /shared/home/antoine-2etavant/data/weather/sun_flux/2022-06-09.nc already exists\n",
      "File /shared/home/antoine-2etavant/data/weather/temperature/2022-06-09.nc already exists\n",
      "File /shared/home/antoine-2etavant/data/weather/wind_speed/2022-06-09.nc already exists\n"
     ]
    },
    {
     "name": "stderr",
     "output_type": "stream",
     "text": [
      " 16%|█▌        | 129/798 [52:03<7:59:59, 43.05s/it]"
     ]
    },
    {
     "name": "stdout",
     "output_type": "stream",
     "text": [
      "File /shared/home/antoine-2etavant/data/weather/sun_flux/2022-06-10.nc already exists\n",
      "File /shared/home/antoine-2etavant/data/weather/temperature/2022-06-10.nc already exists\n",
      "File /shared/home/antoine-2etavant/data/weather/wind_speed/2022-06-10.nc already exists\n"
     ]
    },
    {
     "name": "stderr",
     "output_type": "stream",
     "text": [
      " 16%|█▋        | 130/798 [52:45<7:53:41, 42.55s/it]"
     ]
    },
    {
     "name": "stdout",
     "output_type": "stream",
     "text": [
      "File /shared/home/antoine-2etavant/data/weather/sun_flux/2022-06-11.nc already exists\n",
      "File /shared/home/antoine-2etavant/data/weather/temperature/2022-06-11.nc already exists\n",
      "File /shared/home/antoine-2etavant/data/weather/wind_speed/2022-06-11.nc already exists\n"
     ]
    },
    {
     "name": "stderr",
     "output_type": "stream",
     "text": [
      " 16%|█▋        | 131/798 [53:28<7:54:34, 42.69s/it]"
     ]
    },
    {
     "name": "stdout",
     "output_type": "stream",
     "text": [
      "File /shared/home/antoine-2etavant/data/weather/sun_flux/2022-06-12.nc already exists\n",
      "File /shared/home/antoine-2etavant/data/weather/temperature/2022-06-12.nc already exists\n",
      "File /shared/home/antoine-2etavant/data/weather/wind_speed/2022-06-12.nc already exists\n"
     ]
    },
    {
     "name": "stderr",
     "output_type": "stream",
     "text": [
      " 17%|█▋        | 132/798 [54:12<7:57:12, 42.99s/it]"
     ]
    },
    {
     "name": "stdout",
     "output_type": "stream",
     "text": [
      "File /shared/home/antoine-2etavant/data/weather/sun_flux/2022-06-13.nc already exists\n",
      "File /shared/home/antoine-2etavant/data/weather/temperature/2022-06-13.nc already exists\n",
      "File /shared/home/antoine-2etavant/data/weather/wind_speed/2022-06-13.nc already exists\n"
     ]
    },
    {
     "name": "stderr",
     "output_type": "stream",
     "text": [
      " 17%|█▋        | 133/798 [54:53<7:50:37, 42.46s/it]"
     ]
    },
    {
     "name": "stdout",
     "output_type": "stream",
     "text": [
      "File /shared/home/antoine-2etavant/data/weather/sun_flux/2022-06-14.nc already exists\n",
      "File /shared/home/antoine-2etavant/data/weather/temperature/2022-06-14.nc already exists\n",
      "File /shared/home/antoine-2etavant/data/weather/wind_speed/2022-06-14.nc already exists\n"
     ]
    },
    {
     "name": "stderr",
     "output_type": "stream",
     "text": [
      " 17%|█▋        | 134/798 [55:35<7:47:37, 42.26s/it]"
     ]
    },
    {
     "name": "stdout",
     "output_type": "stream",
     "text": [
      "No file found for date 2022-06-15\n",
      "No file found for date 2022-06-15\n",
      "No file found for date 2022-06-15\n",
      "No file found for date 2022-06-15\n",
      "File /shared/home/antoine-2etavant/data/weather/sun_flux/2022-06-16.nc already exists\n",
      "File /shared/home/antoine-2etavant/data/weather/temperature/2022-06-16.nc already exists\n",
      "File /shared/home/antoine-2etavant/data/weather/wind_speed/2022-06-16.nc already exists\n"
     ]
    },
    {
     "name": "stderr",
     "output_type": "stream",
     "text": [
      " 17%|█▋        | 136/798 [56:17<6:00:17, 32.65s/it]"
     ]
    },
    {
     "name": "stdout",
     "output_type": "stream",
     "text": [
      "File /shared/home/antoine-2etavant/data/weather/sun_flux/2022-06-17.nc already exists\n",
      "File /shared/home/antoine-2etavant/data/weather/temperature/2022-06-17.nc already exists\n",
      "File /shared/home/antoine-2etavant/data/weather/wind_speed/2022-06-17.nc already exists\n"
     ]
    },
    {
     "name": "stderr",
     "output_type": "stream",
     "text": [
      " 17%|█▋        | 137/798 [56:59<6:22:43, 34.74s/it]"
     ]
    },
    {
     "name": "stdout",
     "output_type": "stream",
     "text": [
      "File /shared/home/antoine-2etavant/data/weather/sun_flux/2022-06-18.nc already exists\n",
      "File /shared/home/antoine-2etavant/data/weather/temperature/2022-06-18.nc already exists\n",
      "File /shared/home/antoine-2etavant/data/weather/wind_speed/2022-06-18.nc already exists\n"
     ]
    },
    {
     "name": "stderr",
     "output_type": "stream",
     "text": [
      " 17%|█▋        | 138/798 [57:40<6:40:48, 36.44s/it]"
     ]
    },
    {
     "name": "stdout",
     "output_type": "stream",
     "text": [
      "File /shared/home/antoine-2etavant/data/weather/sun_flux/2022-06-19.nc already exists\n",
      "File /shared/home/antoine-2etavant/data/weather/temperature/2022-06-19.nc already exists\n",
      "File /shared/home/antoine-2etavant/data/weather/wind_speed/2022-06-19.nc already exists\n"
     ]
    },
    {
     "name": "stderr",
     "output_type": "stream",
     "text": [
      " 17%|█▋        | 139/798 [58:23<7:00:20, 38.27s/it]"
     ]
    },
    {
     "name": "stdout",
     "output_type": "stream",
     "text": [
      "File /shared/home/antoine-2etavant/data/weather/sun_flux/2022-06-20.nc already exists\n",
      "File /shared/home/antoine-2etavant/data/weather/temperature/2022-06-20.nc already exists\n",
      "File /shared/home/antoine-2etavant/data/weather/wind_speed/2022-06-20.nc already exists\n"
     ]
    },
    {
     "name": "stderr",
     "output_type": "stream",
     "text": [
      " 18%|█▊        | 140/798 [59:06<7:13:04, 39.49s/it]"
     ]
    },
    {
     "name": "stdout",
     "output_type": "stream",
     "text": [
      "File /shared/home/antoine-2etavant/data/weather/sun_flux/2022-06-21.nc already exists\n",
      "File /shared/home/antoine-2etavant/data/weather/temperature/2022-06-21.nc already exists\n",
      "File /shared/home/antoine-2etavant/data/weather/wind_speed/2022-06-21.nc already exists\n"
     ]
    },
    {
     "name": "stderr",
     "output_type": "stream",
     "text": [
      " 18%|█▊        | 141/798 [59:49<7:23:52, 40.54s/it]"
     ]
    },
    {
     "name": "stdout",
     "output_type": "stream",
     "text": [
      "File /shared/home/antoine-2etavant/data/weather/sun_flux/2022-06-22.nc already exists\n",
      "File /shared/home/antoine-2etavant/data/weather/temperature/2022-06-22.nc already exists\n",
      "File /shared/home/antoine-2etavant/data/weather/wind_speed/2022-06-22.nc already exists\n"
     ]
    },
    {
     "name": "stderr",
     "output_type": "stream",
     "text": [
      " 18%|█▊        | 142/798 [1:00:30<7:25:35, 40.76s/it]"
     ]
    },
    {
     "name": "stdout",
     "output_type": "stream",
     "text": [
      "File /shared/home/antoine-2etavant/data/weather/sun_flux/2022-06-23.nc already exists\n",
      "File /shared/home/antoine-2etavant/data/weather/temperature/2022-06-23.nc already exists\n",
      "File /shared/home/antoine-2etavant/data/weather/wind_speed/2022-06-23.nc already exists\n"
     ]
    },
    {
     "name": "stderr",
     "output_type": "stream",
     "text": [
      " 18%|█▊        | 143/798 [1:01:13<7:31:23, 41.35s/it]"
     ]
    },
    {
     "name": "stdout",
     "output_type": "stream",
     "text": [
      "File /shared/home/antoine-2etavant/data/weather/sun_flux/2022-06-24.nc already exists\n",
      "File /shared/home/antoine-2etavant/data/weather/temperature/2022-06-24.nc already exists\n",
      "File /shared/home/antoine-2etavant/data/weather/wind_speed/2022-06-24.nc already exists\n"
     ]
    },
    {
     "name": "stderr",
     "output_type": "stream",
     "text": [
      " 18%|█▊        | 144/798 [1:01:54<7:30:24, 41.32s/it]"
     ]
    },
    {
     "name": "stdout",
     "output_type": "stream",
     "text": [
      "File /shared/home/antoine-2etavant/data/weather/sun_flux/2022-06-25.nc already exists\n",
      "File /shared/home/antoine-2etavant/data/weather/temperature/2022-06-25.nc already exists\n",
      "File /shared/home/antoine-2etavant/data/weather/wind_speed/2022-06-25.nc already exists\n"
     ]
    },
    {
     "name": "stderr",
     "output_type": "stream",
     "text": [
      " 18%|█▊        | 145/798 [1:02:36<7:30:40, 41.41s/it]"
     ]
    },
    {
     "name": "stdout",
     "output_type": "stream",
     "text": [
      "File /shared/home/antoine-2etavant/data/weather/sun_flux/2022-06-26.nc already exists\n",
      "File /shared/home/antoine-2etavant/data/weather/temperature/2022-06-26.nc already exists\n",
      "File /shared/home/antoine-2etavant/data/weather/wind_speed/2022-06-26.nc already exists\n"
     ]
    },
    {
     "name": "stderr",
     "output_type": "stream",
     "text": [
      " 18%|█▊        | 146/798 [1:03:17<7:28:54, 41.31s/it]"
     ]
    },
    {
     "name": "stdout",
     "output_type": "stream",
     "text": [
      "File /shared/home/antoine-2etavant/data/weather/sun_flux/2022-06-27.nc already exists\n",
      "File /shared/home/antoine-2etavant/data/weather/temperature/2022-06-27.nc already exists\n",
      "File /shared/home/antoine-2etavant/data/weather/wind_speed/2022-06-27.nc already exists\n"
     ]
    },
    {
     "name": "stderr",
     "output_type": "stream",
     "text": [
      " 18%|█▊        | 147/798 [1:03:58<7:29:39, 41.44s/it]"
     ]
    },
    {
     "name": "stdout",
     "output_type": "stream",
     "text": [
      "File /shared/home/antoine-2etavant/data/weather/sun_flux/2022-06-28.nc already exists\n",
      "File /shared/home/antoine-2etavant/data/weather/temperature/2022-06-28.nc already exists\n",
      "File /shared/home/antoine-2etavant/data/weather/wind_speed/2022-06-28.nc already exists\n"
     ]
    },
    {
     "name": "stderr",
     "output_type": "stream",
     "text": [
      " 19%|█▊        | 148/798 [1:04:40<7:30:10, 41.55s/it]"
     ]
    },
    {
     "name": "stdout",
     "output_type": "stream",
     "text": [
      "File /shared/home/antoine-2etavant/data/weather/sun_flux/2022-06-29.nc already exists\n",
      "File /shared/home/antoine-2etavant/data/weather/temperature/2022-06-29.nc already exists\n",
      "File /shared/home/antoine-2etavant/data/weather/wind_speed/2022-06-29.nc already exists\n"
     ]
    },
    {
     "name": "stderr",
     "output_type": "stream",
     "text": [
      " 19%|█▊        | 149/798 [1:05:22<7:28:33, 41.47s/it]"
     ]
    },
    {
     "name": "stdout",
     "output_type": "stream",
     "text": [
      "File /shared/home/antoine-2etavant/data/weather/sun_flux/2022-06-30.nc already exists\n",
      "File /shared/home/antoine-2etavant/data/weather/temperature/2022-06-30.nc already exists\n",
      "File /shared/home/antoine-2etavant/data/weather/wind_speed/2022-06-30.nc already exists\n"
     ]
    },
    {
     "name": "stderr",
     "output_type": "stream",
     "text": [
      " 19%|█▉        | 150/798 [1:06:04<7:29:46, 41.65s/it]"
     ]
    },
    {
     "name": "stdout",
     "output_type": "stream",
     "text": [
      "File /shared/home/antoine-2etavant/data/weather/sun_flux/2022-07-01.nc already exists\n",
      "File /shared/home/antoine-2etavant/data/weather/temperature/2022-07-01.nc already exists\n",
      "File /shared/home/antoine-2etavant/data/weather/wind_speed/2022-07-01.nc already exists\n"
     ]
    },
    {
     "name": "stderr",
     "output_type": "stream",
     "text": [
      " 19%|█▉        | 151/798 [1:06:46<7:32:35, 41.97s/it]"
     ]
    },
    {
     "name": "stdout",
     "output_type": "stream",
     "text": [
      "File /shared/home/antoine-2etavant/data/weather/sun_flux/2022-07-02.nc already exists\n",
      "File /shared/home/antoine-2etavant/data/weather/temperature/2022-07-02.nc already exists\n",
      "File /shared/home/antoine-2etavant/data/weather/wind_speed/2022-07-02.nc already exists\n"
     ]
    },
    {
     "name": "stderr",
     "output_type": "stream",
     "text": [
      " 19%|█▉        | 152/798 [1:07:29<7:34:08, 42.18s/it]"
     ]
    },
    {
     "name": "stdout",
     "output_type": "stream",
     "text": [
      "File /shared/home/antoine-2etavant/data/weather/sun_flux/2022-07-03.nc already exists\n",
      "File /shared/home/antoine-2etavant/data/weather/temperature/2022-07-03.nc already exists\n",
      "File /shared/home/antoine-2etavant/data/weather/wind_speed/2022-07-03.nc already exists\n"
     ]
    },
    {
     "name": "stderr",
     "output_type": "stream",
     "text": [
      " 19%|█▉        | 153/798 [1:08:12<7:35:25, 42.37s/it]"
     ]
    },
    {
     "name": "stdout",
     "output_type": "stream",
     "text": [
      "File /shared/home/antoine-2etavant/data/weather/sun_flux/2022-07-04.nc already exists\n",
      "File /shared/home/antoine-2etavant/data/weather/temperature/2022-07-04.nc already exists\n",
      "File /shared/home/antoine-2etavant/data/weather/wind_speed/2022-07-04.nc already exists\n"
     ]
    },
    {
     "name": "stderr",
     "output_type": "stream",
     "text": [
      " 19%|█▉        | 154/798 [1:08:55<7:37:31, 42.63s/it]"
     ]
    },
    {
     "name": "stdout",
     "output_type": "stream",
     "text": [
      "File /shared/home/antoine-2etavant/data/weather/sun_flux/2022-07-05.nc already exists\n",
      "File /shared/home/antoine-2etavant/data/weather/temperature/2022-07-05.nc already exists\n",
      "File /shared/home/antoine-2etavant/data/weather/wind_speed/2022-07-05.nc already exists\n"
     ]
    },
    {
     "name": "stderr",
     "output_type": "stream",
     "text": [
      " 19%|█▉        | 155/798 [1:09:37<7:33:05, 42.28s/it]"
     ]
    },
    {
     "name": "stdout",
     "output_type": "stream",
     "text": [
      "File /shared/home/antoine-2etavant/data/weather/sun_flux/2022-07-06.nc already exists\n",
      "File /shared/home/antoine-2etavant/data/weather/temperature/2022-07-06.nc already exists\n",
      "File /shared/home/antoine-2etavant/data/weather/wind_speed/2022-07-06.nc already exists\n"
     ]
    },
    {
     "name": "stderr",
     "output_type": "stream",
     "text": [
      " 20%|█▉        | 156/798 [1:10:20<7:35:25, 42.56s/it]"
     ]
    },
    {
     "name": "stdout",
     "output_type": "stream",
     "text": [
      "File /shared/home/antoine-2etavant/data/weather/sun_flux/2022-07-07.nc already exists\n",
      "File /shared/home/antoine-2etavant/data/weather/temperature/2022-07-07.nc already exists\n",
      "File /shared/home/antoine-2etavant/data/weather/wind_speed/2022-07-07.nc already exists\n"
     ]
    },
    {
     "name": "stderr",
     "output_type": "stream",
     "text": [
      " 20%|█▉        | 157/798 [1:11:03<7:37:15, 42.80s/it]"
     ]
    },
    {
     "name": "stdout",
     "output_type": "stream",
     "text": [
      "File /shared/home/antoine-2etavant/data/weather/sun_flux/2022-07-08.nc already exists\n",
      "File /shared/home/antoine-2etavant/data/weather/temperature/2022-07-08.nc already exists\n",
      "File /shared/home/antoine-2etavant/data/weather/wind_speed/2022-07-08.nc already exists\n"
     ]
    },
    {
     "name": "stderr",
     "output_type": "stream",
     "text": [
      " 20%|█▉        | 158/798 [1:11:47<7:39:37, 43.09s/it]"
     ]
    },
    {
     "name": "stdout",
     "output_type": "stream",
     "text": [
      "File /shared/home/antoine-2etavant/data/weather/sun_flux/2022-07-09.nc already exists\n",
      "File /shared/home/antoine-2etavant/data/weather/temperature/2022-07-09.nc already exists\n",
      "File /shared/home/antoine-2etavant/data/weather/wind_speed/2022-07-09.nc already exists\n"
     ]
    },
    {
     "name": "stderr",
     "output_type": "stream",
     "text": [
      " 20%|█▉        | 159/798 [1:12:29<7:35:41, 42.79s/it]"
     ]
    },
    {
     "name": "stdout",
     "output_type": "stream",
     "text": [
      "File /shared/home/antoine-2etavant/data/weather/sun_flux/2022-07-10.nc already exists\n",
      "File /shared/home/antoine-2etavant/data/weather/temperature/2022-07-10.nc already exists\n",
      "File /shared/home/antoine-2etavant/data/weather/wind_speed/2022-07-10.nc already exists\n"
     ]
    },
    {
     "name": "stderr",
     "output_type": "stream",
     "text": [
      " 20%|██        | 160/798 [1:13:12<7:34:11, 42.71s/it]"
     ]
    },
    {
     "name": "stdout",
     "output_type": "stream",
     "text": [
      "File /shared/home/antoine-2etavant/data/weather/sun_flux/2022-07-11.nc already exists\n",
      "File /shared/home/antoine-2etavant/data/weather/temperature/2022-07-11.nc already exists\n",
      "File /shared/home/antoine-2etavant/data/weather/wind_speed/2022-07-11.nc already exists\n"
     ]
    },
    {
     "name": "stderr",
     "output_type": "stream",
     "text": [
      " 20%|██        | 161/798 [1:13:59<7:49:35, 44.23s/it]"
     ]
    },
    {
     "name": "stdout",
     "output_type": "stream",
     "text": [
      "File /shared/home/antoine-2etavant/data/weather/sun_flux/2022-07-12.nc already exists\n",
      "File /shared/home/antoine-2etavant/data/weather/temperature/2022-07-12.nc already exists\n",
      "File /shared/home/antoine-2etavant/data/weather/wind_speed/2022-07-12.nc already exists\n"
     ]
    },
    {
     "name": "stderr",
     "output_type": "stream",
     "text": [
      " 20%|██        | 162/798 [1:14:40<7:38:24, 43.25s/it]"
     ]
    },
    {
     "name": "stdout",
     "output_type": "stream",
     "text": [
      "File /shared/home/antoine-2etavant/data/weather/sun_flux/2022-07-13.nc already exists\n",
      "File /shared/home/antoine-2etavant/data/weather/temperature/2022-07-13.nc already exists\n",
      "File /shared/home/antoine-2etavant/data/weather/wind_speed/2022-07-13.nc already exists\n"
     ]
    },
    {
     "name": "stderr",
     "output_type": "stream",
     "text": [
      " 20%|██        | 163/798 [1:15:21<7:31:04, 42.62s/it]"
     ]
    },
    {
     "name": "stdout",
     "output_type": "stream",
     "text": [
      "File /shared/home/antoine-2etavant/data/weather/sun_flux/2022-07-14.nc already exists\n",
      "File /shared/home/antoine-2etavant/data/weather/temperature/2022-07-14.nc already exists\n",
      "File /shared/home/antoine-2etavant/data/weather/wind_speed/2022-07-14.nc already exists\n"
     ]
    },
    {
     "name": "stderr",
     "output_type": "stream",
     "text": [
      " 21%|██        | 164/798 [1:16:03<7:26:17, 42.24s/it]"
     ]
    },
    {
     "name": "stdout",
     "output_type": "stream",
     "text": [
      "File /shared/home/antoine-2etavant/data/weather/sun_flux/2022-07-15.nc already exists\n",
      "File /shared/home/antoine-2etavant/data/weather/temperature/2022-07-15.nc already exists\n",
      "File /shared/home/antoine-2etavant/data/weather/wind_speed/2022-07-15.nc already exists\n"
     ]
    },
    {
     "name": "stderr",
     "output_type": "stream",
     "text": [
      " 21%|██        | 165/798 [1:16:46<7:27:41, 42.44s/it]"
     ]
    },
    {
     "name": "stdout",
     "output_type": "stream",
     "text": [
      "File /shared/home/antoine-2etavant/data/weather/sun_flux/2022-07-16.nc already exists\n",
      "File /shared/home/antoine-2etavant/data/weather/temperature/2022-07-16.nc already exists\n",
      "File /shared/home/antoine-2etavant/data/weather/wind_speed/2022-07-16.nc already exists\n"
     ]
    },
    {
     "name": "stderr",
     "output_type": "stream",
     "text": [
      " 21%|██        | 166/798 [1:17:27<7:22:01, 41.96s/it]"
     ]
    },
    {
     "name": "stdout",
     "output_type": "stream",
     "text": [
      "File /shared/home/antoine-2etavant/data/weather/sun_flux/2022-07-17.nc already exists\n",
      "File /shared/home/antoine-2etavant/data/weather/temperature/2022-07-17.nc already exists\n",
      "File /shared/home/antoine-2etavant/data/weather/wind_speed/2022-07-17.nc already exists\n"
     ]
    },
    {
     "name": "stderr",
     "output_type": "stream",
     "text": [
      " 21%|██        | 167/798 [1:18:09<7:22:13, 42.05s/it]"
     ]
    },
    {
     "name": "stdout",
     "output_type": "stream",
     "text": [
      "File /shared/home/antoine-2etavant/data/weather/sun_flux/2022-07-18.nc already exists\n",
      "File /shared/home/antoine-2etavant/data/weather/temperature/2022-07-18.nc already exists\n",
      "File /shared/home/antoine-2etavant/data/weather/wind_speed/2022-07-18.nc already exists\n"
     ]
    },
    {
     "name": "stderr",
     "output_type": "stream",
     "text": [
      " 21%|██        | 168/798 [1:18:50<7:18:25, 41.76s/it]"
     ]
    },
    {
     "name": "stdout",
     "output_type": "stream",
     "text": [
      "File /shared/home/antoine-2etavant/data/weather/sun_flux/2022-07-19.nc already exists\n",
      "File /shared/home/antoine-2etavant/data/weather/temperature/2022-07-19.nc already exists\n",
      "File /shared/home/antoine-2etavant/data/weather/wind_speed/2022-07-19.nc already exists\n"
     ]
    },
    {
     "name": "stderr",
     "output_type": "stream",
     "text": [
      " 21%|██        | 169/798 [1:19:31<7:16:18, 41.62s/it]"
     ]
    },
    {
     "name": "stdout",
     "output_type": "stream",
     "text": [
      "File /shared/home/antoine-2etavant/data/weather/sun_flux/2022-07-20.nc already exists\n",
      "File /shared/home/antoine-2etavant/data/weather/temperature/2022-07-20.nc already exists\n",
      "File /shared/home/antoine-2etavant/data/weather/wind_speed/2022-07-20.nc already exists\n"
     ]
    },
    {
     "name": "stderr",
     "output_type": "stream",
     "text": [
      " 21%|██▏       | 170/798 [1:20:13<7:17:33, 41.80s/it]"
     ]
    },
    {
     "name": "stdout",
     "output_type": "stream",
     "text": [
      "File /shared/home/antoine-2etavant/data/weather/sun_flux/2022-07-21.nc already exists\n",
      "File /shared/home/antoine-2etavant/data/weather/temperature/2022-07-21.nc already exists\n",
      "File /shared/home/antoine-2etavant/data/weather/wind_speed/2022-07-21.nc already exists\n"
     ]
    },
    {
     "name": "stderr",
     "output_type": "stream",
     "text": [
      " 21%|██▏       | 171/798 [1:20:54<7:13:13, 41.46s/it]"
     ]
    },
    {
     "name": "stdout",
     "output_type": "stream",
     "text": [
      "File /shared/home/antoine-2etavant/data/weather/sun_flux/2022-07-22.nc already exists\n",
      "File /shared/home/antoine-2etavant/data/weather/temperature/2022-07-22.nc already exists\n",
      "File /shared/home/antoine-2etavant/data/weather/wind_speed/2022-07-22.nc already exists\n"
     ]
    },
    {
     "name": "stderr",
     "output_type": "stream",
     "text": [
      " 22%|██▏       | 172/798 [1:21:36<7:14:12, 41.62s/it]"
     ]
    },
    {
     "name": "stdout",
     "output_type": "stream",
     "text": [
      "File /shared/home/antoine-2etavant/data/weather/sun_flux/2022-07-23.nc already exists\n",
      "File /shared/home/antoine-2etavant/data/weather/temperature/2022-07-23.nc already exists\n",
      "File /shared/home/antoine-2etavant/data/weather/wind_speed/2022-07-23.nc already exists\n"
     ]
    },
    {
     "name": "stderr",
     "output_type": "stream",
     "text": [
      " 22%|██▏       | 173/798 [1:22:17<7:11:11, 41.39s/it]"
     ]
    },
    {
     "name": "stdout",
     "output_type": "stream",
     "text": [
      "File /shared/home/antoine-2etavant/data/weather/sun_flux/2022-07-24.nc already exists\n",
      "File /shared/home/antoine-2etavant/data/weather/temperature/2022-07-24.nc already exists\n",
      "File /shared/home/antoine-2etavant/data/weather/wind_speed/2022-07-24.nc already exists\n"
     ]
    },
    {
     "name": "stderr",
     "output_type": "stream",
     "text": [
      " 22%|██▏       | 174/798 [1:22:58<7:10:51, 41.43s/it]"
     ]
    },
    {
     "name": "stdout",
     "output_type": "stream",
     "text": [
      "File /shared/home/antoine-2etavant/data/weather/sun_flux/2022-07-25.nc already exists\n",
      "File /shared/home/antoine-2etavant/data/weather/temperature/2022-07-25.nc already exists\n",
      "File /shared/home/antoine-2etavant/data/weather/wind_speed/2022-07-25.nc already exists\n"
     ]
    },
    {
     "name": "stderr",
     "output_type": "stream",
     "text": [
      " 22%|██▏       | 175/798 [1:23:39<7:08:14, 41.24s/it]"
     ]
    },
    {
     "name": "stdout",
     "output_type": "stream",
     "text": [
      "File /shared/home/antoine-2etavant/data/weather/sun_flux/2022-07-26.nc already exists\n",
      "File /shared/home/antoine-2etavant/data/weather/temperature/2022-07-26.nc already exists\n",
      "File /shared/home/antoine-2etavant/data/weather/wind_speed/2022-07-26.nc already exists\n"
     ]
    },
    {
     "name": "stderr",
     "output_type": "stream",
     "text": [
      " 22%|██▏       | 176/798 [1:24:20<7:05:25, 41.04s/it]"
     ]
    },
    {
     "name": "stdout",
     "output_type": "stream",
     "text": [
      "File /shared/home/antoine-2etavant/data/weather/sun_flux/2022-07-27.nc already exists\n",
      "File /shared/home/antoine-2etavant/data/weather/temperature/2022-07-27.nc already exists\n",
      "File /shared/home/antoine-2etavant/data/weather/wind_speed/2022-07-27.nc already exists\n"
     ]
    },
    {
     "name": "stderr",
     "output_type": "stream",
     "text": [
      " 22%|██▏       | 177/798 [1:25:01<7:06:19, 41.19s/it]"
     ]
    },
    {
     "name": "stdout",
     "output_type": "stream",
     "text": [
      "File /shared/home/antoine-2etavant/data/weather/sun_flux/2022-07-28.nc already exists\n"
     ]
    },
    {
     "name": "stderr",
     "output_type": "stream",
     "text": [
      " 36%|███▌      | 289/798 [4:33:31<13:26:28, 95.07s/it] "
     ]
    },
    {
     "name": "stdout",
     "output_type": "stream",
     "text": [
      "No file found for date 2022-11-17\n",
      "No file found for date 2022-11-17\n",
      "No file found for date 2022-11-17\n",
      "No file found for date 2022-11-17\n",
      "No file found for date 2022-11-18\n",
      "No file found for date 2022-11-18\n",
      "No file found for date 2022-11-18\n",
      "No file found for date 2022-11-18\n",
      "No file found for date 2022-11-19\n",
      "No file found for date 2022-11-19\n",
      "No file found for date 2022-11-19\n",
      "No file found for date 2022-11-19\n",
      "No file found for date 2022-11-20\n",
      "No file found for date 2022-11-20\n",
      "No file found for date 2022-11-20\n",
      "No file found for date 2022-11-20\n"
     ]
    },
    {
     "name": "stderr",
     "output_type": "stream",
     "text": [
      " 43%|████▎     | 343/798 [5:45:20<3:55:42, 31.08s/it] "
     ]
    },
    {
     "name": "stdout",
     "output_type": "stream",
     "text": [
      "No file found for date 2023-01-05\n",
      "No file found for date 2023-01-05\n",
      "No file found for date 2023-01-05\n",
      "No file found for date 2023-01-05\n",
      "No file found for date 2023-01-06\n",
      "No file found for date 2023-01-06\n",
      "No file found for date 2023-01-06\n",
      "No file found for date 2023-01-06\n",
      "No file found for date 2023-01-07\n",
      "No file found for date 2023-01-07\n",
      "No file found for date 2023-01-07\n",
      "No file found for date 2023-01-07\n",
      "No file found for date 2023-01-08\n",
      "No file found for date 2023-01-08\n",
      "No file found for date 2023-01-08\n",
      "No file found for date 2023-01-08\n",
      "No file found for date 2023-01-09\n",
      "No file found for date 2023-01-09\n",
      "No file found for date 2023-01-09\n",
      "No file found for date 2023-01-09\n",
      "No file found for date 2023-01-10\n",
      "No file found for date 2023-01-10\n",
      "No file found for date 2023-01-10\n",
      "No file found for date 2023-01-10\n",
      "No file found for date 2023-01-11\n",
      "No file found for date 2023-01-11\n",
      "No file found for date 2023-01-11\n",
      "No file found for date 2023-01-11\n",
      "No file found for date 2023-01-12\n",
      "No file found for date 2023-01-12\n",
      "No file found for date 2023-01-12\n",
      "No file found for date 2023-01-12\n",
      "No file found for date 2023-01-13\n",
      "No file found for date 2023-01-13\n",
      "No file found for date 2023-01-13\n",
      "No file found for date 2023-01-13\n",
      "No file found for date 2023-01-14\n",
      "No file found for date 2023-01-14\n",
      "No file found for date 2023-01-14\n",
      "No file found for date 2023-01-14\n"
     ]
    },
    {
     "name": "stderr",
     "output_type": "stream",
     "text": [
      " 48%|████▊     | 385/798 [6:48:01<12:05:01, 105.33s/it]"
     ]
    },
    {
     "name": "stdout",
     "output_type": "stream",
     "text": [
      "No file found for date 2023-02-21\n",
      "No file found for date 2023-02-21\n",
      "No file found for date 2023-02-21\n",
      "No file found for date 2023-02-21\n"
     ]
    },
    {
     "name": "stderr",
     "output_type": "stream",
     "text": [
      " 51%|█████     | 406/798 [7:22:56<11:10:52, 102.69s/it]"
     ]
    },
    {
     "name": "stdout",
     "output_type": "stream",
     "text": [
      "No file found for date 2023-03-14\n",
      "No file found for date 2023-03-14\n",
      "No file found for date 2023-03-14\n",
      "No file found for date 2023-03-14\n"
     ]
    },
    {
     "name": "stderr",
     "output_type": "stream",
     "text": [
      " 87%|████████▋ | 692/798 [15:36:19<2:50:04, 96.27s/it] "
     ]
    },
    {
     "name": "stdout",
     "output_type": "stream",
     "text": [
      "No file found for date 2023-12-25\n",
      "No file found for date 2023-12-25\n",
      "No file found for date 2023-12-25\n",
      "No file found for date 2023-12-25\n"
     ]
    },
    {
     "name": "stderr",
     "output_type": "stream",
     "text": [
      " 88%|████████▊ | 700/798 [15:48:18<2:43:46, 100.27s/it]"
     ]
    },
    {
     "name": "stdout",
     "output_type": "stream",
     "text": [
      "No file found for date 2024-01-02\n",
      "No file found for date 2024-01-02\n",
      "No file found for date 2024-01-02\n",
      "No file found for date 2024-01-02\n"
     ]
    },
    {
     "name": "stderr",
     "output_type": "stream",
     "text": [
      " 90%|████████▉ | 716/798 [16:14:43<2:23:55, 105.31s/it]"
     ]
    },
    {
     "name": "stdout",
     "output_type": "stream",
     "text": [
      "No file found for date 2024-01-18\n",
      "No file found for date 2024-01-18\n",
      "No file found for date 2024-01-18\n",
      "No file found for date 2024-01-18\n"
     ]
    },
    {
     "name": "stderr",
     "output_type": "stream",
     "text": [
      " 92%|█████████▏| 736/798 [16:47:15<1:47:28, 104.01s/it]"
     ]
    },
    {
     "name": "stdout",
     "output_type": "stream",
     "text": [
      "No file found for date 2024-02-07\n",
      "No file found for date 2024-02-07\n",
      "No file found for date 2024-02-07\n",
      "No file found for date 2024-02-07\n"
     ]
    },
    {
     "name": "stderr",
     "output_type": "stream",
     "text": [
      " 93%|█████████▎| 739/798 [16:50:46<1:25:02, 86.48s/it] "
     ]
    },
    {
     "name": "stdout",
     "output_type": "stream",
     "text": [
      "No file found for date 2024-02-10\n",
      "No file found for date 2024-02-10\n",
      "No file found for date 2024-02-10\n",
      "No file found for date 2024-02-10\n"
     ]
    },
    {
     "name": "stderr",
     "output_type": "stream",
     "text": [
      " 93%|█████████▎| 743/798 [16:56:08<1:19:53, 87.15s/it]"
     ]
    },
    {
     "name": "stdout",
     "output_type": "stream",
     "text": [
      "No file found for date 2024-02-14\n",
      "No file found for date 2024-02-14\n",
      "No file found for date 2024-02-14\n",
      "No file found for date 2024-02-14\n"
     ]
    },
    {
     "name": "stderr",
     "output_type": "stream",
     "text": [
      " 96%|█████████▌| 765/798 [17:33:10<57:49, 105.12s/it]  "
     ]
    },
    {
     "name": "stdout",
     "output_type": "stream",
     "text": [
      "No file found for date 2024-03-07\n",
      "No file found for date 2024-03-07\n",
      "No file found for date 2024-03-07\n",
      "No file found for date 2024-03-07\n"
     ]
    },
    {
     "name": "stderr",
     "output_type": "stream",
     "text": [
      " 98%|█████████▊| 782/798 [18:02:02<29:21, 110.12s/it]"
     ]
    },
    {
     "name": "stdout",
     "output_type": "stream",
     "text": [
      "No file found for date 2024-03-24\n",
      "No file found for date 2024-03-24\n",
      "No file found for date 2024-03-24\n",
      "No file found for date 2024-03-24\n"
     ]
    },
    {
     "name": "stderr",
     "output_type": "stream",
     "text": [
      " 99%|█████████▉| 789/798 [18:13:05<15:44, 104.97s/it]"
     ]
    },
    {
     "name": "stdout",
     "output_type": "stream",
     "text": [
      "No file found for date 2024-03-31\n",
      "No file found for date 2024-03-31\n",
      "No file found for date 2024-03-31\n",
      "No file found for date 2024-03-31\n"
     ]
    },
    {
     "name": "stderr",
     "output_type": "stream",
     "text": [
      "100%|██████████| 798/798 [18:27:30<00:00, 83.27s/it] \n"
     ]
    }
   ],
   "source": [
    "process_all_dates(list_date)"
   ]
  },
  {
   "cell_type": "markdown",
   "metadata": {},
   "source": []
  },
  {
   "cell_type": "markdown",
   "metadata": {},
   "source": [
    "# Ouvrir les fichier et autres verifications"
   ]
  },
  {
   "cell_type": "code",
   "execution_count": 2,
   "metadata": {},
   "outputs": [],
   "source": [
    "import xarray as xr\n",
    "from pathlib import Path\n",
    "import pandas as pd"
   ]
  },
  {
   "cell_type": "code",
   "execution_count": 3,
   "metadata": {},
   "outputs": [],
   "source": [
    "root_path_ssrd = Path(\"/shared/home/antoine-2etavant/data/weather/sun_flux/\")\n",
    "root_path_si10 = Path(\"/shared/home/antoine-2etavant/data/weather/wind_speed/\")\n",
    "root_path_t2m = Path(\"/shared/home/antoine-2etavant/data/weather/temperature/\")\n",
    "root_path_ssr = Path(\"/shared/home/antoine-2etavant/data/weather/sun_flux_total/\")"
   ]
  },
  {
   "cell_type": "code",
   "execution_count": 4,
   "metadata": {},
   "outputs": [
    {
     "name": "stdout",
     "output_type": "stream",
     "text": [
      "Number of files for ssrd: 772\n",
      "Number of files for si10: 772\n",
      "Number of files for t2m: 772\n",
      "Number of files for ssr: 772\n"
     ]
    }
   ],
   "source": [
    "files_ssrd = list(root_path_ssrd.glob(\"*.nc\"))\n",
    "n_files_ssrd = len(files_ssrd)\n",
    "files_si10 = list(root_path_si10.glob(\"*.nc\"))\n",
    "n_files_si10 = len(files_si10)\n",
    "files_t2m = list(root_path_t2m.glob(\"*.nc\"))\n",
    "n_files_t2m = len(files_t2m)\n",
    "files_ssr = list(root_path_ssr.glob(\"*.nc\"))\n",
    "n_files_ssr = len(files_ssr)\n",
    "\n",
    "\n",
    "print(f\"Number of files for ssrd: {n_files_ssrd}\")\n",
    "print(f\"Number of files for si10: {n_files_si10}\")\n",
    "print(f\"Number of files for t2m: {n_files_t2m}\")\n",
    "print(f\"Number of files for ssr: {n_files_ssr}\")"
   ]
  },
  {
   "cell_type": "code",
   "execution_count": 5,
   "metadata": {},
   "outputs": [
    {
     "name": "stdout",
     "output_type": "stream",
     "text": [
      "processing ssr\n",
      "processing ssrd\n",
      "processing si10\n",
      "processing t2m\n",
      "done\n"
     ]
    }
   ],
   "source": [
    "print(\"processing ssr\")\n",
    "ds_ssr = xr.open_mfdataset(files_ssr, combine=\"by_coords\")\n",
    "ds_ssr.to_netcdf(\"/shared/home/antoine-2etavant/data/weather/sun_flux_total.nc\")\n",
    "print(\"processing ssrd\")\n",
    "ds_ssrd = xr.open_mfdataset(files_ssrd, combine=\"by_coords\")\n",
    "ds_ssrd.to_netcdf(\"/shared/home/antoine-2etavant/data/weather/sun_flux_downward.nc\")\n",
    "print(\"processing si10\")\n",
    "ds_si10 = xr.open_mfdataset(files_si10, combine=\"by_coords\")\n",
    "ds_si10.to_netcdf(\"/shared/home/antoine-2etavant/data/weather/wind_speed.nc\")\n",
    "print(\"processing t2m\")\n",
    "ds_t2m = xr.open_mfdataset(files_t2m, combine=\"by_coords\")\n",
    "ds_t2m.to_netcdf(\"/shared/home/antoine-2etavant/data/weather/temperature.nc\")\n",
    "print(\"done\")"
   ]
  },
  {
   "cell_type": "markdown",
   "metadata": {},
   "source": []
  }
 ],
 "metadata": {
  "kernelspec": {
   "display_name": "energy-forecast",
   "language": "python",
   "name": "python3"
  },
  "language_info": {
   "codemirror_mode": {
    "name": "ipython",
    "version": 3
   },
   "file_extension": ".py",
   "mimetype": "text/x-python",
   "name": "python",
   "nbconvert_exporter": "python",
   "pygments_lexer": "ipython3",
   "version": "3.10.12"
  }
 },
 "nbformat": 4,
 "nbformat_minor": 2
}
