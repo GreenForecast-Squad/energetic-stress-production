{
 "cells": [
  {
   "cell_type": "markdown",
   "metadata": {},
   "source": [
    "# Récupération des jours Tempos\n",
    "\n",
    "## Objectif\n",
    "Ce notebook a pour objectif de récupérer les jours Tempo.\n",
    "\n",
    "Il utilise l'API de Enedis pour récupérer les jours Tempo."
   ]
  },
  {
   "cell_type": "code",
   "execution_count": 24,
   "metadata": {},
   "outputs": [],
   "source": [
    "import pandas as pd\n",
    "import os\n",
    "import requests\n",
    "import zipfile\n",
    "from pathlib import Path"
   ]
  },
  {
   "cell_type": "code",
   "execution_count": 8,
   "metadata": {},
   "outputs": [],
   "source": [
    "url = \"https://eco2mix.rte-france.com/curves/downloadCalendrierTempo?season=14-24\""
   ]
  },
  {
   "cell_type": "markdown",
   "metadata": {},
   "source": [
    "## Fetch les jours Tempo\n",
    "\n",
    "Le fichier téléchargé est un fichier CSV mais qui se termine en \"xls\" et il est zipé."
   ]
  },
  {
   "cell_type": "code",
   "execution_count": 10,
   "metadata": {},
   "outputs": [],
   "source": [
    "r = requests.get(url)\n",
    "root_dir = Path(\"../\")\n",
    "bronze_dir: Path = root_dir / \"data\" / \"bronze\"\n",
    "filename_zip = bronze_dir / \"tempo.zip\"\n",
    "with open(filename_zip, \"wb\") as f:\n",
    "    f.write(r.content)\n",
    "\n",
    "with zipfile.ZipFile(filename_zip, \"r\") as zip_ref:\n",
    "    zip_ref.extractall(bronze_dir / \"tempo\")"
   ]
  },
  {
   "cell_type": "markdown",
   "metadata": {},
   "source": [
    "## Conversion du fichier\n"
   ]
  },
  {
   "cell_type": "code",
   "execution_count": 22,
   "metadata": {},
   "outputs": [
    {
     "name": "stdout",
     "output_type": "stream",
     "text": [
      "<class 'pandas.core.frame.DataFrame'>\n",
      "DatetimeIndex: 3584 entries, 2014-09-01 to 2024-06-23\n",
      "Data columns (total 1 columns):\n",
      " #   Column      Non-Null Count  Dtype   \n",
      "---  ------      --------------  -----   \n",
      " 0   tempo_type  3584 non-null   category\n",
      "dtypes: category(1)\n",
      "memory usage: 31.6 KB\n"
     ]
    }
   ],
   "source": [
    "tempo_file = bronze_dir / \"tempo\" / \"eCO2mix_RTE_tempo_2014-2024.xls\"\n",
    "df = pd.read_csv(\n",
    "    tempo_file,\n",
    "    sep=\"\\t\",\n",
    "    skipfooter=1,\n",
    "    engine=\"python\",\n",
    "    parse_dates=[\"Date\"],\n",
    "    index_col=\"Date\",\n",
    "    dtype=\"category\",\n",
    ")\n",
    "df.rename(columns={\"Type de jour TEMPO\": \"tempo_type\"}, inplace=True)\n",
    "df.info()"
   ]
  },
  {
   "cell_type": "code",
   "execution_count": 23,
   "metadata": {},
   "outputs": [],
   "source": [
    "silver_dir = root_dir / \"data\" / \"silver\"\n",
    "os.makedirs(silver_dir, exist_ok=True)\n",
    "silver_file = silver_dir / \"tempo_2014_2024.csv\"\n",
    "df.to_csv(silver_file)"
   ]
  },
  {
   "cell_type": "markdown",
   "metadata": {},
   "source": [
    "# Conclusion\n",
    "Ce notebook utilise l'API de Enedis pour récupérer l'historique des jours Tempo de 2014 à 2024.\n",
    "\n",
    "Un fichier temporaire est stocké dans le répertoir `/data/bronze` puis la version CSV est stockée dans le répertoire `/data/silver`.\n"
   ]
  },
  {
   "cell_type": "markdown",
   "metadata": {},
   "source": []
  }
 ],
 "metadata": {
  "kernelspec": {
   "display_name": "meteofrance",
   "language": "python",
   "name": "python3"
  },
  "language_info": {
   "codemirror_mode": {
    "name": "ipython",
    "version": 3
   },
   "file_extension": ".py",
   "mimetype": "text/x-python",
   "name": "python",
   "nbconvert_exporter": "python",
   "pygments_lexer": "ipython3",
   "version": "3.10.12"
  }
 },
 "nbformat": 4,
 "nbformat_minor": 2
}
