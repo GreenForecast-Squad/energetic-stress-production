{
 "cells": [
  {
   "cell_type": "markdown",
   "metadata": {},
   "source": [
    "# Predicting the Photo-voltaic energy production\n",
    "\n",
    "This Notebook aims at predicting the energy producte by solar pannel.\n",
    "\n",
    "It uses weather data extracted from the MeteoFrance numerical models, as well as history of productions provided by RTE."
   ]
  },
  {
   "cell_type": "code",
   "execution_count": null,
   "metadata": {},
   "outputs": [],
   "source": [
    "import pandas as pd\n",
    "import numpy as np\n",
    "import matplotlib.pyplot as plt"
   ]
  },
  {
   "cell_type": "code",
   "execution_count": null,
   "metadata": {},
   "outputs": [],
   "source": [
    "filename_ssrd_regions = \"./all_ssrd_regions.parquet\"\n",
    "filename_energy_preduction = \"../../clean_datasets/rte_agg_daily_2014_2024.csv\""
   ]
  },
  {
   "cell_type": "code",
   "execution_count": null,
   "metadata": {},
   "outputs": [],
   "source": [
    "df_ssrd_regions = pd.read_parquet(filename_ssrd_regions)\n",
    "# sanitise the column names\n",
    "region_names = [\n",
    "    col.replace(\" \", \"_\").replace(\"'\", \"_\").replace(\"-\", \"_\").lower()\n",
    "    for col in df_ssrd_regions.columns\n",
    "]\n",
    "df_ssrd_regions.columns = region_names\n",
    "region_names = df_ssrd_regions.columns\n",
    "df_ssrd_regions = df_ssrd_regions.resample(\n",
    "    \"D\"\n",
    ").mean()  # Doing so to add empty rows for missing days\n",
    "df_ssrd_regions.plot(figsize=(15, 10))\n",
    "df_ssrd_regions[\"days_from_start\"] = [\n",
    "    (date - df_ssrd_regions.index[0]).days for date in df_ssrd_regions.index\n",
    "]\n",
    "df_ssrd_regions.head()"
   ]
  },
  {
   "cell_type": "code",
   "execution_count": null,
   "metadata": {},
   "outputs": [],
   "source": [
    "df_energy_preduction = pd.read_csv(filename_energy_preduction, index_col=0)[[\"Solaire\"]]\n",
    "df_energy_preduction.index = pd.to_datetime(df_energy_preduction.index)\n",
    "df_energy_preduction.head(), df_energy_preduction.tail()"
   ]
  },
  {
   "cell_type": "code",
   "execution_count": null,
   "metadata": {},
   "outputs": [],
   "source": [
    "df_energy_preduction.index"
   ]
  },
  {
   "cell_type": "code",
   "execution_count": null,
   "metadata": {},
   "outputs": [],
   "source": [
    "# align the indexes of the two dataframes\n",
    "data = pd.concat([df_ssrd_regions, df_energy_preduction], join=\"inner\", axis=1)\n",
    "data.head()"
   ]
  },
  {
   "cell_type": "code",
   "execution_count": null,
   "metadata": {},
   "outputs": [],
   "source": [
    "from statsmodels.formula.api import ols\n",
    "\n",
    "# split test for time series\n",
    "from sklearn.model_selection import TimeSeriesSplit"
   ]
  },
  {
   "cell_type": "markdown",
   "metadata": {},
   "source": [
    "# Modeling\n",
    "\n",
    "4 models are tested :\n",
    "- Only Total sun flux (no region details)\n",
    "- Only regions sun flux (no time feature)\n",
    "- Total sun flux + time\n",
    "- Regions sun flux + time\n",
    "\n",
    "The Time feature allows to model a trend in the number of installed solar pannels."
   ]
  },
  {
   "cell_type": "code",
   "execution_count": null,
   "metadata": {},
   "outputs": [],
   "source": [
    "exo_vars = df_ssrd_regions.columns\n",
    "exo_vars = exo_vars.drop(\"days_from_start\")\n",
    "data[\"mean_sun\"] = data[exo_vars].mean(axis=1)\n",
    "endog_var = \"Solaire\""
   ]
  },
  {
   "cell_type": "code",
   "execution_count": null,
   "metadata": {},
   "outputs": [],
   "source": [
    "tscv = TimeSeriesSplit(n_splits=30, test_size=4)  # testing on 4 days forcast"
   ]
  },
  {
   "cell_type": "code",
   "execution_count": null,
   "metadata": {},
   "outputs": [],
   "source": [
    "def test_model(formula=\"Solaire ~ mean_sun\"):\n",
    "    mod_1_mape = []\n",
    "    for i, (train_index, test_index) in enumerate(tscv.split(data)):\n",
    "        model_1 = ols(formula, data=data.iloc[train_index]).fit()\n",
    "        if i == 0:\n",
    "            first_test_index = test_index\n",
    "            first_model_1 = model_1\n",
    "        predictions = model_1.predict(data.iloc[test_index])\n",
    "        error = data.iloc[test_index][\"Solaire\"] - predictions\n",
    "        mape = (error.abs() / data.iloc[test_index][\"Solaire\"]).mean()\n",
    "        mod_1_mape.append(mape)\n",
    "    last_test_index = test_index\n",
    "    last_model_1 = model_1\n",
    "    return mod_1_mape, first_test_index, first_model_1, last_test_index, last_model_1\n",
    "\n",
    "\n",
    "mod_1_mape, first_test_index, first_model_1, last_test_index, last_model_1 = (\n",
    "    test_model()\n",
    ")"
   ]
  },
  {
   "cell_type": "code",
   "execution_count": null,
   "metadata": {},
   "outputs": [],
   "source": [
    "ax = data.plot(y=\"Solaire\", label=\"True\")\n",
    "first_model_1.predict(data.iloc[first_test_index]).plot(\n",
    "    ax=ax, label=\"First Test Predicted\"\n",
    ")\n",
    "last_model_1.predict(data.iloc[last_test_index]).plot(\n",
    "    ax=ax, label=\"Last Test Predicted\", lw=2\n",
    ")\n",
    "\n",
    "ax.legend()"
   ]
  },
  {
   "cell_type": "code",
   "execution_count": null,
   "metadata": {},
   "outputs": [],
   "source": [
    "fig, ax = plt.subplots()\n",
    "ax.hist(mod_1_mape, bins=20)\n",
    "ax.set_title(\"MAPE distribution for model 1\")\n",
    "ax.set_xlabel(\"MAPE\")"
   ]
  },
  {
   "cell_type": "code",
   "execution_count": null,
   "metadata": {},
   "outputs": [],
   "source": [
    "formula_2 = f\"Solaire ~ {' + '.join(exo_vars)}\"\n",
    "print(formula_2)\n",
    "mod_2_mape, first_test_index, first_model_2, last_test_index, last_model_2 = test_model(\n",
    "    formula_2\n",
    ")"
   ]
  },
  {
   "cell_type": "code",
   "execution_count": null,
   "metadata": {},
   "outputs": [],
   "source": [
    "fig, ax = plt.subplots()\n",
    "ax.hist(mod_2_mape, bins=20)\n",
    "ax.set_title(\"MAPE distribution for model 2\")"
   ]
  },
  {
   "cell_type": "code",
   "execution_count": null,
   "metadata": {},
   "outputs": [],
   "source": [
    "formula_3 = \"Solaire ~ mean_sun + days_from_start\"\n",
    "mod_3_mape, first_test_index, first_model_3, last_test_index, last_model_3 = test_model(\n",
    "    formula_3\n",
    ")\n",
    "formula_4 = f\"Solaire ~ {' + '.join(exo_vars)} + days_from_start\"\n",
    "mod_4_mape, first_test_index, first_model_4, last_test_index, last_model_4 = test_model(\n",
    "    formula_4\n",
    ")"
   ]
  },
  {
   "cell_type": "code",
   "execution_count": null,
   "metadata": {},
   "outputs": [],
   "source": [
    "# display the MAPE distribution for all models (KDE)\n",
    "fig, ax = plt.subplots()\n",
    "for i, mape in enumerate([mod_1_mape, mod_2_mape, mod_3_mape, mod_4_mape]):\n",
    "    pd.Series(mape).plot.kde(ax=ax, label=f\"Model {i+1}\")\n",
    "ax.set_title(\"MAPE distribution for all models\")\n",
    "ax.legend()"
   ]
  },
  {
   "cell_type": "code",
   "execution_count": null,
   "metadata": {},
   "outputs": [],
   "source": [
    "# print mean MAPE for all models\n",
    "for i, mape in enumerate([mod_1_mape, mod_2_mape, mod_3_mape, mod_4_mape]):\n",
    "    print(f\"Model {i+1} mean MAPE: {np.mean(mape):.2%}\")"
   ]
  },
  {
   "cell_type": "markdown",
   "metadata": {},
   "source": [
    "# Conclusion\n",
    "\n",
    "The model performances doesn't really follow the expected order (more feature => better performance)\n",
    "\n",
    "Maybe this is due to some sort of over-fitting, even thought there are not so mainy features..."
   ]
  },
  {
   "cell_type": "markdown",
   "metadata": {},
   "source": []
  }
 ],
 "metadata": {
  "kernelspec": {
   "display_name": "Python 3 (ipykernel)",
   "language": "python",
   "name": "python3"
  },
  "language_info": {
   "codemirror_mode": {
    "name": "ipython",
    "version": 3
   },
   "file_extension": ".py",
   "mimetype": "text/x-python",
   "name": "python",
   "nbconvert_exporter": "python",
   "pygments_lexer": "ipython3",
   "version": "3.11.0"
  }
 },
 "nbformat": 4,
 "nbformat_minor": 2
}
