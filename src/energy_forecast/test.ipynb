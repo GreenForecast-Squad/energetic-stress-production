{
 "cells": [
  {
   "cell_type": "code",
   "execution_count": 4,
   "metadata": {},
   "outputs": [],
   "source": [
    "%load_ext autoreload\n",
    "%autoreload 2"
   ]
  },
  {
   "cell_type": "code",
   "execution_count": 17,
   "metadata": {},
   "outputs": [],
   "source": [
    "from energy_forecast.production_forecast import ProductionForecastAPI\n",
    "import pandas as pd"
   ]
  },
  {
   "cell_type": "code",
   "execution_count": 6,
   "metadata": {},
   "outputs": [],
   "source": [
    "with open(\"../../.env\", \"r\") as f:\n",
    "    api_key = f.read().strip().split(\"=\", 1)[1]"
   ]
  },
  {
   "cell_type": "code",
   "execution_count": 26,
   "metadata": {},
   "outputs": [],
   "source": [
    "production_forecast = ProductionForecastAPI(api_key)"
   ]
  },
  {
   "cell_type": "code",
   "execution_count": 79,
   "metadata": {},
   "outputs": [],
   "source": [
    "raw_dict = production_forecast.get_raw_data()"
   ]
  },
  {
   "cell_type": "code",
   "execution_count": 80,
   "metadata": {},
   "outputs": [],
   "source": [
    "values = []\n",
    "for forecas_day in raw_dict[\"forecasts\"]:\n",
    "    for forecast_hour in forecas_day[\"values\"]:\n",
    "        tmp_dict = {\n",
    "            \"start_date\": forecast_hour[\"start_date\"],\n",
    "            \"updated_date\": forecast_hour[\"updated_date\"],\n",
    "            \"value\": forecast_hour[\"value\"],\n",
    "            \"type\": forecas_day[\"type\"],\n",
    "            \"production_type\": forecas_day[\"production_type\"],\n",
    "        }\n",
    "        values.append(tmp_dict)"
   ]
  },
  {
   "cell_type": "code",
   "execution_count": 81,
   "metadata": {},
   "outputs": [
    {
     "data": {
      "text/html": [
       "<div>\n",
       "<style scoped>\n",
       "    .dataframe tbody tr th:only-of-type {\n",
       "        vertical-align: middle;\n",
       "    }\n",
       "\n",
       "    .dataframe tbody tr th {\n",
       "        vertical-align: top;\n",
       "    }\n",
       "\n",
       "    .dataframe thead th {\n",
       "        text-align: right;\n",
       "    }\n",
       "</style>\n",
       "<table border=\"1\" class=\"dataframe\">\n",
       "  <thead>\n",
       "    <tr style=\"text-align: right;\">\n",
       "      <th></th>\n",
       "      <th>start_date</th>\n",
       "      <th>updated_date</th>\n",
       "      <th>value</th>\n",
       "      <th>type</th>\n",
       "      <th>production_type</th>\n",
       "    </tr>\n",
       "  </thead>\n",
       "  <tbody>\n",
       "    <tr>\n",
       "      <th>0</th>\n",
       "      <td>2024-06-23 00:00:00+02:00</td>\n",
       "      <td>2024-06-22 18:47:40+02:00</td>\n",
       "      <td>43554.0</td>\n",
       "      <td>D-1</td>\n",
       "      <td>AGGREGATED_PROGRAMMABLE_FRANCE</td>\n",
       "    </tr>\n",
       "    <tr>\n",
       "      <th>1</th>\n",
       "      <td>2024-06-23 00:30:00+02:00</td>\n",
       "      <td>2024-06-22 18:47:40+02:00</td>\n",
       "      <td>42688.0</td>\n",
       "      <td>D-1</td>\n",
       "      <td>AGGREGATED_PROGRAMMABLE_FRANCE</td>\n",
       "    </tr>\n",
       "    <tr>\n",
       "      <th>2</th>\n",
       "      <td>2024-06-23 01:00:00+02:00</td>\n",
       "      <td>2024-06-22 18:47:40+02:00</td>\n",
       "      <td>42601.0</td>\n",
       "      <td>D-1</td>\n",
       "      <td>AGGREGATED_PROGRAMMABLE_FRANCE</td>\n",
       "    </tr>\n",
       "    <tr>\n",
       "      <th>3</th>\n",
       "      <td>2024-06-23 01:30:00+02:00</td>\n",
       "      <td>2024-06-22 18:47:40+02:00</td>\n",
       "      <td>42514.0</td>\n",
       "      <td>D-1</td>\n",
       "      <td>AGGREGATED_PROGRAMMABLE_FRANCE</td>\n",
       "    </tr>\n",
       "    <tr>\n",
       "      <th>4</th>\n",
       "      <td>2024-06-23 02:00:00+02:00</td>\n",
       "      <td>2024-06-22 18:47:40+02:00</td>\n",
       "      <td>41994.0</td>\n",
       "      <td>D-1</td>\n",
       "      <td>AGGREGATED_PROGRAMMABLE_FRANCE</td>\n",
       "    </tr>\n",
       "    <tr>\n",
       "      <th>...</th>\n",
       "      <td>...</td>\n",
       "      <td>...</td>\n",
       "      <td>...</td>\n",
       "      <td>...</td>\n",
       "      <td>...</td>\n",
       "    </tr>\n",
       "    <tr>\n",
       "      <th>715</th>\n",
       "      <td>2024-06-24 21:30:00+02:00</td>\n",
       "      <td>2024-06-23 10:34:00+02:00</td>\n",
       "      <td>0.0</td>\n",
       "      <td>D-1</td>\n",
       "      <td>MDSESTS</td>\n",
       "    </tr>\n",
       "    <tr>\n",
       "      <th>716</th>\n",
       "      <td>2024-06-24 22:00:00+02:00</td>\n",
       "      <td>2024-06-23 10:34:00+02:00</td>\n",
       "      <td>0.0</td>\n",
       "      <td>D-1</td>\n",
       "      <td>MDSESTS</td>\n",
       "    </tr>\n",
       "    <tr>\n",
       "      <th>717</th>\n",
       "      <td>2024-06-24 22:30:00+02:00</td>\n",
       "      <td>2024-06-23 10:34:00+02:00</td>\n",
       "      <td>0.0</td>\n",
       "      <td>D-1</td>\n",
       "      <td>MDSESTS</td>\n",
       "    </tr>\n",
       "    <tr>\n",
       "      <th>718</th>\n",
       "      <td>2024-06-24 23:00:00+02:00</td>\n",
       "      <td>2024-06-23 10:34:00+02:00</td>\n",
       "      <td>0.0</td>\n",
       "      <td>D-1</td>\n",
       "      <td>MDSESTS</td>\n",
       "    </tr>\n",
       "    <tr>\n",
       "      <th>719</th>\n",
       "      <td>2024-06-24 23:30:00+02:00</td>\n",
       "      <td>2024-06-23 10:34:00+02:00</td>\n",
       "      <td>0.0</td>\n",
       "      <td>D-1</td>\n",
       "      <td>MDSESTS</td>\n",
       "    </tr>\n",
       "  </tbody>\n",
       "</table>\n",
       "<p>720 rows × 5 columns</p>\n",
       "</div>"
      ],
      "text/plain": [
       "                   start_date  ...                 production_type\n",
       "0   2024-06-23 00:00:00+02:00  ...  AGGREGATED_PROGRAMMABLE_FRANCE\n",
       "1   2024-06-23 00:30:00+02:00  ...  AGGREGATED_PROGRAMMABLE_FRANCE\n",
       "2   2024-06-23 01:00:00+02:00  ...  AGGREGATED_PROGRAMMABLE_FRANCE\n",
       "3   2024-06-23 01:30:00+02:00  ...  AGGREGATED_PROGRAMMABLE_FRANCE\n",
       "4   2024-06-23 02:00:00+02:00  ...  AGGREGATED_PROGRAMMABLE_FRANCE\n",
       "..                        ...  ...                             ...\n",
       "715 2024-06-24 21:30:00+02:00  ...                         MDSESTS\n",
       "716 2024-06-24 22:00:00+02:00  ...                         MDSESTS\n",
       "717 2024-06-24 22:30:00+02:00  ...                         MDSESTS\n",
       "718 2024-06-24 23:00:00+02:00  ...                         MDSESTS\n",
       "719 2024-06-24 23:30:00+02:00  ...                         MDSESTS\n",
       "\n",
       "[720 rows x 5 columns]"
      ]
     },
     "execution_count": 81,
     "metadata": {},
     "output_type": "execute_result"
    }
   ],
   "source": [
    "df = pd.DataFrame.from_records(values)\n",
    "df[\"start_date\"] = pd.to_datetime(df[\"start_date\"])\n",
    "df[\"updated_date\"] = pd.to_datetime(df[\"updated_date\"])\n",
    "df"
   ]
  },
  {
   "cell_type": "code",
   "execution_count": 82,
   "metadata": {},
   "outputs": [
    {
     "data": {
      "text/plain": [
       "array(['AGGREGATED_PROGRAMMABLE_FRANCE',\n",
       "       'AGGREGATED_NON_PROGRAMMABLE_FRANCE', 'WIND_ONSHORE',\n",
       "       'WIND_OFFSHORE', 'SOLAR', 'AGGREGATED_CPC', 'MDSETRF', 'MDSESTS'],\n",
       "      dtype=object)"
      ]
     },
     "execution_count": 82,
     "metadata": {},
     "output_type": "execute_result"
    }
   ],
   "source": [
    "df[\"production_type\"].unique()"
   ]
  },
  {
   "cell_type": "code",
   "execution_count": 96,
   "metadata": {},
   "outputs": [],
   "source": [
    "solar = df[df[\"type\"] == \"D-1\"]"
   ]
  },
  {
   "cell_type": "code",
   "execution_count": 97,
   "metadata": {},
   "outputs": [
    {
     "data": {
      "text/html": [
       "<div>\n",
       "<style scoped>\n",
       "    .dataframe tbody tr th:only-of-type {\n",
       "        vertical-align: middle;\n",
       "    }\n",
       "\n",
       "    .dataframe tbody tr th {\n",
       "        vertical-align: top;\n",
       "    }\n",
       "\n",
       "    .dataframe thead th {\n",
       "        text-align: right;\n",
       "    }\n",
       "</style>\n",
       "<table border=\"1\" class=\"dataframe\">\n",
       "  <thead>\n",
       "    <tr style=\"text-align: right;\">\n",
       "      <th></th>\n",
       "      <th>updated_date</th>\n",
       "      <th>value</th>\n",
       "      <th>type</th>\n",
       "      <th>production_type</th>\n",
       "    </tr>\n",
       "    <tr>\n",
       "      <th>start_date</th>\n",
       "      <th></th>\n",
       "      <th></th>\n",
       "      <th></th>\n",
       "      <th></th>\n",
       "    </tr>\n",
       "  </thead>\n",
       "  <tbody>\n",
       "    <tr>\n",
       "      <th>2024-06-23 00:00:00+02:00</th>\n",
       "      <td>2024-06-22 18:47:40+02:00</td>\n",
       "      <td>43554.0</td>\n",
       "      <td>D-1</td>\n",
       "      <td>AGGREGATED_PROGRAMMABLE_FRANCE</td>\n",
       "    </tr>\n",
       "    <tr>\n",
       "      <th>2024-06-23 00:00:00+02:00</th>\n",
       "      <td>2024-06-22 10:32:00+02:00</td>\n",
       "      <td>0.0</td>\n",
       "      <td>D-1</td>\n",
       "      <td>MDSETRF</td>\n",
       "    </tr>\n",
       "    <tr>\n",
       "      <th>2024-06-23 00:00:00+02:00</th>\n",
       "      <td>2024-06-22 23:03:00+02:00</td>\n",
       "      <td>2274.0</td>\n",
       "      <td>D-1</td>\n",
       "      <td>AGGREGATED_CPC</td>\n",
       "    </tr>\n",
       "    <tr>\n",
       "      <th>2024-06-23 00:00:00+02:00</th>\n",
       "      <td>2024-06-22 22:04:00+02:00</td>\n",
       "      <td>2274.0</td>\n",
       "      <td>D-1</td>\n",
       "      <td>AGGREGATED_CPC</td>\n",
       "    </tr>\n",
       "    <tr>\n",
       "      <th>2024-06-23 00:00:00+02:00</th>\n",
       "      <td>2024-06-22 17:57:00+02:00</td>\n",
       "      <td>2258.0</td>\n",
       "      <td>D-1</td>\n",
       "      <td>AGGREGATED_CPC</td>\n",
       "    </tr>\n",
       "    <tr>\n",
       "      <th>...</th>\n",
       "      <td>...</td>\n",
       "      <td>...</td>\n",
       "      <td>...</td>\n",
       "      <td>...</td>\n",
       "    </tr>\n",
       "    <tr>\n",
       "      <th>2024-06-24 23:00:00+02:00</th>\n",
       "      <td>2024-06-23 10:34:00+02:00</td>\n",
       "      <td>0.0</td>\n",
       "      <td>D-1</td>\n",
       "      <td>MDSETRF</td>\n",
       "    </tr>\n",
       "    <tr>\n",
       "      <th>2024-06-24 23:30:00+02:00</th>\n",
       "      <td>2024-06-23 10:34:00+02:00</td>\n",
       "      <td>0.0</td>\n",
       "      <td>D-1</td>\n",
       "      <td>MDSETRF</td>\n",
       "    </tr>\n",
       "    <tr>\n",
       "      <th>2024-06-24 23:30:00+02:00</th>\n",
       "      <td>2024-06-23 13:15:00+02:00</td>\n",
       "      <td>3024.0</td>\n",
       "      <td>D-1</td>\n",
       "      <td>AGGREGATED_CPC</td>\n",
       "    </tr>\n",
       "    <tr>\n",
       "      <th>2024-06-24 23:30:00+02:00</th>\n",
       "      <td>2024-06-23 10:34:00+02:00</td>\n",
       "      <td>2972.0</td>\n",
       "      <td>D-1</td>\n",
       "      <td>AGGREGATED_CPC</td>\n",
       "    </tr>\n",
       "    <tr>\n",
       "      <th>2024-06-24 23:30:00+02:00</th>\n",
       "      <td>2024-06-23 10:34:00+02:00</td>\n",
       "      <td>0.0</td>\n",
       "      <td>D-1</td>\n",
       "      <td>MDSESTS</td>\n",
       "    </tr>\n",
       "  </tbody>\n",
       "</table>\n",
       "<p>720 rows × 4 columns</p>\n",
       "</div>"
      ],
      "text/plain": [
       "                                       updated_date  ...                 production_type\n",
       "start_date                                           ...                                \n",
       "2024-06-23 00:00:00+02:00 2024-06-22 18:47:40+02:00  ...  AGGREGATED_PROGRAMMABLE_FRANCE\n",
       "2024-06-23 00:00:00+02:00 2024-06-22 10:32:00+02:00  ...                         MDSETRF\n",
       "2024-06-23 00:00:00+02:00 2024-06-22 23:03:00+02:00  ...                  AGGREGATED_CPC\n",
       "2024-06-23 00:00:00+02:00 2024-06-22 22:04:00+02:00  ...                  AGGREGATED_CPC\n",
       "2024-06-23 00:00:00+02:00 2024-06-22 17:57:00+02:00  ...                  AGGREGATED_CPC\n",
       "...                                             ...  ...                             ...\n",
       "2024-06-24 23:00:00+02:00 2024-06-23 10:34:00+02:00  ...                         MDSETRF\n",
       "2024-06-24 23:30:00+02:00 2024-06-23 10:34:00+02:00  ...                         MDSETRF\n",
       "2024-06-24 23:30:00+02:00 2024-06-23 13:15:00+02:00  ...                  AGGREGATED_CPC\n",
       "2024-06-24 23:30:00+02:00 2024-06-23 10:34:00+02:00  ...                  AGGREGATED_CPC\n",
       "2024-06-24 23:30:00+02:00 2024-06-23 10:34:00+02:00  ...                         MDSESTS\n",
       "\n",
       "[720 rows x 4 columns]"
      ]
     },
     "execution_count": 97,
     "metadata": {},
     "output_type": "execute_result"
    }
   ],
   "source": [
    "solar = solar.set_index(\"start_date\")\n",
    "solar = solar.sort_index()\n",
    "solar[\"value\"] = solar[\"value\"].astype(float)\n",
    "solar"
   ]
  },
  {
   "cell_type": "code",
   "execution_count": 98,
   "metadata": {},
   "outputs": [
    {
     "data": {
      "text/plain": [
       "production_type\n",
       "AGGREGATED_CPC                        Axes(0.125,0.2;0.775x0.68)\n",
       "AGGREGATED_NON_PROGRAMMABLE_FRANCE    Axes(0.125,0.2;0.775x0.68)\n",
       "AGGREGATED_PROGRAMMABLE_FRANCE        Axes(0.125,0.2;0.775x0.68)\n",
       "MDSESTS                               Axes(0.125,0.2;0.775x0.68)\n",
       "MDSETRF                               Axes(0.125,0.2;0.775x0.68)\n",
       "SOLAR                                 Axes(0.125,0.2;0.775x0.68)\n",
       "WIND_OFFSHORE                         Axes(0.125,0.2;0.775x0.68)\n",
       "WIND_ONSHORE                          Axes(0.125,0.2;0.775x0.68)\n",
       "Name: value, dtype: object"
      ]
     },
     "execution_count": 98,
     "metadata": {},
     "output_type": "execute_result"
    },
    {
     "data": {
      "image/png": "[encoded data removed]",
      "text/plain": [
       "<Figure size 640x480 with 1 Axes>"
      ]
     },
     "metadata": {},
     "output_type": "display_data"
    }
   ],
   "source": [
    "solar.groupby(\"production_type\")[\"value\"].plot(legend=True)"
   ]
  },
  {
   "cell_type": "code",
   "execution_count": null,
   "metadata": {},
   "outputs": [],
   "source": []
  }
 ],
 "metadata": {
  "kernelspec": {
   "display_name": "serve",
   "language": "python",
   "name": "python3"
  },
  "language_info": {
   "codemirror_mode": {
    "name": "ipython",
    "version": 3
   },
   "file_extension": ".py",
   "mimetype": "text/x-python",
   "name": "python",
   "nbconvert_exporter": "python",
   "pygments_lexer": "ipython3",
   "version": "3.10.12"
  }
 },
 "nbformat": 4,
 "nbformat_minor": 2
}
