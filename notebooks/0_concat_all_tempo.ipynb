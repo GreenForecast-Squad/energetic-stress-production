{
 "cells": [
  {
   "cell_type": "markdown",
   "metadata": {},
   "source": [
    "# Concat tout les jours tempo  \n",
    "Ce notebook concat tout les jours tempo en un seul fichier"
   ]
  },
  {
   "cell_type": "code",
   "execution_count": null,
   "metadata": {},
   "outputs": [],
   "source": [
    "import pandas as pd\n",
    "import os"
   ]
  },
  {
   "cell_type": "code",
   "execution_count": null,
   "metadata": {},
   "outputs": [],
   "source": [
    "in_relative_path = \"../raw_datasets/tempo/\"\n",
    "in_absolute_path = os.path.abspath(os.path.join(os.getcwd(), in_relative_path))\n",
    "\n",
    "all_tempo_path = []\n",
    "for y in range(2014,2024):\n",
    "    all_tempo_path.append(in_absolute_path + f\"/eCO2mix_RTE_tempo_{y}-{y+1}.xlsx\")\n",
    "all_tempo_path"
   ]
  },
  {
   "cell_type": "code",
   "execution_count": null,
   "metadata": {},
   "outputs": [],
   "source": [
    "tempo_df = pd.DataFrame()\n",
    "for path in all_tempo_path:\n",
    "    temporary_df = pd.read_excel(path)\n",
    "    temporary_df = temporary_df.drop(temporary_df.tail(1).index)\n",
    "    tempo_df = pd.concat([tempo_df, temporary_df])\n",
    "\n",
    "tempo_df.reset_index()"
   ]
  },
  {
   "cell_type": "code",
   "execution_count": null,
   "metadata": {},
   "outputs": [],
   "source": [
    "out_relative_path = \"../clean_datasets/\"\n",
    "out_absolute_path = os.path.abspath(os.path.join(os.getcwd(), out_relative_path))\n",
    "\n",
    "tempo_df.to_csv(f\"{out_absolute_path}/tempo_2014_2024.csv\", index=False)"
   ]
  }
 ],
 "metadata": {
  "kernelspec": {
   "display_name": "meteofrance",
   "language": "python",
   "name": "python3"
  },
  "language_info": {
   "codemirror_mode": {
    "name": "ipython",
    "version": 3
   },
   "file_extension": ".py",
   "mimetype": "text/x-python",
   "name": "python",
   "nbconvert_exporter": "python",
   "pygments_lexer": "ipython3",
   "version": "3.10.12"
  }
 },
 "nbformat": 4,
 "nbformat_minor": 2
}
