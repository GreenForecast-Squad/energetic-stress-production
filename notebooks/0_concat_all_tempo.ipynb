{
 "cells": [
  {
   "cell_type": "code",
   "execution_count": 1,
   "metadata": {},
   "outputs": [],
   "source": [
    "import pandas as pd"
   ]
  },
  {
   "cell_type": "code",
   "execution_count": 2,
   "metadata": {},
   "outputs": [
    {
     "data": {
      "text/plain": [
       "['raw_datasets/tempo/eCO2mix_RTE_tempo_2014-2015.xlsx',\n",
       " 'raw_datasets/tempo/eCO2mix_RTE_tempo_2015-2016.xlsx',\n",
       " 'raw_datasets/tempo/eCO2mix_RTE_tempo_2016-2017.xlsx',\n",
       " 'raw_datasets/tempo/eCO2mix_RTE_tempo_2017-2018.xlsx',\n",
       " 'raw_datasets/tempo/eCO2mix_RTE_tempo_2018-2019.xlsx',\n",
       " 'raw_datasets/tempo/eCO2mix_RTE_tempo_2019-2020.xlsx',\n",
       " 'raw_datasets/tempo/eCO2mix_RTE_tempo_2020-2021.xlsx',\n",
       " 'raw_datasets/tempo/eCO2mix_RTE_tempo_2021-2022.xlsx',\n",
       " 'raw_datasets/tempo/eCO2mix_RTE_tempo_2022-2023.xlsx',\n",
       " 'raw_datasets/tempo/eCO2mix_RTE_tempo_2023-2024.xlsx']"
      ]
     },
     "execution_count": 2,
     "metadata": {},
     "output_type": "execute_result"
    }
   ],
   "source": [
    "base_tempo_path = \"raw_datasets/tempo/\"\n",
    "all_tempo_path = []\n",
    "for y in range(2014,2024):\n",
    "    all_tempo_path.append(base_tempo_path + f\"eCO2mix_RTE_tempo_{y}-{y+1}.xlsx\")\n",
    "all_tempo_path"
   ]
  },
  {
   "cell_type": "code",
   "execution_count": 3,
   "metadata": {},
   "outputs": [
    {
     "data": {
      "text/html": [
       "<div>\n",
       "<style scoped>\n",
       "    .dataframe tbody tr th:only-of-type {\n",
       "        vertical-align: middle;\n",
       "    }\n",
       "\n",
       "    .dataframe tbody tr th {\n",
       "        vertical-align: top;\n",
       "    }\n",
       "\n",
       "    .dataframe thead th {\n",
       "        text-align: right;\n",
       "    }\n",
       "</style>\n",
       "<table border=\"1\" class=\"dataframe\">\n",
       "  <thead>\n",
       "    <tr style=\"text-align: right;\">\n",
       "      <th></th>\n",
       "      <th>index</th>\n",
       "      <th>Date</th>\n",
       "      <th>Type de jour TEMPO</th>\n",
       "    </tr>\n",
       "  </thead>\n",
       "  <tbody>\n",
       "    <tr>\n",
       "      <th>0</th>\n",
       "      <td>0</td>\n",
       "      <td>2014-09-01 00:00:00</td>\n",
       "      <td>BLEU</td>\n",
       "    </tr>\n",
       "    <tr>\n",
       "      <th>1</th>\n",
       "      <td>1</td>\n",
       "      <td>2014-09-02 00:00:00</td>\n",
       "      <td>BLEU</td>\n",
       "    </tr>\n",
       "    <tr>\n",
       "      <th>2</th>\n",
       "      <td>2</td>\n",
       "      <td>2014-09-03 00:00:00</td>\n",
       "      <td>BLEU</td>\n",
       "    </tr>\n",
       "    <tr>\n",
       "      <th>3</th>\n",
       "      <td>3</td>\n",
       "      <td>2014-09-04 00:00:00</td>\n",
       "      <td>BLEU</td>\n",
       "    </tr>\n",
       "    <tr>\n",
       "      <th>4</th>\n",
       "      <td>4</td>\n",
       "      <td>2014-09-05 00:00:00</td>\n",
       "      <td>BLEU</td>\n",
       "    </tr>\n",
       "    <tr>\n",
       "      <th>...</th>\n",
       "      <td>...</td>\n",
       "      <td>...</td>\n",
       "      <td>...</td>\n",
       "    </tr>\n",
       "    <tr>\n",
       "      <th>3504</th>\n",
       "      <td>217</td>\n",
       "      <td>2024-04-05 00:00:00</td>\n",
       "      <td>BLEU</td>\n",
       "    </tr>\n",
       "    <tr>\n",
       "      <th>3505</th>\n",
       "      <td>218</td>\n",
       "      <td>2024-04-06 00:00:00</td>\n",
       "      <td>BLEU</td>\n",
       "    </tr>\n",
       "    <tr>\n",
       "      <th>3506</th>\n",
       "      <td>219</td>\n",
       "      <td>2024-04-07 00:00:00</td>\n",
       "      <td>BLEU</td>\n",
       "    </tr>\n",
       "    <tr>\n",
       "      <th>3507</th>\n",
       "      <td>220</td>\n",
       "      <td>2024-04-08 00:00:00</td>\n",
       "      <td>BLEU</td>\n",
       "    </tr>\n",
       "    <tr>\n",
       "      <th>3508</th>\n",
       "      <td>221</td>\n",
       "      <td>2024-04-09 00:00:00</td>\n",
       "      <td>BLEU</td>\n",
       "    </tr>\n",
       "  </tbody>\n",
       "</table>\n",
       "<p>3509 rows × 3 columns</p>\n",
       "</div>"
      ],
      "text/plain": [
       "      index                 Date Type de jour TEMPO\n",
       "0         0  2014-09-01 00:00:00               BLEU\n",
       "1         1  2014-09-02 00:00:00               BLEU\n",
       "2         2  2014-09-03 00:00:00               BLEU\n",
       "3         3  2014-09-04 00:00:00               BLEU\n",
       "4         4  2014-09-05 00:00:00               BLEU\n",
       "...     ...                  ...                ...\n",
       "3504    217  2024-04-05 00:00:00               BLEU\n",
       "3505    218  2024-04-06 00:00:00               BLEU\n",
       "3506    219  2024-04-07 00:00:00               BLEU\n",
       "3507    220  2024-04-08 00:00:00               BLEU\n",
       "3508    221  2024-04-09 00:00:00               BLEU\n",
       "\n",
       "[3509 rows x 3 columns]"
      ]
     },
     "execution_count": 3,
     "metadata": {},
     "output_type": "execute_result"
    }
   ],
   "source": [
    "tempo_df = pd.DataFrame()\n",
    "for path in all_tempo_path:\n",
    "    temporary_df = pd.read_excel(path)\n",
    "    temporary_df = temporary_df.drop(temporary_df.tail(1).index)\n",
    "    tempo_df = pd.concat([tempo_df, temporary_df])\n",
    "\n",
    "tempo_df.reset_index()"
   ]
  },
  {
   "cell_type": "code",
   "execution_count": 5,
   "metadata": {},
   "outputs": [],
   "source": [
    "tempo_df.to_csv(\"tempo_2014_2024.csv\", index=False)"
   ]
  }
 ],
 "metadata": {
  "kernelspec": {
   "display_name": "meteofrance",
   "language": "python",
   "name": "python3"
  },
  "language_info": {
   "codemirror_mode": {
    "name": "ipython",
    "version": 3
   },
   "file_extension": ".py",
   "mimetype": "text/x-python",
   "name": "python",
   "nbconvert_exporter": "python",
   "pygments_lexer": "ipython3",
   "version": "3.10.9"
  }
 },
 "nbformat": 4,
 "nbformat_minor": 2
}
