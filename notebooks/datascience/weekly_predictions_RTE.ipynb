{
 "cells": [
  {
   "cell_type": "code",
   "execution_count": null,
   "metadata": {},
   "outputs": [],
   "source": [
    "import requests"
   ]
  },
  {
   "cell_type": "markdown",
   "metadata": {},
   "source": [
    "# Get the Oauth2  Token"
   ]
  },
  {
   "cell_type": "code",
   "execution_count": null,
   "metadata": {},
   "outputs": [],
   "source": [
    "url_token = \"https://digital.iservices.rte-france.com/token/oauth/\"\n",
    "client_id = \"f27656dd-d80f-4e29-b246-890ecf9a40a5\"\n",
    "client_secret = \"68d25bfc-43c3-41ca-b020-6cad5121ba9a\"\n",
    "secret = \"ZjI3NjU2ZGQtZDgwZi00ZTI5LWIyNDYtODkwZWNmOWE0MGE1OjY4ZDI1YmZjLTQzYzMtNDFjYS1iMDIwLTZjYWQ1MTIxYmE5YQ==\"\n",
    "headers_token = {\n",
    "    \"Authorization\": \"Basic {}\".format(secret),\n",
    "    \"Content-Type\": \"application/x-www-form-urlencoded\",\n",
    "}\n",
    "req = requests.post(url_token, headers=headers_token)\n",
    "token = req.json()[\"access_token\"]\n",
    "print(req.text)"
   ]
  },
  {
   "cell_type": "code",
   "execution_count": null,
   "metadata": {},
   "outputs": [],
   "source": [
    "URL = (\n",
    "    \"https://digital.iservices.rte-france.com/open_api/consumption/v1/weekly_forecasts\"\n",
    ")\n",
    "params = {\n",
    "    \"start_date\": \"2024-04-01T00:00:00+02:00\",\n",
    "    \"end_date\": \"2024-04-014T00:00:00+02:00\",\n",
    "}\n",
    "headers = {\n",
    "    \"Host\": \"digital.iservices.rte-france.com\",\n",
    "    \"Authorization\": \"Bearer {}\".format(token),\n",
    "}\n",
    "\n",
    "req = requests.get(URL, params=params, headers=headers)\n",
    "req"
   ]
  },
  {
   "cell_type": "code",
   "execution_count": null,
   "metadata": {},
   "outputs": [],
   "source": [
    "print(req.text)"
   ]
  },
  {
   "cell_type": "code",
   "execution_count": null,
   "metadata": {},
   "outputs": [],
   "source": [
    "data = req.json()\n",
    "data[\"weekly_forecasts\"]"
   ]
  },
  {
   "cell_type": "code",
   "execution_count": null,
   "metadata": {},
   "outputs": [],
   "source": [
    "values = {}\n",
    "for day_data in data[\"weekly_forecasts\"]:\n",
    "    for pred in day_data[\"values\"]:\n",
    "        values[pred[\"start_date\"]] = pred[\"value\"]"
   ]
  },
  {
   "cell_type": "code",
   "execution_count": null,
   "metadata": {},
   "outputs": [],
   "source": [
    "import pandas as pd\n",
    "\n",
    "data = pd.DataFrame(values.items(), columns=[\"date\", \"value\"])\n",
    "data[\"date\"] = pd.to_datetime(data[\"date\"])\n",
    "data = data.set_index(\"date\")\n",
    "data = data.sort_index()\n",
    "data"
   ]
  },
  {
   "cell_type": "code",
   "execution_count": null,
   "metadata": {},
   "outputs": [],
   "source": [
    "ts = pd.Timestamp(\"2024-04-09\").timestamp() / 60"
   ]
  },
  {
   "cell_type": "code",
   "execution_count": null,
   "metadata": {},
   "outputs": [],
   "source": [
    "[a / ts for a in ax.get_xbound()]"
   ]
  },
  {
   "cell_type": "code",
   "execution_count": null,
   "metadata": {},
   "outputs": [],
   "source": [
    "ax = data.plot()\n",
    "ax.set_ylim(0)\n",
    "ax.set_ylabel(\"Consommation (MW)\")\n",
    "ax.set_title(\"Prediction de la Consommation électrique en France\")\n",
    "\n",
    "ax_xpos = pd.Timestamp(\"2024-04-09\").timestamp() / 60\n",
    "ax.axvline(ax_xpos, color=\"red\", linestyle=\"--\", label=\"Aujourd'hui\")\n",
    "ax.legend()"
   ]
  },
  {
   "cell_type": "code",
   "execution_count": null,
   "metadata": {},
   "outputs": [],
   "source": []
  }
 ],
 "metadata": {
  "kernelspec": {
   "display_name": "latest",
   "language": "python",
   "name": "python3"
  },
  "language_info": {
   "codemirror_mode": {
    "name": "ipython",
    "version": 3
   },
   "file_extension": ".py",
   "mimetype": "text/x-python",
   "name": "python",
   "nbconvert_exporter": "python",
   "pygments_lexer": "ipython3",
   "version": "3.11.0"
  }
 },
 "nbformat": 4,
 "nbformat_minor": 2
}
