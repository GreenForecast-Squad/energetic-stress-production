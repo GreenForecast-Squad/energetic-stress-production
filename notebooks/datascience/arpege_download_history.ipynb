{
 "cells": [
  {
   "cell_type": "markdown",
   "metadata": {},
   "source": [
    "# Downloading the history of Arpege data\n",
    "\n",
    "This Notebook downloads the ARPEGE predictions.\n",
    "\n",
    "It uses the data provided by the French Association of Users and Professionnals of Meteorologie."
   ]
  },
  {
   "cell_type": "code",
   "execution_count": null,
   "metadata": {},
   "outputs": [],
   "source": [
    "import requests\n",
    "from pathlib import Path\n",
    "import pandas as pd\n",
    "from tqdm.auto import tqdm"
   ]
  },
  {
   "cell_type": "code",
   "execution_count": null,
   "metadata": {},
   "outputs": [],
   "source": [
    "start_date = \"2022-02-01\"\n",
    "end_date = \"2024-04-08\""
   ]
  },
  {
   "cell_type": "code",
   "execution_count": null,
   "metadata": {},
   "outputs": [],
   "source": [
    "type = \"SP2\"\n",
    "url_template = (\n",
    "    \"http://hackathon.fede-meteo.org/{date}/arpege-europe-v1-tmp/00/{type}/{case}.grib2\"\n",
    ")"
   ]
  },
  {
   "cell_type": "code",
   "execution_count": null,
   "metadata": {},
   "outputs": [],
   "source": [
    "date = start_date\n",
    "case = \"00H12H\"\n",
    "url = url_template.format(date=date, case=case, type=type)\n",
    "print(url)"
   ]
  },
  {
   "cell_type": "code",
   "execution_count": null,
   "metadata": {},
   "outputs": [],
   "source": [
    "data_root = Path(\"/shared/home/antoine-2etavant/data/arpege\")\n",
    "data_root.mkdir(exist_ok=True, parents=True)\n",
    "filename_to_save_template = (\n",
    "    \"/shared/home/antoine-2etavant/data/arpege/{date}_{type}_{case}.{ext}\"\n",
    ")\n",
    "ext = \"grib2.inv\"\n",
    "filename_to_save = filename_to_save_template.format(\n",
    "    date=date, case=case, ext=ext, type=type\n",
    ")\n",
    "print(filename_to_save)"
   ]
  },
  {
   "cell_type": "code",
   "execution_count": null,
   "metadata": {},
   "outputs": [],
   "source": [
    "list_date = pd.date_range(start=start_date, end=end_date, freq=\"D\")\n",
    "list_date = list_date.strftime(\"%Y-%m-%d\")"
   ]
  },
  {
   "cell_type": "markdown",
   "metadata": {},
   "source": [
    "**WARNING**\n",
    "\n",
    "----------------\n",
    "\n",
    "The following cell will download a bunch of files ! I took me 4hours to finish. And it uses a lot of disk !\n",
    "\n",
    "----------------\n"
   ]
  },
  {
   "cell_type": "code",
   "execution_count": null,
   "metadata": {},
   "outputs": [],
   "source": [
    "cases = [\n",
    "    \"00H12H\",\n",
    "    \"13H24H\",\n",
    "    \"25H36H\",\n",
    "    \"37H48H\",\n",
    "    \"49H60H\",\n",
    "    \"61H72H\",\n",
    "    \"73H84H\",\n",
    "    \"85H96H\",\n",
    "    \"97H102H\",\n",
    "]\n",
    "extentions = [\"grib2\", \"grib2.inv\"]\n",
    "for date in tqdm(list_date):\n",
    "    for case in cases:\n",
    "        url = url_template.format(date=date, case=case, type=type)\n",
    "        filename_to_save = filename_to_save_template.format(\n",
    "            date=date, case=case, ext=\"grib2\", type=type\n",
    "        )\n",
    "        print(filename_to_save)\n",
    "        if Path(filename_to_save).exists():\n",
    "            continue\n",
    "        res = requests.get(url)\n",
    "        if res.status_code == 200:\n",
    "            with open(filename_to_save, \"wb\") as f:\n",
    "                f.write(res.content)\n",
    "        else:\n",
    "            print(f\"Error for {date} {case} : {res.status_code}\")"
   ]
  },
  {
   "cell_type": "code",
   "execution_count": null,
   "metadata": {},
   "outputs": [],
   "source": []
  }
 ],
 "metadata": {
  "kernelspec": {
   "display_name": "latest",
   "language": "python",
   "name": "python3"
  },
  "language_info": {
   "codemirror_mode": {
    "name": "ipython",
    "version": 3
   },
   "file_extension": ".py",
   "mimetype": "text/x-python",
   "name": "python",
   "nbconvert_exporter": "python",
   "pygments_lexer": "ipython3",
   "version": "3.11.0"
  }
 },
 "nbformat": 4,
 "nbformat_minor": 2
}
