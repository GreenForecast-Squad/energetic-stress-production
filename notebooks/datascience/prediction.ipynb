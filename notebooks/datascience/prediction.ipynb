{
 "cells": [
  {
   "cell_type": "markdown",
   "metadata": {},
   "source": [
    "# Prediction de la production ENR\n",
    "\n",
    "Ce notebook present l'analyse de la production ENR a partir des données météo."
   ]
  },
  {
   "cell_type": "code",
   "execution_count": null,
   "metadata": {},
   "outputs": [],
   "source": [
    "import pandas as pd\n",
    "import numpy as np\n",
    "import matplotlib.pyplot as plt"
   ]
  },
  {
   "cell_type": "code",
   "execution_count": null,
   "metadata": {},
   "outputs": [],
   "source": [
    "filename_rte = \"clean_datasets/rte_agg_daily_2014_2024.csv\"\n",
    "filename_weather = \"clean_datasets/solar_wind_data.csv\""
   ]
  },
  {
   "cell_type": "code",
   "execution_count": null,
   "metadata": {},
   "outputs": [],
   "source": [
    "data = pd.read_csv(filename_rte)\n",
    "data.set_index(\"Date\", inplace=True)\n",
    "data.index = pd.to_datetime(data.index)\n",
    "# set all 0 to nan\n",
    "data = data.dropna()\n",
    "data = data.iloc[:-1]\n",
    "data"
   ]
  },
  {
   "cell_type": "code",
   "execution_count": null,
   "metadata": {},
   "outputs": [],
   "source": [
    "data.info()"
   ]
  },
  {
   "cell_type": "code",
   "execution_count": null,
   "metadata": {},
   "outputs": [],
   "source": [
    "data.drop([\"Type_de_jour_TEMPO\", \"sun\", \"wind\"], axis=1).mean().sort_values(\n",
    "    ascending=False\n",
    ").plot(kind=\"bar\", figsize=(15, 5))"
   ]
  },
  {
   "cell_type": "markdown",
   "metadata": {},
   "source": [
    "## Some investigations"
   ]
  },
  {
   "cell_type": "code",
   "execution_count": null,
   "metadata": {},
   "outputs": [],
   "source": [
    "ax1 = data[[\"Eolien\", \"Solaire\"]].plot()\n",
    "ax1.set_xlabel(\"Date\")\n",
    "ax1.set_ylabel(\"MW\")\n",
    "ax1.set_title(\"Wind and Solar Power daily Production in France\")"
   ]
  },
  {
   "cell_type": "code",
   "execution_count": null,
   "metadata": {},
   "outputs": [],
   "source": [
    "ax1 = data[\"wind\"].plot()\n",
    "ax1 = data[\"sun\"].plot(ax=ax1, secondary_y=True)\n",
    "\n",
    "ax1.set_xlabel(\"Date\")\n",
    "ax1.set_ylabel(\"wind speed (m/s)\", c=\"b\")\n",
    "ax1.set_ylabel(\"Solar Flux (J/m^2)\", c=\"orange\")\n",
    "ax1.set_title(\"Wind speed and Solar Flux in France\")"
   ]
  },
  {
   "cell_type": "markdown",
   "metadata": {},
   "source": [
    "## Regardons les correlations entre l'énergie produite et la production ENR"
   ]
  },
  {
   "cell_type": "code",
   "execution_count": null,
   "metadata": {},
   "outputs": [],
   "source": [
    "X_sun = data[\"sun\"]\n",
    "Y_pv = data[\"Solaire\"]\n",
    "\n",
    "fig, ax1 = plt.subplots()\n",
    "ax1.plot(X_sun, Y_pv, \"o\", label=\"Data\")\n",
    "ax1.set_xlabel(\"Daily Solar irradiance (J/m^2)\")\n",
    "ax1.set_ylabel(\"Daily Solar production (MWh)\")\n",
    "ax1.set_title(\"Solar production vs Solar irradiance\")\n",
    "ax1.set_ylim(ymin=0)\n",
    "ax1.set_xlim(xmin=0)\n",
    "ax1.grid()\n",
    "# hide the top and right spines\n",
    "ax1.spines[\"top\"].set_visible(False)\n",
    "ax1.spines[\"right\"].set_visible(False)"
   ]
  },
  {
   "cell_type": "code",
   "execution_count": null,
   "metadata": {},
   "outputs": [],
   "source": [
    "X_sun = data[\"wind\"]\n",
    "Y_pv = data[\"Eolien\"]\n",
    "\n",
    "fig, ax1 = plt.subplots()\n",
    "ax1.plot(X_sun, Y_pv, \"o\", label=\"Data\")\n",
    "ax1.set_xlabel(\"Daily mean wind speed (m/s)\")\n",
    "ax1.set_ylabel(\"Daily Wind production (MWh)\")\n",
    "ax1.set_title(\"Eolian production vs Wind speed\")\n",
    "ax1.set_ylim(ymin=0)\n",
    "ax1.set_xlim(xmin=0)\n",
    "ax1.grid()\n",
    "# hide the top and right spines\n",
    "ax1.spines[\"top\"].set_visible(False)\n",
    "ax1.spines[\"right\"].set_visible(False)"
   ]
  },
  {
   "cell_type": "code",
   "execution_count": null,
   "metadata": {},
   "outputs": [],
   "source": [
    "data[\"Fossile\"] = data[\"Gaz\"] + data[\"Charbon\"] + data[\"Fioul\"]\n",
    "data[\"nonENR\"] = (\n",
    "    data[\"Fossile\"]\n",
    "    + data[\"Nucléaire\"]\n",
    "    + data[\"Hydraulique\"]\n",
    "    + data[\"Bioénergies\"]\n",
    "    + data[\"Pompage\"]\n",
    ")\n",
    "data[\"ENR\"] = data[\"Eolien\"] + data[\"Solaire\"]"
   ]
  },
  {
   "cell_type": "markdown",
   "metadata": {},
   "source": [
    "# prediction of the ENR productions"
   ]
  },
  {
   "cell_type": "code",
   "execution_count": null,
   "metadata": {},
   "outputs": [],
   "source": [
    "from sklearn.linear_model import LinearRegression\n",
    "from sklearn.metrics import mean_absolute_percentage_error, mean_squared_error"
   ]
  },
  {
   "cell_type": "code",
   "execution_count": null,
   "metadata": {},
   "outputs": [],
   "source": [
    "train_date = \"2023-12-31\""
   ]
  },
  {
   "cell_type": "code",
   "execution_count": null,
   "metadata": {},
   "outputs": [],
   "source": [
    "data_train = data.loc[data.index < train_date]\n",
    "data_test = data.loc[data.index >= train_date]"
   ]
  },
  {
   "cell_type": "markdown",
   "metadata": {},
   "source": [
    "## Prediction du solair\n",
    "\n"
   ]
  },
  {
   "cell_type": "code",
   "execution_count": null,
   "metadata": {},
   "outputs": [],
   "source": [
    "def fit_model(data_train, data_test, features, target):\n",
    "    X_train = data_train[features]\n",
    "    y_train = data_train[target]\n",
    "    X_test = data_test[features]\n",
    "    y_test = data_test[target]\n",
    "\n",
    "    model = LinearRegression()\n",
    "    model.fit(X_train, y_train)\n",
    "    y_pred = model.predict(X_test)\n",
    "    mape = mean_absolute_percentage_error(y_test, y_pred)\n",
    "    rmse = np.sqrt(mean_squared_error(y_test, y_pred))\n",
    "    score = model.score(X_train, y_train)\n",
    "    return model, mape, rmse, score"
   ]
  },
  {
   "cell_type": "code",
   "execution_count": null,
   "metadata": {},
   "outputs": [],
   "source": [
    "model_sun, mape_sun, rmse_sun, score_sun = fit_model(\n",
    "    data_train, data_test, [\"sun\"], \"Solaire\"\n",
    ")\n",
    "\n",
    "print(f\"Score: {score_sun}\")\n",
    "print(f\"MARE: {mape_sun}\")"
   ]
  },
  {
   "cell_type": "code",
   "execution_count": null,
   "metadata": {},
   "outputs": [],
   "source": [
    "def plot_model(data_train, data_test, model, features, target):\n",
    "    fig, [ax1, ax2] = plt.subplots(1, 2, figsize=(15, 5))\n",
    "    ax1.scatter(data_train[target], model.predict(data_train[features]), label=\"train\")\n",
    "    ax1.scatter(data_test[target], model.predict(data_test[features]), label=\"test\")\n",
    "    ax1.legend()\n",
    "    ax1.set_xlabel(f\"True {target} production\")\n",
    "    ax1.set_ylabel(f\"Predicted {target} production\")\n",
    "    ax1.set_title(f\"{target} production prediction \\n Train vs Test\")\n",
    "\n",
    "    factor = 1e-3\n",
    "    ax2.plot(data.index, data[target] * factor, label=\"Data\")\n",
    "    ax2.plot(\n",
    "        data_test.index, model.predict(data_test[features]) * factor, label=\"Prediction\"\n",
    "    )\n",
    "\n",
    "    ax_line = pd.to_datetime(train_date).timestamp() / 86400\n",
    "    ax2.axvline(ax_line, color=\"k\", linestyle=\"--\", label=\"Train/Test split date\")\n",
    "    ax2.legend()\n",
    "    ax2.set_title(f\"Prediction de la production {target} quotidienne\")\n",
    "    ax2.set_ylabel(f\"{target} production (GWh)\")\n",
    "    fig.autofmt_xdate()\n",
    "\n",
    "\n",
    "plot_model(data_train, data_test, model_sun, [\"sun\"], \"Solaire\")"
   ]
  },
  {
   "cell_type": "markdown",
   "metadata": {},
   "source": [
    "## conclusion\n",
    "\n",
    "La production solaire est sous-estimé en 2024, certainement lié à une croissance du nombre d'installation."
   ]
  },
  {
   "cell_type": "markdown",
   "metadata": {},
   "source": [
    "## Wind"
   ]
  },
  {
   "cell_type": "code",
   "execution_count": null,
   "metadata": {},
   "outputs": [],
   "source": [
    "model_wind, mape_wind, rmse_wind, score_wind = fit_model(\n",
    "    data_train, data_test, [\"wind\"], \"Eolien\"\n",
    ")\n",
    "\n",
    "print(f\"Score: {score_wind}\")\n",
    "print(f\"MARE: {mape_wind}\")"
   ]
  },
  {
   "cell_type": "code",
   "execution_count": null,
   "metadata": {},
   "outputs": [],
   "source": [
    "plot_model(data_train, data_test, model_wind, [\"wind\"], \"Eolien\")"
   ]
  },
  {
   "cell_type": "markdown",
   "metadata": {},
   "source": [
    "# Somme des ENR\n",
    "\n",
    "Peut-on fitter directement la somme des deux ?"
   ]
  },
  {
   "cell_type": "code",
   "execution_count": null,
   "metadata": {},
   "outputs": [],
   "source": [
    "model_enr, mape_enr, rmse_enr, score_enr = fit_model(\n",
    "    data_train, data_test, [\"sun\", \"wind\"], \"ENR\"\n",
    ")\n",
    "\n",
    "print(f\"Score: {score_enr}\")\n",
    "print(f\"MARE: {mape_enr}\")"
   ]
  },
  {
   "cell_type": "code",
   "execution_count": null,
   "metadata": {},
   "outputs": [],
   "source": [
    "plot_model(data_train, data_test, model_enr, [\"sun\", \"wind\"], \"ENR\")"
   ]
  },
  {
   "cell_type": "markdown",
   "metadata": {},
   "source": [
    "## conclusion\n",
    "\n",
    "La production eolien est bien plus important que la production solair, donc on retrouve principalement la même performance que le modèle vent seul.\n",
    "\n",
    "Ce n'est pas si mauvais, étant donné la faible qualité des données d'entrée."
   ]
  },
  {
   "cell_type": "markdown",
   "metadata": {},
   "source": [
    "# prediction of the Fossile Energy form weather data\n"
   ]
  },
  {
   "cell_type": "code",
   "execution_count": null,
   "metadata": {},
   "outputs": [],
   "source": [
    "model_fossile, mape_fossile, rmse_fossile, score_fossile = fit_model(\n",
    "    data_train, data_test, [\"sun\", \"wind\", \"Prévision_J-1\"], \"Fossile\"\n",
    ")\n",
    "\n",
    "print(f\"Score: {score_fossile}\")\n",
    "print(f\"MARE: {mape_fossile}\")\n",
    "\n",
    "plot_model(\n",
    "    data_train, data_test, model_fossile, [\"sun\", \"wind\", \"Prévision_J-1\"], \"Fossile\"\n",
    ")"
   ]
  },
  {
   "cell_type": "code",
   "execution_count": null,
   "metadata": {},
   "outputs": [],
   "source": [
    "model_nonenr, mape_nonenr, rmse_nonenr, score_nonenr = fit_model(\n",
    "    data_train, data_test, [\"sun\", \"wind\", \"Prévision_J-1\"], \"nonENR\"\n",
    ")\n",
    "\n",
    "print(f\"Score: {score_nonenr}\")\n",
    "print(f\"MARE: {mape_nonenr}\")\n",
    "\n",
    "plot_model(\n",
    "    data_train, data_test, model_nonenr, [\"sun\", \"wind\", \"Prévision_J-1\"], \"nonENR\"\n",
    ")"
   ]
  },
  {
   "cell_type": "markdown",
   "metadata": {},
   "source": [
    "## Conclusion\n",
    "\n",
    "La prévision des énergies fossiles est très mauvaise, en particulier par rapport à la prediction de la production non-ENR.\n",
    "Celà est en particulier dû a l'importance du nucleaire et de l'hydrolique dans le mix électrique Francais, deux source d'énergies décarbonnées mais controlables(indépendants de la météo)."
   ]
  },
  {
   "cell_type": "markdown",
   "metadata": {},
   "source": [
    "## Discussion\n",
    "\n",
    "Possibilitées pour améliorer la prédiction:\n",
    "\n",
    "1. le nucléaire et l'hydrolique peuvent avoir une certaine inertie dans leurs production. Inclure un Lag peut potentielement permetre de mieux prédire leurs production future.\n",
    "2. La prédiction ENR est elle-même mauvaise... Pour l'améliorer, il peut être intéressant de réduire la zone géographique d'aggreggation, par example au niveau de la région, afin de permettre des variations locale de la météo.\n"
   ]
  },
  {
   "cell_type": "markdown",
   "metadata": {},
   "source": [
    "# prediction des classes Tempos"
   ]
  },
  {
   "cell_type": "code",
   "execution_count": null,
   "metadata": {},
   "outputs": [],
   "source": [
    "data[\"weekend\"] = data.index.weekday.isin([5, 6]).astype(int)"
   ]
  },
  {
   "cell_type": "code",
   "execution_count": null,
   "metadata": {},
   "outputs": [],
   "source": [
    "import seaborn as sns\n",
    "\n",
    "sns.pairplot(\n",
    "    data[data[\"weekend\"] == 0][[\"wind\", \"sun\", \"Prévision_J-1\", \"Type_de_jour_TEMPO\"]],\n",
    "    hue=\"Type_de_jour_TEMPO\",\n",
    ")"
   ]
  },
  {
   "cell_type": "code",
   "execution_count": null,
   "metadata": {},
   "outputs": [],
   "source": [
    "from sklearn.svm import SVC"
   ]
  },
  {
   "cell_type": "code",
   "execution_count": null,
   "metadata": {},
   "outputs": [],
   "source": [
    "model_tempo = SVC(class_weight=\"balanced\")\n",
    "\n",
    "train_date = \"2023-12-31\"\n",
    "features = [\"sun\", \"wind\", \"Prévision_J-1\", \"weekend\"]\n",
    "code = {\"BLEU\": 0, \"BLANC\": 1, \"ROUGE\": 2}\n",
    "data[\"target\"] = data[\"Type_de_jour_TEMPO\"].map(code)\n",
    "\n",
    "data_train = data.loc[data.index < train_date].loc[data[\"weekend\"] == 0]\n",
    "data_test = data.loc[data.index >= train_date].loc[data[\"weekend\"] == 0]\n",
    "\n",
    "display(data_train[features + [\"target\"]])\n",
    "display(data_test[\"target\"].value_counts())\n",
    "model_tempo.fit(data_train[features], data_train[\"target\"])"
   ]
  },
  {
   "cell_type": "code",
   "execution_count": null,
   "metadata": {},
   "outputs": [],
   "source": [
    "score = model_tempo.score(data_test[features], data_test[\"target\"])\n",
    "print(\"Score: \", score)"
   ]
  },
  {
   "cell_type": "code",
   "execution_count": null,
   "metadata": {},
   "outputs": [],
   "source": [
    "performance_matrix = pd.DataFrame(\n",
    "    index=[\"True Blue\", \"True White\", \"True Red\"],\n",
    "    columns=[\"Pred Blue\", \"Pred White\", \"Pred Red\"],\n",
    ")\n",
    "prevision = model_tempo.predict(data_test[features])\n",
    "true_class = data_test[\"target\"]\n",
    "for label_true, code_true in code.items():\n",
    "    for label_pred, code_pred in code.items():\n",
    "        performance_matrix.iloc[code_true, code_pred] = np.sum(\n",
    "            (prevision == code_pred) & (true_class == code_true)\n",
    "        )"
   ]
  },
  {
   "cell_type": "code",
   "execution_count": null,
   "metadata": {},
   "outputs": [],
   "source": [
    "performance_matrix"
   ]
  },
  {
   "cell_type": "code",
   "execution_count": null,
   "metadata": {},
   "outputs": [],
   "source": [
    "model_tempo_unbalanced = SVC(class_weight=None)\n",
    "\n",
    "model_tempo_unbalanced.fit(data_train[features], data_train[\"target\"])\n",
    "score = model_tempo_unbalanced.score(data_test[features], data_test[\"target\"])\n",
    "print(\"Score: \", score)\n",
    "\n",
    "prevision = model_tempo_unbalanced.predict(data_test[features])\n",
    "for label_true, code_true in code.items():\n",
    "    for label_pred, code_pred in code.items():\n",
    "        performance_matrix.iloc[code_true, code_pred] = np.sum(\n",
    "            (prevision == code_pred) & (true_class == code_true)\n",
    "        )\n",
    "performance_matrix"
   ]
  },
  {
   "cell_type": "code",
   "execution_count": null,
   "metadata": {},
   "outputs": [],
   "source": [
    "from sklearn.tree import DecisionTreeClassifier\n",
    "\n",
    "model_tempo_tree = DecisionTreeClassifier(class_weight=None)\n",
    "\n",
    "model_tempo_tree.fit(data_train[features], data_train[\"target\"])\n",
    "score = model_tempo_tree.score(data_test[features], data_test[\"target\"])\n",
    "print(\"Score: \", score)\n",
    "\n",
    "prevision = model_tempo_tree.predict(data_test[features])\n",
    "for label_true, code_true in code.items():\n",
    "    for label_pred, code_pred in code.items():\n",
    "        performance_matrix.iloc[code_true, code_pred] = np.sum(\n",
    "            (prevision == code_pred) & (true_class == code_true)\n",
    "        )\n",
    "performance_matrix"
   ]
  },
  {
   "cell_type": "code",
   "execution_count": null,
   "metadata": {},
   "outputs": [],
   "source": [
    "model_tempo_tree_balanced = DecisionTreeClassifier(class_weight=\"balanced\")\n",
    "\n",
    "model_tempo_tree_balanced.fit(data_train[features], data_train[\"target\"])\n",
    "score = model_tempo_tree_balanced.score(data_test[features], data_test[\"target\"])\n",
    "print(\"Score: \", score)\n",
    "\n",
    "prevision = model_tempo_tree_balanced.predict(data_test[features])\n",
    "for label_true, code_true in code.items():\n",
    "    for label_pred, code_pred in code.items():\n",
    "        performance_matrix.iloc[code_true, code_pred] = np.sum(\n",
    "            (prevision == code_pred) & (true_class == code_true)\n",
    "        )\n",
    "performance_matrix"
   ]
  },
  {
   "cell_type": "code",
   "execution_count": null,
   "metadata": {},
   "outputs": [],
   "source": [
    "model_tempo_tree_balanced = DecisionTreeClassifier(class_weight=\"balanced\")\n",
    "features_cheating = [\"ENR\", \"Prévision_J-1\"]\n",
    "model_tempo_tree_balanced.fit(data_train[features_cheating], data_train[\"target\"])\n",
    "score = model_tempo_tree_balanced.score(\n",
    "    data_test[features_cheating], data_test[\"target\"]\n",
    ")\n",
    "print(\"Score: \", score)\n",
    "\n",
    "prevision = model_tempo_tree_balanced.predict(data_test[features_cheating])\n",
    "for label_true, code_true in code.items():\n",
    "    for label_pred, code_pred in code.items():\n",
    "        performance_matrix.iloc[code_true, code_pred] = np.sum(\n",
    "            (prevision == code_pred) & (true_class == code_true)\n",
    "        )\n",
    "performance_matrix"
   ]
  },
  {
   "cell_type": "markdown",
   "metadata": {},
   "source": [
    "# Conclusion\n",
    "\n",
    "La classification supervisée des jours tempo ne marche pas si directement que ça.\n",
    "Lorsqu'on regarde le pairplot, on voit que les classes sont très mélangées. \n",
    "\n",
    "de plus, il y a beaucoup plus de jours bleu que de jours rouge et blanc (dataset imbalanced)\n",
    "\n",
    "Ainsi, si on ne corrige pas la difference des classes, le model SVM ne prédit que des jours bleu. Si on corrige, le model SVM prédit beaucoup trop de jours rouges.\n",
    "\n",
    "Un model de Decision Tree est un peu plus nuancé, mais avec un score pas si bon que ça.\n",
    "\n",
    "Même en trichant, et en utilisant les véritable données de production ENR mesurée, la prédiction laisse a désirer...\n",
    "\n",
    "## Discussion\n",
    "\n",
    "Une solution serait d'implémenter directement le modèle utilisé par RTE : https://www.services-rte.com/files/live/sites/services-rte/files/pdf/20160106_Methode_de_choix_des_jours_Tempo.pdf"
   ]
  }
 ],
 "metadata": {
  "kernelspec": {
   "display_name": "latest",
   "language": "python",
   "name": "python3"
  },
  "language_info": {
   "codemirror_mode": {
    "name": "ipython",
    "version": 3
   },
   "file_extension": ".py",
   "mimetype": "text/x-python",
   "name": "python",
   "nbconvert_exporter": "python",
   "pygments_lexer": "ipython3",
   "version": "3.11.0"
  }
 },
 "nbformat": 4,
 "nbformat_minor": 2
}
