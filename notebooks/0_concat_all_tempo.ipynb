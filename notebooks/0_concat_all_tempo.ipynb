{
 "cells": [
  {
   "cell_type": "markdown",
   "metadata": {},
   "source": [
    "# Récupération des jours Tempos\n",
    "\n",
    "## Objectif\n",
    "Ce notebook a pour objectif de récupérer les jours Tempo.\n",
    "\n",
    "Il utilise l'API de Enedis pour récupérer les jours Tempo."
   ]
  },
  {
   "cell_type": "code",
   "execution_count": 1,
   "metadata": {},
   "outputs": [],
   "source": [
    "from pathlib import Path\n",
    "from energy_forecast.energy import TempoCalendarDownloader"
   ]
  },
  {
   "cell_type": "markdown",
   "metadata": {},
   "source": [
    "## Fetch les jours Tempo\n",
    "\n",
    "Le fichier téléchargé est un fichier CSV mais qui se termine en \"xls\" et il est zipé."
   ]
  },
  {
   "cell_type": "code",
   "execution_count": 2,
   "metadata": {},
   "outputs": [],
   "source": [
    "root_dir = Path(\"../\")\n",
    "bronze_dir: Path = root_dir / \"data\" / \"bronze\"\n",
    "filename_zip = bronze_dir / \"tempo.zip\"\n",
    "downloader = TempoCalendarDownloader(prefix=bronze_dir)\n",
    "downloader.download()"
   ]
  },
  {
   "cell_type": "markdown",
   "metadata": {},
   "source": [
    "## Conversion du fichier\n"
   ]
  },
  {
   "cell_type": "code",
   "execution_count": 3,
   "metadata": {},
   "outputs": [
    {
     "name": "stdout",
     "output_type": "stream",
     "text": [
      "<class 'pandas.core.frame.DataFrame'>\n",
      "DatetimeIndex: 3585 entries, 2014-09-01 to 2024-06-24\n",
      "Data columns (total 1 columns):\n",
      " #   Column      Non-Null Count  Dtype   \n",
      "---  ------      --------------  -----   \n",
      " 0   tempo_type  3585 non-null   category\n",
      "dtypes: category(1)\n",
      "memory usage: 31.6 KB\n"
     ]
    }
   ],
   "source": [
    "df = downloader.read_file()\n",
    "df.info()"
   ]
  },
  {
   "cell_type": "code",
   "execution_count": 4,
   "metadata": {},
   "outputs": [],
   "source": [
    "silver_dir = root_dir / \"data\" / \"silver\"\n",
    "silver_file = silver_dir / \"tempo_2014_2024.csv\"\n",
    "silver_file.parent.mkdir(parents=True, exist_ok=True)\n",
    "df.to_csv(silver_file)"
   ]
  },
  {
   "cell_type": "markdown",
   "metadata": {},
   "source": [
    "# Conclusion\n",
    "Ce notebook utilise l'API de Enedis pour récupérer l'historique des jours Tempo de 2014 à 2024.\n",
    "\n",
    "Un fichier temporaire est stocké dans le répertoir `/data/bronze` puis la version CSV est stockée dans le répertoire `/data/silver`.\n"
   ]
  },
  {
   "cell_type": "markdown",
   "metadata": {},
   "source": []
  }
 ],
 "metadata": {
  "kernelspec": {
   "display_name": "meteofrance",
   "language": "python",
   "name": "python3"
  },
  "language_info": {
   "codemirror_mode": {
    "name": "ipython",
    "version": 3
   },
   "file_extension": ".py",
   "mimetype": "text/x-python",
   "name": "python",
   "nbconvert_exporter": "python",
   "pygments_lexer": "ipython3",
   "version": "3.10.12"
  }
 },
 "nbformat": 4,
 "nbformat_minor": 2
}
